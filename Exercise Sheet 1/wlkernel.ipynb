{
 "metadata": {
  "language_info": {
   "codemirror_mode": {
    "name": "ipython",
    "version": 3
   },
   "file_extension": ".py",
   "mimetype": "text/x-python",
   "name": "python",
   "nbconvert_exporter": "python",
   "pygments_lexer": "ipython3",
   "version": "3.8.5"
  },
  "orig_nbformat": 2,
  "kernelspec": {
   "name": "python385jvsc74a57bd092fb547db5b9dfeaf65ed07e32c5495ecd012d446d51add4e69875864bffe4a6",
   "display_name": "Python 3.8.5 64-bit ('base': conda)"
  }
 },
 "nbformat": 4,
 "nbformat_minor": 2,
 "cells": [
  {
   "cell_type": "code",
   "execution_count": 1,
   "metadata": {},
   "outputs": [],
   "source": [
    "import numpy as np\n",
    "import data_utils\n",
    "import pickle\n",
    "import matplotlib.pyplot as plt\n",
    "import random\n",
    "import networkx as nx\n",
    "import collections\n",
    "import math\n"
   ]
  },
  {
   "source": [
    "with open('datasets/NCI1/data.pkl', 'rb') as f:\n",
    "    graphs = pickle.load(f)"
   ],
   "cell_type": "code",
   "metadata": {},
   "execution_count": 2,
   "outputs": []
  },
  {
   "source": [
    "G = graphs[4]\n",
    "nx.draw(G,with_labels=True)"
   ],
   "cell_type": "code",
   "metadata": {},
   "execution_count": 3,
   "outputs": [
    {
     "output_type": "display_data",
     "data": {
      "text/plain": "<Figure size 432x288 with 1 Axes>",
      "image/svg+xml": "<?xml version=\"1.0\" encoding=\"utf-8\" standalone=\"no\"?>\n<!DOCTYPE svg PUBLIC \"-//W3C//DTD SVG 1.1//EN\"\n  \"http://www.w3.org/Graphics/SVG/1.1/DTD/svg11.dtd\">\n<!-- Created with matplotlib (https://matplotlib.org/) -->\n<svg height=\"302.4pt\" version=\"1.1\" viewBox=\"0 0 446.4 302.4\" width=\"446.4pt\" xmlns=\"http://www.w3.org/2000/svg\" xmlns:xlink=\"http://www.w3.org/1999/xlink\">\n <metadata>\n  <rdf:RDF xmlns:cc=\"http://creativecommons.org/ns#\" xmlns:dc=\"http://purl.org/dc/elements/1.1/\" xmlns:rdf=\"http://www.w3.org/1999/02/22-rdf-syntax-ns#\">\n   <cc:Work>\n    <dc:type rdf:resource=\"http://purl.org/dc/dcmitype/StillImage\"/>\n    <dc:date>2021-05-04T16:21:53.704275</dc:date>\n    <dc:format>image/svg+xml</dc:format>\n    <dc:creator>\n     <cc:Agent>\n      <dc:title>Matplotlib v3.3.2, https://matplotlib.org/</dc:title>\n     </cc:Agent>\n    </dc:creator>\n   </cc:Work>\n  </rdf:RDF>\n </metadata>\n <defs>\n  <style type=\"text/css\">*{stroke-linecap:butt;stroke-linejoin:round;}</style>\n </defs>\n <g id=\"figure_1\">\n  <g id=\"patch_1\">\n   <path d=\"M 0 302.4 \nL 446.4 302.4 \nL 446.4 0 \nL 0 0 \nz\n\" style=\"fill:#ffffff;\"/>\n  </g>\n  <g id=\"axes_1\">\n   <g id=\"LineCollection_1\">\n    <path clip-path=\"url(#pb0054ad050)\" d=\"M 232.142791 230.666492 \nL 198.968637 218.352421 \n\" style=\"fill:none;stroke:#000000;\"/>\n    <path clip-path=\"url(#pb0054ad050)\" d=\"M 98.771339 44.065468 \nL 145.872194 59.199586 \n\" style=\"fill:none;stroke:#000000;\"/>\n    <path clip-path=\"url(#pb0054ad050)\" d=\"M 98.771339 44.065468 \nL 58.460269 30.685614 \n\" style=\"fill:none;stroke:#000000;\"/>\n    <path clip-path=\"url(#pb0054ad050)\" d=\"M 185.676955 233.784392 \nL 166.023128 213.469942 \n\" style=\"fill:none;stroke:#000000;\"/>\n    <path clip-path=\"url(#pb0054ad050)\" d=\"M 110.939432 282.109091 \nL 136.370795 263.849531 \n\" style=\"fill:none;stroke:#000000;\"/>\n    <path clip-path=\"url(#pb0054ad050)\" d=\"M 349.443756 54.114139 \nL 302.207832 49.814063 \n\" style=\"fill:none;stroke:#000000;\"/>\n    <path clip-path=\"url(#pb0054ad050)\" d=\"M 349.443756 54.114139 \nL 389.354254 60.894283 \n\" style=\"fill:none;stroke:#000000;\"/>\n    <path clip-path=\"url(#pb0054ad050)\" d=\"M 247.931394 38.180578 \nL 247.457609 61.77759 \n\" style=\"fill:none;stroke:#000000;\"/>\n    <path clip-path=\"url(#pb0054ad050)\" d=\"M 139.429583 35.844855 \nL 145.872194 59.199586 \n\" style=\"fill:none;stroke:#000000;\"/>\n    <path clip-path=\"url(#pb0054ad050)\" d=\"M 318.21277 26.520015 \nL 302.207832 49.814063 \n\" style=\"fill:none;stroke:#000000;\"/>\n    <path clip-path=\"url(#pb0054ad050)\" d=\"M 186.253005 181.408377 \nL 166.023128 213.469942 \n\" style=\"fill:none;stroke:#000000;\"/>\n    <path clip-path=\"url(#pb0054ad050)\" d=\"M 186.253005 181.408377 \nL 189.978551 133.124932 \n\" style=\"fill:none;stroke:#000000;\"/>\n    <path clip-path=\"url(#pb0054ad050)\" d=\"M 186.253005 181.408377 \nL 198.968637 218.352421 \n\" style=\"fill:none;stroke:#000000;\"/>\n    <path clip-path=\"url(#pb0054ad050)\" d=\"M 171.031607 249.034293 \nL 198.968637 218.352421 \n\" style=\"fill:none;stroke:#000000;\"/>\n    <path clip-path=\"url(#pb0054ad050)\" d=\"M 171.031607 249.034293 \nL 136.370795 263.849531 \n\" style=\"fill:none;stroke:#000000;\"/>\n    <path clip-path=\"url(#pb0054ad050)\" d=\"M 139.32879 238.446471 \nL 166.023128 213.469942 \n\" style=\"fill:none;stroke:#000000;\"/>\n    <path clip-path=\"url(#pb0054ad050)\" d=\"M 139.32879 238.446471 \nL 136.370795 263.849531 \n\" style=\"fill:none;stroke:#000000;\"/>\n    <path clip-path=\"url(#pb0054ad050)\" d=\"M 189.978551 133.124932 \nL 194.581306 85.245693 \n\" style=\"fill:none;stroke:#000000;\"/>\n    <path clip-path=\"url(#pb0054ad050)\" d=\"M 194.581306 85.245693 \nL 247.457609 61.77759 \n\" style=\"fill:none;stroke:#000000;\"/>\n    <path clip-path=\"url(#pb0054ad050)\" d=\"M 194.581306 85.245693 \nL 145.872194 59.199586 \n\" style=\"fill:none;stroke:#000000;\"/>\n    <path clip-path=\"url(#pb0054ad050)\" d=\"M 247.457609 61.77759 \nL 302.207832 49.814063 \n\" style=\"fill:none;stroke:#000000;\"/>\n    <path clip-path=\"url(#pb0054ad050)\" d=\"M 58.460269 30.685614 \nL 26.836364 20.290909 \n\" style=\"fill:none;stroke:#000000;\"/>\n    <path clip-path=\"url(#pb0054ad050)\" d=\"M 389.354254 60.894283 \nL 419.563636 69.564559 \n\" style=\"fill:none;stroke:#000000;\"/>\n   </g>\n   <g id=\"PathCollection_1\">\n    <defs>\n     <path d=\"M 0 8.660254 \nC 2.296726 8.660254 4.499694 7.747755 6.123724 6.123724 \nC 7.747755 4.499694 8.660254 2.296726 8.660254 0 \nC 8.660254 -2.296726 7.747755 -4.499694 6.123724 -6.123724 \nC 4.499694 -7.747755 2.296726 -8.660254 0 -8.660254 \nC -2.296726 -8.660254 -4.499694 -7.747755 -6.123724 -6.123724 \nC -7.747755 -4.499694 -8.660254 -2.296726 -8.660254 0 \nC -8.660254 2.296726 -7.747755 4.499694 -6.123724 6.123724 \nC -4.499694 7.747755 -2.296726 8.660254 0 8.660254 \nz\n\" id=\"mb43b98a1ac\" style=\"stroke:#1f78b4;\"/>\n    </defs>\n    <g clip-path=\"url(#pb0054ad050)\">\n     <use style=\"fill:#1f78b4;stroke:#1f78b4;\" x=\"232.142791\" xlink:href=\"#mb43b98a1ac\" y=\"230.666492\"/>\n     <use style=\"fill:#1f78b4;stroke:#1f78b4;\" x=\"98.771339\" xlink:href=\"#mb43b98a1ac\" y=\"44.065468\"/>\n     <use style=\"fill:#1f78b4;stroke:#1f78b4;\" x=\"185.676955\" xlink:href=\"#mb43b98a1ac\" y=\"233.784392\"/>\n     <use style=\"fill:#1f78b4;stroke:#1f78b4;\" x=\"110.939432\" xlink:href=\"#mb43b98a1ac\" y=\"282.109091\"/>\n     <use style=\"fill:#1f78b4;stroke:#1f78b4;\" x=\"349.443756\" xlink:href=\"#mb43b98a1ac\" y=\"54.114139\"/>\n     <use style=\"fill:#1f78b4;stroke:#1f78b4;\" x=\"247.931394\" xlink:href=\"#mb43b98a1ac\" y=\"38.180578\"/>\n     <use style=\"fill:#1f78b4;stroke:#1f78b4;\" x=\"139.429583\" xlink:href=\"#mb43b98a1ac\" y=\"35.844855\"/>\n     <use style=\"fill:#1f78b4;stroke:#1f78b4;\" x=\"318.21277\" xlink:href=\"#mb43b98a1ac\" y=\"26.520015\"/>\n     <use style=\"fill:#1f78b4;stroke:#1f78b4;\" x=\"186.253005\" xlink:href=\"#mb43b98a1ac\" y=\"181.408377\"/>\n     <use style=\"fill:#1f78b4;stroke:#1f78b4;\" x=\"171.031607\" xlink:href=\"#mb43b98a1ac\" y=\"249.034293\"/>\n     <use style=\"fill:#1f78b4;stroke:#1f78b4;\" x=\"139.32879\" xlink:href=\"#mb43b98a1ac\" y=\"238.446471\"/>\n     <use style=\"fill:#1f78b4;stroke:#1f78b4;\" x=\"166.023128\" xlink:href=\"#mb43b98a1ac\" y=\"213.469942\"/>\n     <use style=\"fill:#1f78b4;stroke:#1f78b4;\" x=\"189.978551\" xlink:href=\"#mb43b98a1ac\" y=\"133.124932\"/>\n     <use style=\"fill:#1f78b4;stroke:#1f78b4;\" x=\"198.968637\" xlink:href=\"#mb43b98a1ac\" y=\"218.352421\"/>\n     <use style=\"fill:#1f78b4;stroke:#1f78b4;\" x=\"136.370795\" xlink:href=\"#mb43b98a1ac\" y=\"263.849531\"/>\n     <use style=\"fill:#1f78b4;stroke:#1f78b4;\" x=\"194.581306\" xlink:href=\"#mb43b98a1ac\" y=\"85.245693\"/>\n     <use style=\"fill:#1f78b4;stroke:#1f78b4;\" x=\"247.457609\" xlink:href=\"#mb43b98a1ac\" y=\"61.77759\"/>\n     <use style=\"fill:#1f78b4;stroke:#1f78b4;\" x=\"145.872194\" xlink:href=\"#mb43b98a1ac\" y=\"59.199586\"/>\n     <use style=\"fill:#1f78b4;stroke:#1f78b4;\" x=\"58.460269\" xlink:href=\"#mb43b98a1ac\" y=\"30.685614\"/>\n     <use style=\"fill:#1f78b4;stroke:#1f78b4;\" x=\"302.207832\" xlink:href=\"#mb43b98a1ac\" y=\"49.814063\"/>\n     <use style=\"fill:#1f78b4;stroke:#1f78b4;\" x=\"389.354254\" xlink:href=\"#mb43b98a1ac\" y=\"60.894283\"/>\n     <use style=\"fill:#1f78b4;stroke:#1f78b4;\" x=\"26.836364\" xlink:href=\"#mb43b98a1ac\" y=\"20.290909\"/>\n     <use style=\"fill:#1f78b4;stroke:#1f78b4;\" x=\"419.563636\" xlink:href=\"#mb43b98a1ac\" y=\"69.564559\"/>\n    </g>\n   </g>\n   <g id=\"text_1\">\n    <g clip-path=\"url(#pb0054ad050)\">\n     <!-- 103 -->\n     <g transform=\"translate(220.690291 233.977742)scale(0.12 -0.12)\">\n      <defs>\n       <path d=\"M 12.40625 8.296875 \nL 28.515625 8.296875 \nL 28.515625 63.921875 \nL 10.984375 60.40625 \nL 10.984375 69.390625 \nL 28.421875 72.90625 \nL 38.28125 72.90625 \nL 38.28125 8.296875 \nL 54.390625 8.296875 \nL 54.390625 0 \nL 12.40625 0 \nz\n\" id=\"DejaVuSans-49\"/>\n       <path d=\"M 31.78125 66.40625 \nQ 24.171875 66.40625 20.328125 58.90625 \nQ 16.5 51.421875 16.5 36.375 \nQ 16.5 21.390625 20.328125 13.890625 \nQ 24.171875 6.390625 31.78125 6.390625 \nQ 39.453125 6.390625 43.28125 13.890625 \nQ 47.125 21.390625 47.125 36.375 \nQ 47.125 51.421875 43.28125 58.90625 \nQ 39.453125 66.40625 31.78125 66.40625 \nz\nM 31.78125 74.21875 \nQ 44.046875 74.21875 50.515625 64.515625 \nQ 56.984375 54.828125 56.984375 36.375 \nQ 56.984375 17.96875 50.515625 8.265625 \nQ 44.046875 -1.421875 31.78125 -1.421875 \nQ 19.53125 -1.421875 13.0625 8.265625 \nQ 6.59375 17.96875 6.59375 36.375 \nQ 6.59375 54.828125 13.0625 64.515625 \nQ 19.53125 74.21875 31.78125 74.21875 \nz\n\" id=\"DejaVuSans-48\"/>\n       <path d=\"M 40.578125 39.3125 \nQ 47.65625 37.796875 51.625 33 \nQ 55.609375 28.21875 55.609375 21.1875 \nQ 55.609375 10.40625 48.1875 4.484375 \nQ 40.765625 -1.421875 27.09375 -1.421875 \nQ 22.515625 -1.421875 17.65625 -0.515625 \nQ 12.796875 0.390625 7.625 2.203125 \nL 7.625 11.71875 \nQ 11.71875 9.328125 16.59375 8.109375 \nQ 21.484375 6.890625 26.8125 6.890625 \nQ 36.078125 6.890625 40.9375 10.546875 \nQ 45.796875 14.203125 45.796875 21.1875 \nQ 45.796875 27.640625 41.28125 31.265625 \nQ 36.765625 34.90625 28.71875 34.90625 \nL 20.21875 34.90625 \nL 20.21875 43.015625 \nL 29.109375 43.015625 \nQ 36.375 43.015625 40.234375 45.921875 \nQ 44.09375 48.828125 44.09375 54.296875 \nQ 44.09375 59.90625 40.109375 62.90625 \nQ 36.140625 65.921875 28.71875 65.921875 \nQ 24.65625 65.921875 20.015625 65.03125 \nQ 15.375 64.15625 9.8125 62.3125 \nL 9.8125 71.09375 \nQ 15.4375 72.65625 20.34375 73.4375 \nQ 25.25 74.21875 29.59375 74.21875 \nQ 40.828125 74.21875 47.359375 69.109375 \nQ 53.90625 64.015625 53.90625 55.328125 \nQ 53.90625 49.265625 50.4375 45.09375 \nQ 46.96875 40.921875 40.578125 39.3125 \nz\n\" id=\"DejaVuSans-51\"/>\n      </defs>\n      <use xlink:href=\"#DejaVuSans-49\"/>\n      <use x=\"63.623047\" xlink:href=\"#DejaVuSans-48\"/>\n      <use x=\"127.246094\" xlink:href=\"#DejaVuSans-51\"/>\n     </g>\n    </g>\n   </g>\n   <g id=\"text_2\">\n    <g clip-path=\"url(#pb0054ad050)\">\n     <!-- 104 -->\n     <g transform=\"translate(87.318839 47.376718)scale(0.12 -0.12)\">\n      <defs>\n       <path d=\"M 37.796875 64.3125 \nL 12.890625 25.390625 \nL 37.796875 25.390625 \nz\nM 35.203125 72.90625 \nL 47.609375 72.90625 \nL 47.609375 25.390625 \nL 58.015625 25.390625 \nL 58.015625 17.1875 \nL 47.609375 17.1875 \nL 47.609375 0 \nL 37.796875 0 \nL 37.796875 17.1875 \nL 4.890625 17.1875 \nL 4.890625 26.703125 \nz\n\" id=\"DejaVuSans-52\"/>\n      </defs>\n      <use xlink:href=\"#DejaVuSans-49\"/>\n      <use x=\"63.623047\" xlink:href=\"#DejaVuSans-48\"/>\n      <use x=\"127.246094\" xlink:href=\"#DejaVuSans-52\"/>\n     </g>\n    </g>\n   </g>\n   <g id=\"text_3\">\n    <g clip-path=\"url(#pb0054ad050)\">\n     <!-- 105 -->\n     <g transform=\"translate(174.224455 237.095642)scale(0.12 -0.12)\">\n      <defs>\n       <path d=\"M 10.796875 72.90625 \nL 49.515625 72.90625 \nL 49.515625 64.59375 \nL 19.828125 64.59375 \nL 19.828125 46.734375 \nQ 21.96875 47.46875 24.109375 47.828125 \nQ 26.265625 48.1875 28.421875 48.1875 \nQ 40.625 48.1875 47.75 41.5 \nQ 54.890625 34.8125 54.890625 23.390625 \nQ 54.890625 11.625 47.5625 5.09375 \nQ 40.234375 -1.421875 26.90625 -1.421875 \nQ 22.3125 -1.421875 17.546875 -0.640625 \nQ 12.796875 0.140625 7.71875 1.703125 \nL 7.71875 11.625 \nQ 12.109375 9.234375 16.796875 8.0625 \nQ 21.484375 6.890625 26.703125 6.890625 \nQ 35.15625 6.890625 40.078125 11.328125 \nQ 45.015625 15.765625 45.015625 23.390625 \nQ 45.015625 31 40.078125 35.4375 \nQ 35.15625 39.890625 26.703125 39.890625 \nQ 22.75 39.890625 18.8125 39.015625 \nQ 14.890625 38.140625 10.796875 36.28125 \nz\n\" id=\"DejaVuSans-53\"/>\n      </defs>\n      <use xlink:href=\"#DejaVuSans-49\"/>\n      <use x=\"63.623047\" xlink:href=\"#DejaVuSans-48\"/>\n      <use x=\"127.246094\" xlink:href=\"#DejaVuSans-53\"/>\n     </g>\n    </g>\n   </g>\n   <g id=\"text_4\">\n    <g clip-path=\"url(#pb0054ad050)\">\n     <!-- 106 -->\n     <g transform=\"translate(99.486932 285.420341)scale(0.12 -0.12)\">\n      <defs>\n       <path d=\"M 33.015625 40.375 \nQ 26.375 40.375 22.484375 35.828125 \nQ 18.609375 31.296875 18.609375 23.390625 \nQ 18.609375 15.53125 22.484375 10.953125 \nQ 26.375 6.390625 33.015625 6.390625 \nQ 39.65625 6.390625 43.53125 10.953125 \nQ 47.40625 15.53125 47.40625 23.390625 \nQ 47.40625 31.296875 43.53125 35.828125 \nQ 39.65625 40.375 33.015625 40.375 \nz\nM 52.59375 71.296875 \nL 52.59375 62.3125 \nQ 48.875 64.0625 45.09375 64.984375 \nQ 41.3125 65.921875 37.59375 65.921875 \nQ 27.828125 65.921875 22.671875 59.328125 \nQ 17.53125 52.734375 16.796875 39.40625 \nQ 19.671875 43.65625 24.015625 45.921875 \nQ 28.375 48.1875 33.59375 48.1875 \nQ 44.578125 48.1875 50.953125 41.515625 \nQ 57.328125 34.859375 57.328125 23.390625 \nQ 57.328125 12.15625 50.6875 5.359375 \nQ 44.046875 -1.421875 33.015625 -1.421875 \nQ 20.359375 -1.421875 13.671875 8.265625 \nQ 6.984375 17.96875 6.984375 36.375 \nQ 6.984375 53.65625 15.1875 63.9375 \nQ 23.390625 74.21875 37.203125 74.21875 \nQ 40.921875 74.21875 44.703125 73.484375 \nQ 48.484375 72.75 52.59375 71.296875 \nz\n\" id=\"DejaVuSans-54\"/>\n      </defs>\n      <use xlink:href=\"#DejaVuSans-49\"/>\n      <use x=\"63.623047\" xlink:href=\"#DejaVuSans-48\"/>\n      <use x=\"127.246094\" xlink:href=\"#DejaVuSans-54\"/>\n     </g>\n    </g>\n   </g>\n   <g id=\"text_5\">\n    <g clip-path=\"url(#pb0054ad050)\">\n     <!-- 107 -->\n     <g transform=\"translate(337.991256 57.425389)scale(0.12 -0.12)\">\n      <defs>\n       <path d=\"M 8.203125 72.90625 \nL 55.078125 72.90625 \nL 55.078125 68.703125 \nL 28.609375 0 \nL 18.3125 0 \nL 43.21875 64.59375 \nL 8.203125 64.59375 \nz\n\" id=\"DejaVuSans-55\"/>\n      </defs>\n      <use xlink:href=\"#DejaVuSans-49\"/>\n      <use x=\"63.623047\" xlink:href=\"#DejaVuSans-48\"/>\n      <use x=\"127.246094\" xlink:href=\"#DejaVuSans-55\"/>\n     </g>\n    </g>\n   </g>\n   <g id=\"text_6\">\n    <g clip-path=\"url(#pb0054ad050)\">\n     <!-- 108 -->\n     <g transform=\"translate(236.478894 41.491828)scale(0.12 -0.12)\">\n      <defs>\n       <path d=\"M 31.78125 34.625 \nQ 24.75 34.625 20.71875 30.859375 \nQ 16.703125 27.09375 16.703125 20.515625 \nQ 16.703125 13.921875 20.71875 10.15625 \nQ 24.75 6.390625 31.78125 6.390625 \nQ 38.8125 6.390625 42.859375 10.171875 \nQ 46.921875 13.96875 46.921875 20.515625 \nQ 46.921875 27.09375 42.890625 30.859375 \nQ 38.875 34.625 31.78125 34.625 \nz\nM 21.921875 38.8125 \nQ 15.578125 40.375 12.03125 44.71875 \nQ 8.5 49.078125 8.5 55.328125 \nQ 8.5 64.0625 14.71875 69.140625 \nQ 20.953125 74.21875 31.78125 74.21875 \nQ 42.671875 74.21875 48.875 69.140625 \nQ 55.078125 64.0625 55.078125 55.328125 \nQ 55.078125 49.078125 51.53125 44.71875 \nQ 48 40.375 41.703125 38.8125 \nQ 48.828125 37.15625 52.796875 32.3125 \nQ 56.78125 27.484375 56.78125 20.515625 \nQ 56.78125 9.90625 50.3125 4.234375 \nQ 43.84375 -1.421875 31.78125 -1.421875 \nQ 19.734375 -1.421875 13.25 4.234375 \nQ 6.78125 9.90625 6.78125 20.515625 \nQ 6.78125 27.484375 10.78125 32.3125 \nQ 14.796875 37.15625 21.921875 38.8125 \nz\nM 18.3125 54.390625 \nQ 18.3125 48.734375 21.84375 45.5625 \nQ 25.390625 42.390625 31.78125 42.390625 \nQ 38.140625 42.390625 41.71875 45.5625 \nQ 45.3125 48.734375 45.3125 54.390625 \nQ 45.3125 60.0625 41.71875 63.234375 \nQ 38.140625 66.40625 31.78125 66.40625 \nQ 25.390625 66.40625 21.84375 63.234375 \nQ 18.3125 60.0625 18.3125 54.390625 \nz\n\" id=\"DejaVuSans-56\"/>\n      </defs>\n      <use xlink:href=\"#DejaVuSans-49\"/>\n      <use x=\"63.623047\" xlink:href=\"#DejaVuSans-48\"/>\n      <use x=\"127.246094\" xlink:href=\"#DejaVuSans-56\"/>\n     </g>\n    </g>\n   </g>\n   <g id=\"text_7\">\n    <g clip-path=\"url(#pb0054ad050)\">\n     <!-- 109 -->\n     <g transform=\"translate(127.977083 39.156105)scale(0.12 -0.12)\">\n      <defs>\n       <path d=\"M 10.984375 1.515625 \nL 10.984375 10.5 \nQ 14.703125 8.734375 18.5 7.8125 \nQ 22.3125 6.890625 25.984375 6.890625 \nQ 35.75 6.890625 40.890625 13.453125 \nQ 46.046875 20.015625 46.78125 33.40625 \nQ 43.953125 29.203125 39.59375 26.953125 \nQ 35.25 24.703125 29.984375 24.703125 \nQ 19.046875 24.703125 12.671875 31.3125 \nQ 6.296875 37.9375 6.296875 49.421875 \nQ 6.296875 60.640625 12.9375 67.421875 \nQ 19.578125 74.21875 30.609375 74.21875 \nQ 43.265625 74.21875 49.921875 64.515625 \nQ 56.59375 54.828125 56.59375 36.375 \nQ 56.59375 19.140625 48.40625 8.859375 \nQ 40.234375 -1.421875 26.421875 -1.421875 \nQ 22.703125 -1.421875 18.890625 -0.6875 \nQ 15.09375 0.046875 10.984375 1.515625 \nz\nM 30.609375 32.421875 \nQ 37.25 32.421875 41.125 36.953125 \nQ 45.015625 41.5 45.015625 49.421875 \nQ 45.015625 57.28125 41.125 61.84375 \nQ 37.25 66.40625 30.609375 66.40625 \nQ 23.96875 66.40625 20.09375 61.84375 \nQ 16.21875 57.28125 16.21875 49.421875 \nQ 16.21875 41.5 20.09375 36.953125 \nQ 23.96875 32.421875 30.609375 32.421875 \nz\n\" id=\"DejaVuSans-57\"/>\n      </defs>\n      <use xlink:href=\"#DejaVuSans-49\"/>\n      <use x=\"63.623047\" xlink:href=\"#DejaVuSans-48\"/>\n      <use x=\"127.246094\" xlink:href=\"#DejaVuSans-57\"/>\n     </g>\n    </g>\n   </g>\n   <g id=\"text_8\">\n    <g clip-path=\"url(#pb0054ad050)\">\n     <!-- 110 -->\n     <g transform=\"translate(306.76027 29.831265)scale(0.12 -0.12)\">\n      <use xlink:href=\"#DejaVuSans-49\"/>\n      <use x=\"63.623047\" xlink:href=\"#DejaVuSans-49\"/>\n      <use x=\"127.246094\" xlink:href=\"#DejaVuSans-48\"/>\n     </g>\n    </g>\n   </g>\n   <g id=\"text_9\">\n    <g clip-path=\"url(#pb0054ad050)\">\n     <!-- 111 -->\n     <g transform=\"translate(174.800505 184.719627)scale(0.12 -0.12)\">\n      <use xlink:href=\"#DejaVuSans-49\"/>\n      <use x=\"63.623047\" xlink:href=\"#DejaVuSans-49\"/>\n      <use x=\"127.246094\" xlink:href=\"#DejaVuSans-49\"/>\n     </g>\n    </g>\n   </g>\n   <g id=\"text_10\">\n    <g clip-path=\"url(#pb0054ad050)\">\n     <!-- 112 -->\n     <g transform=\"translate(159.579107 252.345543)scale(0.12 -0.12)\">\n      <defs>\n       <path d=\"M 19.1875 8.296875 \nL 53.609375 8.296875 \nL 53.609375 0 \nL 7.328125 0 \nL 7.328125 8.296875 \nQ 12.9375 14.109375 22.625 23.890625 \nQ 32.328125 33.6875 34.8125 36.53125 \nQ 39.546875 41.84375 41.421875 45.53125 \nQ 43.3125 49.21875 43.3125 52.78125 \nQ 43.3125 58.59375 39.234375 62.25 \nQ 35.15625 65.921875 28.609375 65.921875 \nQ 23.96875 65.921875 18.8125 64.3125 \nQ 13.671875 62.703125 7.8125 59.421875 \nL 7.8125 69.390625 \nQ 13.765625 71.78125 18.9375 73 \nQ 24.125 74.21875 28.421875 74.21875 \nQ 39.75 74.21875 46.484375 68.546875 \nQ 53.21875 62.890625 53.21875 53.421875 \nQ 53.21875 48.921875 51.53125 44.890625 \nQ 49.859375 40.875 45.40625 35.40625 \nQ 44.1875 33.984375 37.640625 27.21875 \nQ 31.109375 20.453125 19.1875 8.296875 \nz\n\" id=\"DejaVuSans-50\"/>\n      </defs>\n      <use xlink:href=\"#DejaVuSans-49\"/>\n      <use x=\"63.623047\" xlink:href=\"#DejaVuSans-49\"/>\n      <use x=\"127.246094\" xlink:href=\"#DejaVuSans-50\"/>\n     </g>\n    </g>\n   </g>\n   <g id=\"text_11\">\n    <g clip-path=\"url(#pb0054ad050)\">\n     <!-- 113 -->\n     <g transform=\"translate(127.87629 241.757721)scale(0.12 -0.12)\">\n      <use xlink:href=\"#DejaVuSans-49\"/>\n      <use x=\"63.623047\" xlink:href=\"#DejaVuSans-49\"/>\n      <use x=\"127.246094\" xlink:href=\"#DejaVuSans-51\"/>\n     </g>\n    </g>\n   </g>\n   <g id=\"text_12\">\n    <g clip-path=\"url(#pb0054ad050)\">\n     <!-- 114 -->\n     <g transform=\"translate(154.570628 216.781192)scale(0.12 -0.12)\">\n      <use xlink:href=\"#DejaVuSans-49\"/>\n      <use x=\"63.623047\" xlink:href=\"#DejaVuSans-49\"/>\n      <use x=\"127.246094\" xlink:href=\"#DejaVuSans-52\"/>\n     </g>\n    </g>\n   </g>\n   <g id=\"text_13\">\n    <g clip-path=\"url(#pb0054ad050)\">\n     <!-- 115 -->\n     <g transform=\"translate(178.526051 136.436182)scale(0.12 -0.12)\">\n      <use xlink:href=\"#DejaVuSans-49\"/>\n      <use x=\"63.623047\" xlink:href=\"#DejaVuSans-49\"/>\n      <use x=\"127.246094\" xlink:href=\"#DejaVuSans-53\"/>\n     </g>\n    </g>\n   </g>\n   <g id=\"text_14\">\n    <g clip-path=\"url(#pb0054ad050)\">\n     <!-- 116 -->\n     <g transform=\"translate(187.516137 221.663671)scale(0.12 -0.12)\">\n      <use xlink:href=\"#DejaVuSans-49\"/>\n      <use x=\"63.623047\" xlink:href=\"#DejaVuSans-49\"/>\n      <use x=\"127.246094\" xlink:href=\"#DejaVuSans-54\"/>\n     </g>\n    </g>\n   </g>\n   <g id=\"text_15\">\n    <g clip-path=\"url(#pb0054ad050)\">\n     <!-- 117 -->\n     <g transform=\"translate(124.918295 267.160781)scale(0.12 -0.12)\">\n      <use xlink:href=\"#DejaVuSans-49\"/>\n      <use x=\"63.623047\" xlink:href=\"#DejaVuSans-49\"/>\n      <use x=\"127.246094\" xlink:href=\"#DejaVuSans-55\"/>\n     </g>\n    </g>\n   </g>\n   <g id=\"text_16\">\n    <g clip-path=\"url(#pb0054ad050)\">\n     <!-- 118 -->\n     <g transform=\"translate(183.128806 88.556943)scale(0.12 -0.12)\">\n      <use xlink:href=\"#DejaVuSans-49\"/>\n      <use x=\"63.623047\" xlink:href=\"#DejaVuSans-49\"/>\n      <use x=\"127.246094\" xlink:href=\"#DejaVuSans-56\"/>\n     </g>\n    </g>\n   </g>\n   <g id=\"text_17\">\n    <g clip-path=\"url(#pb0054ad050)\">\n     <!-- 119 -->\n     <g transform=\"translate(236.005109 65.08884)scale(0.12 -0.12)\">\n      <use xlink:href=\"#DejaVuSans-49\"/>\n      <use x=\"63.623047\" xlink:href=\"#DejaVuSans-49\"/>\n      <use x=\"127.246094\" xlink:href=\"#DejaVuSans-57\"/>\n     </g>\n    </g>\n   </g>\n   <g id=\"text_18\">\n    <g clip-path=\"url(#pb0054ad050)\">\n     <!-- 120 -->\n     <g transform=\"translate(134.419694 62.510836)scale(0.12 -0.12)\">\n      <use xlink:href=\"#DejaVuSans-49\"/>\n      <use x=\"63.623047\" xlink:href=\"#DejaVuSans-50\"/>\n      <use x=\"127.246094\" xlink:href=\"#DejaVuSans-48\"/>\n     </g>\n    </g>\n   </g>\n   <g id=\"text_19\">\n    <g clip-path=\"url(#pb0054ad050)\">\n     <!-- 121 -->\n     <g transform=\"translate(47.007769 33.996864)scale(0.12 -0.12)\">\n      <use xlink:href=\"#DejaVuSans-49\"/>\n      <use x=\"63.623047\" xlink:href=\"#DejaVuSans-50\"/>\n      <use x=\"127.246094\" xlink:href=\"#DejaVuSans-49\"/>\n     </g>\n    </g>\n   </g>\n   <g id=\"text_20\">\n    <g clip-path=\"url(#pb0054ad050)\">\n     <!-- 122 -->\n     <g transform=\"translate(290.755332 53.125313)scale(0.12 -0.12)\">\n      <use xlink:href=\"#DejaVuSans-49\"/>\n      <use x=\"63.623047\" xlink:href=\"#DejaVuSans-50\"/>\n      <use x=\"127.246094\" xlink:href=\"#DejaVuSans-50\"/>\n     </g>\n    </g>\n   </g>\n   <g id=\"text_21\">\n    <g clip-path=\"url(#pb0054ad050)\">\n     <!-- 123 -->\n     <g transform=\"translate(377.901754 64.205533)scale(0.12 -0.12)\">\n      <use xlink:href=\"#DejaVuSans-49\"/>\n      <use x=\"63.623047\" xlink:href=\"#DejaVuSans-50\"/>\n      <use x=\"127.246094\" xlink:href=\"#DejaVuSans-51\"/>\n     </g>\n    </g>\n   </g>\n   <g id=\"text_22\">\n    <g clip-path=\"url(#pb0054ad050)\">\n     <!-- 124 -->\n     <g transform=\"translate(15.383864 23.602159)scale(0.12 -0.12)\">\n      <use xlink:href=\"#DejaVuSans-49\"/>\n      <use x=\"63.623047\" xlink:href=\"#DejaVuSans-50\"/>\n      <use x=\"127.246094\" xlink:href=\"#DejaVuSans-52\"/>\n     </g>\n    </g>\n   </g>\n   <g id=\"text_23\">\n    <g clip-path=\"url(#pb0054ad050)\">\n     <!-- 125 -->\n     <g transform=\"translate(408.111136 72.875809)scale(0.12 -0.12)\">\n      <use xlink:href=\"#DejaVuSans-49\"/>\n      <use x=\"63.623047\" xlink:href=\"#DejaVuSans-50\"/>\n      <use x=\"127.246094\" xlink:href=\"#DejaVuSans-53\"/>\n     </g>\n    </g>\n   </g>\n  </g>\n </g>\n <defs>\n  <clipPath id=\"pb0054ad050\">\n   <rect height=\"288\" width=\"432\" x=\"7.2\" y=\"7.2\"/>\n  </clipPath>\n </defs>\n</svg>\n",
      "image/png": "[encoded data removed]"
     },
     "metadata": {}
    }
   ]
  },
  {
   "source": [
    "G1 = graphs[7]\n",
    "nx.draw(G1,with_labels=True)"
   ],
   "cell_type": "code",
   "metadata": {},
   "execution_count": 4,
   "outputs": [
    {
     "output_type": "display_data",
     "data": {
      "text/plain": "<Figure size 432x288 with 1 Axes>",
      "image/svg+xml": "<?xml version=\"1.0\" encoding=\"utf-8\" standalone=\"no\"?>\n<!DOCTYPE svg PUBLIC \"-//W3C//DTD SVG 1.1//EN\"\n  \"http://www.w3.org/Graphics/SVG/1.1/DTD/svg11.dtd\">\n<!-- Created with matplotlib (https://matplotlib.org/) -->\n<svg height=\"302.4pt\" version=\"1.1\" viewBox=\"0 0 446.4 302.4\" width=\"446.4pt\" xmlns=\"http://www.w3.org/2000/svg\" xmlns:xlink=\"http://www.w3.org/1999/xlink\">\n <metadata>\n  <rdf:RDF xmlns:cc=\"http://creativecommons.org/ns#\" xmlns:dc=\"http://purl.org/dc/elements/1.1/\" xmlns:rdf=\"http://www.w3.org/1999/02/22-rdf-syntax-ns#\">\n   <cc:Work>\n    <dc:type rdf:resource=\"http://purl.org/dc/dcmitype/StillImage\"/>\n    <dc:date>2021-05-04T16:21:54.207093</dc:date>\n    <dc:format>image/svg+xml</dc:format>\n    <dc:creator>\n     <cc:Agent>\n      <dc:title>Matplotlib v3.3.2, https://matplotlib.org/</dc:title>\n     </cc:Agent>\n    </dc:creator>\n   </cc:Work>\n  </rdf:RDF>\n </metadata>\n <defs>\n  <style type=\"text/css\">*{stroke-linecap:butt;stroke-linejoin:round;}</style>\n </defs>\n <g id=\"figure_1\">\n  <g id=\"patch_1\">\n   <path d=\"M 0 302.4 \nL 446.4 302.4 \nL 446.4 0 \nL 0 0 \nz\n\" style=\"fill:#ffffff;\"/>\n  </g>\n  <g id=\"axes_1\">\n   <g id=\"LineCollection_1\">\n    <path clip-path=\"url(#p5b997bda42)\" d=\"M 146.047145 20.290909 \nL 175.119101 63.584397 \n\" style=\"fill:none;stroke:#000000;\"/>\n    <path clip-path=\"url(#p5b997bda42)\" d=\"M 233.907904 133.872589 \nL 162.025913 160.565346 \n\" style=\"fill:none;stroke:#000000;\"/>\n    <path clip-path=\"url(#p5b997bda42)\" d=\"M 233.907904 133.872589 \nL 292.986254 92.339176 \n\" style=\"fill:none;stroke:#000000;\"/>\n    <path clip-path=\"url(#p5b997bda42)\" d=\"M 26.836364 282.109091 \nL 55.389602 239.585039 \n\" style=\"fill:none;stroke:#000000;\"/>\n    <path clip-path=\"url(#p5b997bda42)\" d=\"M 162.025913 160.565346 \nL 127.012184 116.810974 \n\" style=\"fill:none;stroke:#000000;\"/>\n    <path clip-path=\"url(#p5b997bda42)\" d=\"M 162.025913 160.565346 \nL 113.84123 209.585276 \n\" style=\"fill:none;stroke:#000000;\"/>\n    <path clip-path=\"url(#p5b997bda42)\" d=\"M 127.012184 116.810974 \nL 175.119101 63.584397 \n\" style=\"fill:none;stroke:#000000;\"/>\n    <path clip-path=\"url(#p5b997bda42)\" d=\"M 127.012184 116.810974 \nL 65.057009 149.887322 \n\" style=\"fill:none;stroke:#000000;\"/>\n    <path clip-path=\"url(#p5b997bda42)\" d=\"M 292.986254 92.339176 \nL 256.837722 61.533298 \n\" style=\"fill:none;stroke:#000000;\"/>\n    <path clip-path=\"url(#p5b997bda42)\" d=\"M 292.986254 92.339176 \nL 362.264251 61.725088 \n\" style=\"fill:none;stroke:#000000;\"/>\n    <path clip-path=\"url(#p5b997bda42)\" d=\"M 256.837722 61.533298 \nL 175.119101 63.584397 \n\" style=\"fill:none;stroke:#000000;\"/>\n    <path clip-path=\"url(#p5b997bda42)\" d=\"M 256.837722 61.533298 \nL 328.600936 61.383119 \n\" style=\"fill:none;stroke:#000000;\"/>\n    <path clip-path=\"url(#p5b997bda42)\" d=\"M 113.84123 209.585276 \nL 55.389602 239.585039 \n\" style=\"fill:none;stroke:#000000;\"/>\n    <path clip-path=\"url(#p5b997bda42)\" d=\"M 65.057009 149.887322 \nL 34.808535 196.350853 \n\" style=\"fill:none;stroke:#000000;\"/>\n    <path clip-path=\"url(#p5b997bda42)\" d=\"M 362.264251 61.725088 \nL 419.563636 43.911563 \n\" style=\"fill:none;stroke:#000000;\"/>\n    <path clip-path=\"url(#p5b997bda42)\" d=\"M 328.600936 61.383119 \nL 396.499008 65.994893 \n\" style=\"fill:none;stroke:#000000;\"/>\n    <path clip-path=\"url(#p5b997bda42)\" d=\"M 55.389602 239.585039 \nL 34.808535 196.350853 \n\" style=\"fill:none;stroke:#000000;\"/>\n    <path clip-path=\"url(#p5b997bda42)\" d=\"M 419.563636 43.911563 \nL 396.499008 65.994893 \n\" style=\"fill:none;stroke:#000000;\"/>\n   </g>\n   <g id=\"PathCollection_1\">\n    <defs>\n     <path d=\"M 0 8.660254 \nC 2.296726 8.660254 4.499694 7.747755 6.123724 6.123724 \nC 7.747755 4.499694 8.660254 2.296726 8.660254 0 \nC 8.660254 -2.296726 7.747755 -4.499694 6.123724 -6.123724 \nC 4.499694 -7.747755 2.296726 -8.660254 0 -8.660254 \nC -2.296726 -8.660254 -4.499694 -7.747755 -6.123724 -6.123724 \nC -7.747755 -4.499694 -8.660254 -2.296726 -8.660254 0 \nC -8.660254 2.296726 -7.747755 4.499694 -6.123724 6.123724 \nC -4.499694 7.747755 -2.296726 8.660254 0 8.660254 \nz\n\" id=\"mb83f7c993c\" style=\"stroke:#1f78b4;\"/>\n    </defs>\n    <g clip-path=\"url(#p5b997bda42)\">\n     <use style=\"fill:#1f78b4;stroke:#1f78b4;\" x=\"146.047145\" xlink:href=\"#mb83f7c993c\" y=\"20.290909\"/>\n     <use style=\"fill:#1f78b4;stroke:#1f78b4;\" x=\"233.907904\" xlink:href=\"#mb83f7c993c\" y=\"133.872589\"/>\n     <use style=\"fill:#1f78b4;stroke:#1f78b4;\" x=\"26.836364\" xlink:href=\"#mb83f7c993c\" y=\"282.109091\"/>\n     <use style=\"fill:#1f78b4;stroke:#1f78b4;\" x=\"162.025913\" xlink:href=\"#mb83f7c993c\" y=\"160.565346\"/>\n     <use style=\"fill:#1f78b4;stroke:#1f78b4;\" x=\"127.012184\" xlink:href=\"#mb83f7c993c\" y=\"116.810974\"/>\n     <use style=\"fill:#1f78b4;stroke:#1f78b4;\" x=\"292.986254\" xlink:href=\"#mb83f7c993c\" y=\"92.339176\"/>\n     <use style=\"fill:#1f78b4;stroke:#1f78b4;\" x=\"256.837722\" xlink:href=\"#mb83f7c993c\" y=\"61.533298\"/>\n     <use style=\"fill:#1f78b4;stroke:#1f78b4;\" x=\"175.119101\" xlink:href=\"#mb83f7c993c\" y=\"63.584397\"/>\n     <use style=\"fill:#1f78b4;stroke:#1f78b4;\" x=\"113.84123\" xlink:href=\"#mb83f7c993c\" y=\"209.585276\"/>\n     <use style=\"fill:#1f78b4;stroke:#1f78b4;\" x=\"65.057009\" xlink:href=\"#mb83f7c993c\" y=\"149.887322\"/>\n     <use style=\"fill:#1f78b4;stroke:#1f78b4;\" x=\"362.264251\" xlink:href=\"#mb83f7c993c\" y=\"61.725088\"/>\n     <use style=\"fill:#1f78b4;stroke:#1f78b4;\" x=\"328.600936\" xlink:href=\"#mb83f7c993c\" y=\"61.383119\"/>\n     <use style=\"fill:#1f78b4;stroke:#1f78b4;\" x=\"55.389602\" xlink:href=\"#mb83f7c993c\" y=\"239.585039\"/>\n     <use style=\"fill:#1f78b4;stroke:#1f78b4;\" x=\"34.808535\" xlink:href=\"#mb83f7c993c\" y=\"196.350853\"/>\n     <use style=\"fill:#1f78b4;stroke:#1f78b4;\" x=\"419.563636\" xlink:href=\"#mb83f7c993c\" y=\"43.911563\"/>\n     <use style=\"fill:#1f78b4;stroke:#1f78b4;\" x=\"396.499008\" xlink:href=\"#mb83f7c993c\" y=\"65.994893\"/>\n    </g>\n   </g>\n   <g id=\"text_1\">\n    <g clip-path=\"url(#p5b997bda42)\">\n     <!-- 165 -->\n     <g transform=\"translate(134.594645 23.602159)scale(0.12 -0.12)\">\n      <defs>\n       <path d=\"M 12.40625 8.296875 \nL 28.515625 8.296875 \nL 28.515625 63.921875 \nL 10.984375 60.40625 \nL 10.984375 69.390625 \nL 28.421875 72.90625 \nL 38.28125 72.90625 \nL 38.28125 8.296875 \nL 54.390625 8.296875 \nL 54.390625 0 \nL 12.40625 0 \nz\n\" id=\"DejaVuSans-49\"/>\n       <path d=\"M 33.015625 40.375 \nQ 26.375 40.375 22.484375 35.828125 \nQ 18.609375 31.296875 18.609375 23.390625 \nQ 18.609375 15.53125 22.484375 10.953125 \nQ 26.375 6.390625 33.015625 6.390625 \nQ 39.65625 6.390625 43.53125 10.953125 \nQ 47.40625 15.53125 47.40625 23.390625 \nQ 47.40625 31.296875 43.53125 35.828125 \nQ 39.65625 40.375 33.015625 40.375 \nz\nM 52.59375 71.296875 \nL 52.59375 62.3125 \nQ 48.875 64.0625 45.09375 64.984375 \nQ 41.3125 65.921875 37.59375 65.921875 \nQ 27.828125 65.921875 22.671875 59.328125 \nQ 17.53125 52.734375 16.796875 39.40625 \nQ 19.671875 43.65625 24.015625 45.921875 \nQ 28.375 48.1875 33.59375 48.1875 \nQ 44.578125 48.1875 50.953125 41.515625 \nQ 57.328125 34.859375 57.328125 23.390625 \nQ 57.328125 12.15625 50.6875 5.359375 \nQ 44.046875 -1.421875 33.015625 -1.421875 \nQ 20.359375 -1.421875 13.671875 8.265625 \nQ 6.984375 17.96875 6.984375 36.375 \nQ 6.984375 53.65625 15.1875 63.9375 \nQ 23.390625 74.21875 37.203125 74.21875 \nQ 40.921875 74.21875 44.703125 73.484375 \nQ 48.484375 72.75 52.59375 71.296875 \nz\n\" id=\"DejaVuSans-54\"/>\n       <path d=\"M 10.796875 72.90625 \nL 49.515625 72.90625 \nL 49.515625 64.59375 \nL 19.828125 64.59375 \nL 19.828125 46.734375 \nQ 21.96875 47.46875 24.109375 47.828125 \nQ 26.265625 48.1875 28.421875 48.1875 \nQ 40.625 48.1875 47.75 41.5 \nQ 54.890625 34.8125 54.890625 23.390625 \nQ 54.890625 11.625 47.5625 5.09375 \nQ 40.234375 -1.421875 26.90625 -1.421875 \nQ 22.3125 -1.421875 17.546875 -0.640625 \nQ 12.796875 0.140625 7.71875 1.703125 \nL 7.71875 11.625 \nQ 12.109375 9.234375 16.796875 8.0625 \nQ 21.484375 6.890625 26.703125 6.890625 \nQ 35.15625 6.890625 40.078125 11.328125 \nQ 45.015625 15.765625 45.015625 23.390625 \nQ 45.015625 31 40.078125 35.4375 \nQ 35.15625 39.890625 26.703125 39.890625 \nQ 22.75 39.890625 18.8125 39.015625 \nQ 14.890625 38.140625 10.796875 36.28125 \nz\n\" id=\"DejaVuSans-53\"/>\n      </defs>\n      <use xlink:href=\"#DejaVuSans-49\"/>\n      <use x=\"63.623047\" xlink:href=\"#DejaVuSans-54\"/>\n      <use x=\"127.246094\" xlink:href=\"#DejaVuSans-53\"/>\n     </g>\n    </g>\n   </g>\n   <g id=\"text_2\">\n    <g clip-path=\"url(#p5b997bda42)\">\n     <!-- 166 -->\n     <g transform=\"translate(222.455404 137.183839)scale(0.12 -0.12)\">\n      <use xlink:href=\"#DejaVuSans-49\"/>\n      <use x=\"63.623047\" xlink:href=\"#DejaVuSans-54\"/>\n      <use x=\"127.246094\" xlink:href=\"#DejaVuSans-54\"/>\n     </g>\n    </g>\n   </g>\n   <g id=\"text_3\">\n    <g clip-path=\"url(#p5b997bda42)\">\n     <!-- 167 -->\n     <g transform=\"translate(15.383864 285.420341)scale(0.12 -0.12)\">\n      <defs>\n       <path d=\"M 8.203125 72.90625 \nL 55.078125 72.90625 \nL 55.078125 68.703125 \nL 28.609375 0 \nL 18.3125 0 \nL 43.21875 64.59375 \nL 8.203125 64.59375 \nz\n\" id=\"DejaVuSans-55\"/>\n      </defs>\n      <use xlink:href=\"#DejaVuSans-49\"/>\n      <use x=\"63.623047\" xlink:href=\"#DejaVuSans-54\"/>\n      <use x=\"127.246094\" xlink:href=\"#DejaVuSans-55\"/>\n     </g>\n    </g>\n   </g>\n   <g id=\"text_4\">\n    <g clip-path=\"url(#p5b997bda42)\">\n     <!-- 168 -->\n     <g transform=\"translate(150.573413 163.876596)scale(0.12 -0.12)\">\n      <defs>\n       <path d=\"M 31.78125 34.625 \nQ 24.75 34.625 20.71875 30.859375 \nQ 16.703125 27.09375 16.703125 20.515625 \nQ 16.703125 13.921875 20.71875 10.15625 \nQ 24.75 6.390625 31.78125 6.390625 \nQ 38.8125 6.390625 42.859375 10.171875 \nQ 46.921875 13.96875 46.921875 20.515625 \nQ 46.921875 27.09375 42.890625 30.859375 \nQ 38.875 34.625 31.78125 34.625 \nz\nM 21.921875 38.8125 \nQ 15.578125 40.375 12.03125 44.71875 \nQ 8.5 49.078125 8.5 55.328125 \nQ 8.5 64.0625 14.71875 69.140625 \nQ 20.953125 74.21875 31.78125 74.21875 \nQ 42.671875 74.21875 48.875 69.140625 \nQ 55.078125 64.0625 55.078125 55.328125 \nQ 55.078125 49.078125 51.53125 44.71875 \nQ 48 40.375 41.703125 38.8125 \nQ 48.828125 37.15625 52.796875 32.3125 \nQ 56.78125 27.484375 56.78125 20.515625 \nQ 56.78125 9.90625 50.3125 4.234375 \nQ 43.84375 -1.421875 31.78125 -1.421875 \nQ 19.734375 -1.421875 13.25 4.234375 \nQ 6.78125 9.90625 6.78125 20.515625 \nQ 6.78125 27.484375 10.78125 32.3125 \nQ 14.796875 37.15625 21.921875 38.8125 \nz\nM 18.3125 54.390625 \nQ 18.3125 48.734375 21.84375 45.5625 \nQ 25.390625 42.390625 31.78125 42.390625 \nQ 38.140625 42.390625 41.71875 45.5625 \nQ 45.3125 48.734375 45.3125 54.390625 \nQ 45.3125 60.0625 41.71875 63.234375 \nQ 38.140625 66.40625 31.78125 66.40625 \nQ 25.390625 66.40625 21.84375 63.234375 \nQ 18.3125 60.0625 18.3125 54.390625 \nz\n\" id=\"DejaVuSans-56\"/>\n      </defs>\n      <use xlink:href=\"#DejaVuSans-49\"/>\n      <use x=\"63.623047\" xlink:href=\"#DejaVuSans-54\"/>\n      <use x=\"127.246094\" xlink:href=\"#DejaVuSans-56\"/>\n     </g>\n    </g>\n   </g>\n   <g id=\"text_5\">\n    <g clip-path=\"url(#p5b997bda42)\">\n     <!-- 169 -->\n     <g transform=\"translate(115.559684 120.122224)scale(0.12 -0.12)\">\n      <defs>\n       <path d=\"M 10.984375 1.515625 \nL 10.984375 10.5 \nQ 14.703125 8.734375 18.5 7.8125 \nQ 22.3125 6.890625 25.984375 6.890625 \nQ 35.75 6.890625 40.890625 13.453125 \nQ 46.046875 20.015625 46.78125 33.40625 \nQ 43.953125 29.203125 39.59375 26.953125 \nQ 35.25 24.703125 29.984375 24.703125 \nQ 19.046875 24.703125 12.671875 31.3125 \nQ 6.296875 37.9375 6.296875 49.421875 \nQ 6.296875 60.640625 12.9375 67.421875 \nQ 19.578125 74.21875 30.609375 74.21875 \nQ 43.265625 74.21875 49.921875 64.515625 \nQ 56.59375 54.828125 56.59375 36.375 \nQ 56.59375 19.140625 48.40625 8.859375 \nQ 40.234375 -1.421875 26.421875 -1.421875 \nQ 22.703125 -1.421875 18.890625 -0.6875 \nQ 15.09375 0.046875 10.984375 1.515625 \nz\nM 30.609375 32.421875 \nQ 37.25 32.421875 41.125 36.953125 \nQ 45.015625 41.5 45.015625 49.421875 \nQ 45.015625 57.28125 41.125 61.84375 \nQ 37.25 66.40625 30.609375 66.40625 \nQ 23.96875 66.40625 20.09375 61.84375 \nQ 16.21875 57.28125 16.21875 49.421875 \nQ 16.21875 41.5 20.09375 36.953125 \nQ 23.96875 32.421875 30.609375 32.421875 \nz\n\" id=\"DejaVuSans-57\"/>\n      </defs>\n      <use xlink:href=\"#DejaVuSans-49\"/>\n      <use x=\"63.623047\" xlink:href=\"#DejaVuSans-54\"/>\n      <use x=\"127.246094\" xlink:href=\"#DejaVuSans-57\"/>\n     </g>\n    </g>\n   </g>\n   <g id=\"text_6\">\n    <g clip-path=\"url(#p5b997bda42)\">\n     <!-- 170 -->\n     <g transform=\"translate(281.533754 95.650426)scale(0.12 -0.12)\">\n      <defs>\n       <path d=\"M 31.78125 66.40625 \nQ 24.171875 66.40625 20.328125 58.90625 \nQ 16.5 51.421875 16.5 36.375 \nQ 16.5 21.390625 20.328125 13.890625 \nQ 24.171875 6.390625 31.78125 6.390625 \nQ 39.453125 6.390625 43.28125 13.890625 \nQ 47.125 21.390625 47.125 36.375 \nQ 47.125 51.421875 43.28125 58.90625 \nQ 39.453125 66.40625 31.78125 66.40625 \nz\nM 31.78125 74.21875 \nQ 44.046875 74.21875 50.515625 64.515625 \nQ 56.984375 54.828125 56.984375 36.375 \nQ 56.984375 17.96875 50.515625 8.265625 \nQ 44.046875 -1.421875 31.78125 -1.421875 \nQ 19.53125 -1.421875 13.0625 8.265625 \nQ 6.59375 17.96875 6.59375 36.375 \nQ 6.59375 54.828125 13.0625 64.515625 \nQ 19.53125 74.21875 31.78125 74.21875 \nz\n\" id=\"DejaVuSans-48\"/>\n      </defs>\n      <use xlink:href=\"#DejaVuSans-49\"/>\n      <use x=\"63.623047\" xlink:href=\"#DejaVuSans-55\"/>\n      <use x=\"127.246094\" xlink:href=\"#DejaVuSans-48\"/>\n     </g>\n    </g>\n   </g>\n   <g id=\"text_7\">\n    <g clip-path=\"url(#p5b997bda42)\">\n     <!-- 171 -->\n     <g transform=\"translate(245.385222 64.844548)scale(0.12 -0.12)\">\n      <use xlink:href=\"#DejaVuSans-49\"/>\n      <use x=\"63.623047\" xlink:href=\"#DejaVuSans-55\"/>\n      <use x=\"127.246094\" xlink:href=\"#DejaVuSans-49\"/>\n     </g>\n    </g>\n   </g>\n   <g id=\"text_8\">\n    <g clip-path=\"url(#p5b997bda42)\">\n     <!-- 172 -->\n     <g transform=\"translate(163.666601 66.895647)scale(0.12 -0.12)\">\n      <defs>\n       <path d=\"M 19.1875 8.296875 \nL 53.609375 8.296875 \nL 53.609375 0 \nL 7.328125 0 \nL 7.328125 8.296875 \nQ 12.9375 14.109375 22.625 23.890625 \nQ 32.328125 33.6875 34.8125 36.53125 \nQ 39.546875 41.84375 41.421875 45.53125 \nQ 43.3125 49.21875 43.3125 52.78125 \nQ 43.3125 58.59375 39.234375 62.25 \nQ 35.15625 65.921875 28.609375 65.921875 \nQ 23.96875 65.921875 18.8125 64.3125 \nQ 13.671875 62.703125 7.8125 59.421875 \nL 7.8125 69.390625 \nQ 13.765625 71.78125 18.9375 73 \nQ 24.125 74.21875 28.421875 74.21875 \nQ 39.75 74.21875 46.484375 68.546875 \nQ 53.21875 62.890625 53.21875 53.421875 \nQ 53.21875 48.921875 51.53125 44.890625 \nQ 49.859375 40.875 45.40625 35.40625 \nQ 44.1875 33.984375 37.640625 27.21875 \nQ 31.109375 20.453125 19.1875 8.296875 \nz\n\" id=\"DejaVuSans-50\"/>\n      </defs>\n      <use xlink:href=\"#DejaVuSans-49\"/>\n      <use x=\"63.623047\" xlink:href=\"#DejaVuSans-55\"/>\n      <use x=\"127.246094\" xlink:href=\"#DejaVuSans-50\"/>\n     </g>\n    </g>\n   </g>\n   <g id=\"text_9\">\n    <g clip-path=\"url(#p5b997bda42)\">\n     <!-- 173 -->\n     <g transform=\"translate(102.38873 212.896526)scale(0.12 -0.12)\">\n      <defs>\n       <path d=\"M 40.578125 39.3125 \nQ 47.65625 37.796875 51.625 33 \nQ 55.609375 28.21875 55.609375 21.1875 \nQ 55.609375 10.40625 48.1875 4.484375 \nQ 40.765625 -1.421875 27.09375 -1.421875 \nQ 22.515625 -1.421875 17.65625 -0.515625 \nQ 12.796875 0.390625 7.625 2.203125 \nL 7.625 11.71875 \nQ 11.71875 9.328125 16.59375 8.109375 \nQ 21.484375 6.890625 26.8125 6.890625 \nQ 36.078125 6.890625 40.9375 10.546875 \nQ 45.796875 14.203125 45.796875 21.1875 \nQ 45.796875 27.640625 41.28125 31.265625 \nQ 36.765625 34.90625 28.71875 34.90625 \nL 20.21875 34.90625 \nL 20.21875 43.015625 \nL 29.109375 43.015625 \nQ 36.375 43.015625 40.234375 45.921875 \nQ 44.09375 48.828125 44.09375 54.296875 \nQ 44.09375 59.90625 40.109375 62.90625 \nQ 36.140625 65.921875 28.71875 65.921875 \nQ 24.65625 65.921875 20.015625 65.03125 \nQ 15.375 64.15625 9.8125 62.3125 \nL 9.8125 71.09375 \nQ 15.4375 72.65625 20.34375 73.4375 \nQ 25.25 74.21875 29.59375 74.21875 \nQ 40.828125 74.21875 47.359375 69.109375 \nQ 53.90625 64.015625 53.90625 55.328125 \nQ 53.90625 49.265625 50.4375 45.09375 \nQ 46.96875 40.921875 40.578125 39.3125 \nz\n\" id=\"DejaVuSans-51\"/>\n      </defs>\n      <use xlink:href=\"#DejaVuSans-49\"/>\n      <use x=\"63.623047\" xlink:href=\"#DejaVuSans-55\"/>\n      <use x=\"127.246094\" xlink:href=\"#DejaVuSans-51\"/>\n     </g>\n    </g>\n   </g>\n   <g id=\"text_10\">\n    <g clip-path=\"url(#p5b997bda42)\">\n     <!-- 174 -->\n     <g transform=\"translate(53.604509 153.198572)scale(0.12 -0.12)\">\n      <defs>\n       <path d=\"M 37.796875 64.3125 \nL 12.890625 25.390625 \nL 37.796875 25.390625 \nz\nM 35.203125 72.90625 \nL 47.609375 72.90625 \nL 47.609375 25.390625 \nL 58.015625 25.390625 \nL 58.015625 17.1875 \nL 47.609375 17.1875 \nL 47.609375 0 \nL 37.796875 0 \nL 37.796875 17.1875 \nL 4.890625 17.1875 \nL 4.890625 26.703125 \nz\n\" id=\"DejaVuSans-52\"/>\n      </defs>\n      <use xlink:href=\"#DejaVuSans-49\"/>\n      <use x=\"63.623047\" xlink:href=\"#DejaVuSans-55\"/>\n      <use x=\"127.246094\" xlink:href=\"#DejaVuSans-52\"/>\n     </g>\n    </g>\n   </g>\n   <g id=\"text_11\">\n    <g clip-path=\"url(#p5b997bda42)\">\n     <!-- 175 -->\n     <g transform=\"translate(350.811751 65.036338)scale(0.12 -0.12)\">\n      <use xlink:href=\"#DejaVuSans-49\"/>\n      <use x=\"63.623047\" xlink:href=\"#DejaVuSans-55\"/>\n      <use x=\"127.246094\" xlink:href=\"#DejaVuSans-53\"/>\n     </g>\n    </g>\n   </g>\n   <g id=\"text_12\">\n    <g clip-path=\"url(#p5b997bda42)\">\n     <!-- 176 -->\n     <g transform=\"translate(317.148436 64.694369)scale(0.12 -0.12)\">\n      <use xlink:href=\"#DejaVuSans-49\"/>\n      <use x=\"63.623047\" xlink:href=\"#DejaVuSans-55\"/>\n      <use x=\"127.246094\" xlink:href=\"#DejaVuSans-54\"/>\n     </g>\n    </g>\n   </g>\n   <g id=\"text_13\">\n    <g clip-path=\"url(#p5b997bda42)\">\n     <!-- 177 -->\n     <g transform=\"translate(43.937102 242.896289)scale(0.12 -0.12)\">\n      <use xlink:href=\"#DejaVuSans-49\"/>\n      <use x=\"63.623047\" xlink:href=\"#DejaVuSans-55\"/>\n      <use x=\"127.246094\" xlink:href=\"#DejaVuSans-55\"/>\n     </g>\n    </g>\n   </g>\n   <g id=\"text_14\">\n    <g clip-path=\"url(#p5b997bda42)\">\n     <!-- 178 -->\n     <g transform=\"translate(23.356035 199.662103)scale(0.12 -0.12)\">\n      <use xlink:href=\"#DejaVuSans-49\"/>\n      <use x=\"63.623047\" xlink:href=\"#DejaVuSans-55\"/>\n      <use x=\"127.246094\" xlink:href=\"#DejaVuSans-56\"/>\n     </g>\n    </g>\n   </g>\n   <g id=\"text_15\">\n    <g clip-path=\"url(#p5b997bda42)\">\n     <!-- 179 -->\n     <g transform=\"translate(408.111136 47.222813)scale(0.12 -0.12)\">\n      <use xlink:href=\"#DejaVuSans-49\"/>\n      <use x=\"63.623047\" xlink:href=\"#DejaVuSans-55\"/>\n      <use x=\"127.246094\" xlink:href=\"#DejaVuSans-57\"/>\n     </g>\n    </g>\n   </g>\n   <g id=\"text_16\">\n    <g clip-path=\"url(#p5b997bda42)\">\n     <!-- 180 -->\n     <g transform=\"translate(385.046508 69.306143)scale(0.12 -0.12)\">\n      <use xlink:href=\"#DejaVuSans-49\"/>\n      <use x=\"63.623047\" xlink:href=\"#DejaVuSans-56\"/>\n      <use x=\"127.246094\" xlink:href=\"#DejaVuSans-48\"/>\n     </g>\n    </g>\n   </g>\n  </g>\n </g>\n <defs>\n  <clipPath id=\"p5b997bda42\">\n   <rect height=\"288\" width=\"432\" x=\"7.2\" y=\"7.2\"/>\n  </clipPath>\n </defs>\n</svg>\n",
      "image/png": "[encoded data removed]"
     },
     "metadata": {}
    }
   ]
  },
  {
   "cell_type": "code",
   "execution_count": 5,
   "metadata": {},
   "outputs": [],
   "source": [
    "\n",
    "#G = nx.Graph()\n",
    "#G.add_edges_from([(1, 2),(1, 3),(1, 4), (2,4), (4,3), (3,5), (3,6)])\n",
    "\n",
    "#G1 = nx.Graph()\n",
    "#G1.add_edges_from([(1, 2),(1, 3),(2, 3),(2, 4), (4,3), (4,5), (3,6)])\n",
    "\n",
    "#def create_list(n):\n",
    "#    q = [*range(1,n,1)]\n",
    "#    return q\n",
    "#labels = create_list(len(data_utils.get_node_labels(L))+1)\n",
    "#labels = create_list(len(L)+1)\n",
    "#nx.set_node_attributes(L, dict.fromkeys(labels, 1), name='label')\n",
    "try:\n",
    "    data_utils.get_node_labels(G)\n",
    "    data_utils.get_node_labels(G1) \n",
    "\n",
    "except:\n",
    "    \n",
    "    #def create_list(n):\n",
    "    #    q = [*range(1,n,1)]\n",
    "    #    return q\n",
    "\n",
    "    labels_G = create_list(len(G)+1)\n",
    "    labels_G1 =create_list(len(G1)+1)\n",
    "\n",
    "    nx.set_node_attributes(G, dict.fromkeys(labels_G, 1), name='label')\n",
    "    node_labels_G = nx.get_node_attributes(G,'label')\n",
    "\n",
    "    nx.set_node_attributes(G1, dict.fromkeys(labels_G1, 1), name='label')\n",
    "    node_labels_G1 = nx.get_node_attributes(G1,'label')\n",
    "\n",
    "    #colors = []\n",
    "    #for n in range(len(G)):\n",
    "    #color = colors.append(node_labels[n+1])\n",
    "    #colors = list(node_labels.copy())\n",
    "    #nx.draw(L, with_labels=True, node_color=list(node_labels.values()), cmap=plt.cm.Set1)\n",
    "\n",
    "\n",
    "else :\n",
    "    node_labels_G = dict(enumerate(data_utils.get_node_labels(G), 1))\n",
    "    node_labels_G1 = dict(enumerate(data_utils.get_node_labels(G1), 1))\n",
    "\n",
    "#node_labels = nx.get_node_attributes(L,'label')\n",
    "\n",
    "#node_labels = \n",
    "#node_labels = dict(enumerate(data_utils.get_node_labels(G), 1))\n"
   ]
  },
  {
   "cell_type": "code",
   "execution_count": 6,
   "metadata": {},
   "outputs": [
    {
     "output_type": "execute_result",
     "data": {
      "text/plain": [
       "{1: 4,\n",
       " 2: 1,\n",
       " 3: 1,\n",
       " 4: 1,\n",
       " 5: 1,\n",
       " 6: 1,\n",
       " 7: 1,\n",
       " 8: 1,\n",
       " 9: 2,\n",
       " 10: 2,\n",
       " 11: 3,\n",
       " 12: 3,\n",
       " 13: 3,\n",
       " 14: 3,\n",
       " 15: 3,\n",
       " 16: 3,\n",
       " 17: 3,\n",
       " 18: 3,\n",
       " 19: 3,\n",
       " 20: 3,\n",
       " 21: 3,\n",
       " 22: 3,\n",
       " 23: 3}"
      ]
     },
     "metadata": {},
     "execution_count": 6
    }
   ],
   "source": [
    "node_labels_G "
   ]
  },
  {
   "cell_type": "code",
   "execution_count": 7,
   "metadata": {},
   "outputs": [
    {
     "output_type": "execute_result",
     "data": {
      "text/plain": [
       "[4, 1, 1, 1, 1, 1, 1, 1, 2, 2, 3, 3, 3, 3, 3, 3, 3, 3, 3, 3, 3, 3, 3]"
      ]
     },
     "metadata": {},
     "execution_count": 7
    }
   ],
   "source": [
    "#initialized colors as the pre-defined node labels \n",
    "colors_G = []\n",
    "colors_G.extend(list(node_labels_G.values()))\n",
    "colors_G"
   ]
  },
  {
   "cell_type": "code",
   "execution_count": 8,
   "metadata": {},
   "outputs": [
    {
     "output_type": "execute_result",
     "data": {
      "text/plain": [
       "[4, 2, 2, 3, 3, 3, 3, 3, 3, 3, 3, 3, 3, 3, 3, 3]"
      ]
     },
     "metadata": {},
     "execution_count": 8
    }
   ],
   "source": [
    "colors_G1 = []\n",
    "colors_G1.extend(list(node_labels_G1.values()))\n",
    "colors_G1"
   ]
  },
  {
   "cell_type": "code",
   "execution_count": 9,
   "metadata": {},
   "outputs": [
    {
     "output_type": "display_data",
     "data": {
      "text/plain": "<Figure size 432x288 with 1 Axes>",
      "image/svg+xml": "<?xml version=\"1.0\" encoding=\"utf-8\" standalone=\"no\"?>\n<!DOCTYPE svg PUBLIC \"-//W3C//DTD SVG 1.1//EN\"\n  \"http://www.w3.org/Graphics/SVG/1.1/DTD/svg11.dtd\">\n<!-- Created with matplotlib (https://matplotlib.org/) -->\n<svg height=\"302.4pt\" version=\"1.1\" viewBox=\"0 0 446.4 302.4\" width=\"446.4pt\" xmlns=\"http://www.w3.org/2000/svg\" xmlns:xlink=\"http://www.w3.org/1999/xlink\">\n <metadata>\n  <rdf:RDF xmlns:cc=\"http://creativecommons.org/ns#\" xmlns:dc=\"http://purl.org/dc/elements/1.1/\" xmlns:rdf=\"http://www.w3.org/1999/02/22-rdf-syntax-ns#\">\n   <cc:Work>\n    <dc:type rdf:resource=\"http://purl.org/dc/dcmitype/StillImage\"/>\n    <dc:date>2021-05-04T16:21:57.542671</dc:date>\n    <dc:format>image/svg+xml</dc:format>\n    <dc:creator>\n     <cc:Agent>\n      <dc:title>Matplotlib v3.3.2, https://matplotlib.org/</dc:title>\n     </cc:Agent>\n    </dc:creator>\n   </cc:Work>\n  </rdf:RDF>\n </metadata>\n <defs>\n  <style type=\"text/css\">*{stroke-linecap:butt;stroke-linejoin:round;}</style>\n </defs>\n <g id=\"figure_1\">\n  <g id=\"patch_1\">\n   <path d=\"M 0 302.4 \nL 446.4 302.4 \nL 446.4 0 \nL 0 0 \nz\n\" style=\"fill:#ffffff;\"/>\n  </g>\n  <g id=\"axes_1\">\n   <g id=\"LineCollection_1\">\n    <path clip-path=\"url(#p1a9dc94e05)\" d=\"M 322.401124 282.109091 \nL 321.721697 254.634412 \n\" style=\"fill:none;stroke:#000000;\"/>\n    <path clip-path=\"url(#p1a9dc94e05)\" d=\"M 92.53256 182.730686 \nL 136.345674 194.35965 \n\" style=\"fill:none;stroke:#000000;\"/>\n    <path clip-path=\"url(#p1a9dc94e05)\" d=\"M 92.53256 182.730686 \nL 55.849588 169.725198 \n\" style=\"fill:none;stroke:#000000;\"/>\n    <path clip-path=\"url(#p1a9dc94e05)\" d=\"M 344.704317 187.609955 \nL 332.292529 211.597548 \n\" style=\"fill:none;stroke:#000000;\"/>\n    <path clip-path=\"url(#p1a9dc94e05)\" d=\"M 419.563636 243.20331 \nL 388.851422 242.680071 \n\" style=\"fill:none;stroke:#000000;\"/>\n    <path clip-path=\"url(#p1a9dc94e05)\" d=\"M 191.560985 72.941442 \nL 180.191511 107.681532 \n\" style=\"fill:none;stroke:#000000;\"/>\n    <path clip-path=\"url(#p1a9dc94e05)\" d=\"M 191.560985 72.941442 \nL 202.384646 43.669124 \n\" style=\"fill:none;stroke:#000000;\"/>\n    <path clip-path=\"url(#p1a9dc94e05)\" d=\"M 167.963516 169.684733 \nL 181.511913 149.758739 \n\" style=\"fill:none;stroke:#000000;\"/>\n    <path clip-path=\"url(#p1a9dc94e05)\" d=\"M 122.437071 216.293103 \nL 136.345674 194.35965 \n\" style=\"fill:none;stroke:#000000;\"/>\n    <path clip-path=\"url(#p1a9dc94e05)\" d=\"M 158.332021 93.02344 \nL 180.191511 107.681532 \n\" style=\"fill:none;stroke:#000000;\"/>\n    <path clip-path=\"url(#p1a9dc94e05)\" d=\"M 291.986809 224.791826 \nL 332.292529 211.597548 \n\" style=\"fill:none;stroke:#000000;\"/>\n    <path clip-path=\"url(#p1a9dc94e05)\" d=\"M 291.986809 224.791826 \nL 239.850015 208.364001 \n\" style=\"fill:none;stroke:#000000;\"/>\n    <path clip-path=\"url(#p1a9dc94e05)\" d=\"M 291.986809 224.791826 \nL 321.721697 254.634412 \n\" style=\"fill:none;stroke:#000000;\"/>\n    <path clip-path=\"url(#p1a9dc94e05)\" d=\"M 359.544698 256.970527 \nL 321.721697 254.634412 \n\" style=\"fill:none;stroke:#000000;\"/>\n    <path clip-path=\"url(#p1a9dc94e05)\" d=\"M 359.544698 256.970527 \nL 388.851422 242.680071 \n\" style=\"fill:none;stroke:#000000;\"/>\n    <path clip-path=\"url(#p1a9dc94e05)\" d=\"M 367.296503 222.644807 \nL 332.292529 211.597548 \n\" style=\"fill:none;stroke:#000000;\"/>\n    <path clip-path=\"url(#p1a9dc94e05)\" d=\"M 367.296503 222.644807 \nL 388.851422 242.680071 \n\" style=\"fill:none;stroke:#000000;\"/>\n    <path clip-path=\"url(#p1a9dc94e05)\" d=\"M 239.850015 208.364001 \nL 188.433636 188.551577 \n\" style=\"fill:none;stroke:#000000;\"/>\n    <path clip-path=\"url(#p1a9dc94e05)\" d=\"M 188.433636 188.551577 \nL 181.511913 149.758739 \n\" style=\"fill:none;stroke:#000000;\"/>\n    <path clip-path=\"url(#p1a9dc94e05)\" d=\"M 188.433636 188.551577 \nL 136.345674 194.35965 \n\" style=\"fill:none;stroke:#000000;\"/>\n    <path clip-path=\"url(#p1a9dc94e05)\" d=\"M 181.511913 149.758739 \nL 180.191511 107.681532 \n\" style=\"fill:none;stroke:#000000;\"/>\n    <path clip-path=\"url(#p1a9dc94e05)\" d=\"M 55.849588 169.725198 \nL 26.836364 160.571946 \n\" style=\"fill:none;stroke:#000000;\"/>\n    <path clip-path=\"url(#p1a9dc94e05)\" d=\"M 202.384646 43.669124 \nL 211.314533 20.290909 \n\" style=\"fill:none;stroke:#000000;\"/>\n   </g>\n   <g id=\"PathCollection_1\">\n    <defs>\n     <path d=\"M 0 8.660254 \nC 2.296726 8.660254 4.499694 7.747755 6.123724 6.123724 \nC 7.747755 4.499694 8.660254 2.296726 8.660254 -0 \nC 8.660254 -2.296726 7.747755 -4.499694 6.123724 -6.123724 \nC 4.499694 -7.747755 2.296726 -8.660254 0 -8.660254 \nC -2.296726 -8.660254 -4.499694 -7.747755 -6.123724 -6.123724 \nC -7.747755 -4.499694 -8.660254 -2.296726 -8.660254 0 \nC -8.660254 2.296726 -7.747755 4.499694 -6.123724 6.123724 \nC -4.499694 7.747755 -2.296726 8.660254 0 8.660254 \nz\n\" id=\"C0_0_41e3dd33c4\"/>\n    </defs>\n    <g clip-path=\"url(#p1a9dc94e05)\">\n     <use style=\"fill:#b3b3b3;stroke:#b3b3b3;\" x=\"322.401124\" xlink:href=\"#C0_0_41e3dd33c4\" y=\"282.109091\"/>\n    </g>\n    <g clip-path=\"url(#p1a9dc94e05)\">\n     <use style=\"fill:#66c2a5;stroke:#66c2a5;\" x=\"92.53256\" xlink:href=\"#C0_0_41e3dd33c4\" y=\"182.730686\"/>\n    </g>\n    <g clip-path=\"url(#p1a9dc94e05)\">\n     <use style=\"fill:#66c2a5;stroke:#66c2a5;\" x=\"344.704317\" xlink:href=\"#C0_0_41e3dd33c4\" y=\"187.609955\"/>\n    </g>\n    <g clip-path=\"url(#p1a9dc94e05)\">\n     <use style=\"fill:#66c2a5;stroke:#66c2a5;\" x=\"419.563636\" xlink:href=\"#C0_0_41e3dd33c4\" y=\"243.20331\"/>\n    </g>\n    <g clip-path=\"url(#p1a9dc94e05)\">\n     <use style=\"fill:#66c2a5;stroke:#66c2a5;\" x=\"191.560985\" xlink:href=\"#C0_0_41e3dd33c4\" y=\"72.941442\"/>\n    </g>\n    <g clip-path=\"url(#p1a9dc94e05)\">\n     <use style=\"fill:#66c2a5;stroke:#66c2a5;\" x=\"167.963516\" xlink:href=\"#C0_0_41e3dd33c4\" y=\"169.684733\"/>\n    </g>\n    <g clip-path=\"url(#p1a9dc94e05)\">\n     <use style=\"fill:#66c2a5;stroke:#66c2a5;\" x=\"122.437071\" xlink:href=\"#C0_0_41e3dd33c4\" y=\"216.293103\"/>\n    </g>\n    <g clip-path=\"url(#p1a9dc94e05)\">\n     <use style=\"fill:#66c2a5;stroke:#66c2a5;\" x=\"158.332021\" xlink:href=\"#C0_0_41e3dd33c4\" y=\"93.02344\"/>\n    </g>\n    <g clip-path=\"url(#p1a9dc94e05)\">\n     <use style=\"fill:#8da0cb;stroke:#8da0cb;\" x=\"291.986809\" xlink:href=\"#C0_0_41e3dd33c4\" y=\"224.791826\"/>\n    </g>\n    <g clip-path=\"url(#p1a9dc94e05)\">\n     <use style=\"fill:#8da0cb;stroke:#8da0cb;\" x=\"359.544698\" xlink:href=\"#C0_0_41e3dd33c4\" y=\"256.970527\"/>\n    </g>\n    <g clip-path=\"url(#p1a9dc94e05)\">\n     <use style=\"fill:#ffd92f;stroke:#ffd92f;\" x=\"367.296503\" xlink:href=\"#C0_0_41e3dd33c4\" y=\"222.644807\"/>\n    </g>\n    <g clip-path=\"url(#p1a9dc94e05)\">\n     <use style=\"fill:#ffd92f;stroke:#ffd92f;\" x=\"332.292529\" xlink:href=\"#C0_0_41e3dd33c4\" y=\"211.597548\"/>\n    </g>\n    <g clip-path=\"url(#p1a9dc94e05)\">\n     <use style=\"fill:#ffd92f;stroke:#ffd92f;\" x=\"239.850015\" xlink:href=\"#C0_0_41e3dd33c4\" y=\"208.364001\"/>\n    </g>\n    <g clip-path=\"url(#p1a9dc94e05)\">\n     <use style=\"fill:#ffd92f;stroke:#ffd92f;\" x=\"321.721697\" xlink:href=\"#C0_0_41e3dd33c4\" y=\"254.634412\"/>\n    </g>\n    <g clip-path=\"url(#p1a9dc94e05)\">\n     <use style=\"fill:#ffd92f;stroke:#ffd92f;\" x=\"388.851422\" xlink:href=\"#C0_0_41e3dd33c4\" y=\"242.680071\"/>\n    </g>\n    <g clip-path=\"url(#p1a9dc94e05)\">\n     <use style=\"fill:#ffd92f;stroke:#ffd92f;\" x=\"188.433636\" xlink:href=\"#C0_0_41e3dd33c4\" y=\"188.551577\"/>\n    </g>\n    <g clip-path=\"url(#p1a9dc94e05)\">\n     <use style=\"fill:#ffd92f;stroke:#ffd92f;\" x=\"181.511913\" xlink:href=\"#C0_0_41e3dd33c4\" y=\"149.758739\"/>\n    </g>\n    <g clip-path=\"url(#p1a9dc94e05)\">\n     <use style=\"fill:#ffd92f;stroke:#ffd92f;\" x=\"136.345674\" xlink:href=\"#C0_0_41e3dd33c4\" y=\"194.35965\"/>\n    </g>\n    <g clip-path=\"url(#p1a9dc94e05)\">\n     <use style=\"fill:#ffd92f;stroke:#ffd92f;\" x=\"55.849588\" xlink:href=\"#C0_0_41e3dd33c4\" y=\"169.725198\"/>\n    </g>\n    <g clip-path=\"url(#p1a9dc94e05)\">\n     <use style=\"fill:#ffd92f;stroke:#ffd92f;\" x=\"180.191511\" xlink:href=\"#C0_0_41e3dd33c4\" y=\"107.681532\"/>\n    </g>\n    <g clip-path=\"url(#p1a9dc94e05)\">\n     <use style=\"fill:#ffd92f;stroke:#ffd92f;\" x=\"202.384646\" xlink:href=\"#C0_0_41e3dd33c4\" y=\"43.669124\"/>\n    </g>\n    <g clip-path=\"url(#p1a9dc94e05)\">\n     <use style=\"fill:#ffd92f;stroke:#ffd92f;\" x=\"26.836364\" xlink:href=\"#C0_0_41e3dd33c4\" y=\"160.571946\"/>\n    </g>\n    <g clip-path=\"url(#p1a9dc94e05)\">\n     <use style=\"fill:#ffd92f;stroke:#ffd92f;\" x=\"211.314533\" xlink:href=\"#C0_0_41e3dd33c4\" y=\"20.290909\"/>\n    </g>\n   </g>\n  </g>\n </g>\n <defs>\n  <clipPath id=\"p1a9dc94e05\">\n   <rect height=\"288\" width=\"432\" x=\"7.2\" y=\"7.2\"/>\n  </clipPath>\n </defs>\n</svg>\n",
      "image/png": "[encoded data removed]"
     },
     "metadata": {}
    }
   ],
   "source": [
    "\"\"\"Plot graph with inital colors as node labels \"\"\"\n",
    "nx.draw(G,node_color=colors_G, cmap=plt.cm.Set2)"
   ]
  },
  {
   "cell_type": "code",
   "execution_count": 10,
   "metadata": {},
   "outputs": [
    {
     "output_type": "display_data",
     "data": {
      "text/plain": "<Figure size 432x288 with 1 Axes>",
      "image/svg+xml": "<?xml version=\"1.0\" encoding=\"utf-8\" standalone=\"no\"?>\n<!DOCTYPE svg PUBLIC \"-//W3C//DTD SVG 1.1//EN\"\n  \"http://www.w3.org/Graphics/SVG/1.1/DTD/svg11.dtd\">\n<!-- Created with matplotlib (https://matplotlib.org/) -->\n<svg height=\"302.4pt\" version=\"1.1\" viewBox=\"0 0 446.4 302.4\" width=\"446.4pt\" xmlns=\"http://www.w3.org/2000/svg\" xmlns:xlink=\"http://www.w3.org/1999/xlink\">\n <metadata>\n  <rdf:RDF xmlns:cc=\"http://creativecommons.org/ns#\" xmlns:dc=\"http://purl.org/dc/elements/1.1/\" xmlns:rdf=\"http://www.w3.org/1999/02/22-rdf-syntax-ns#\">\n   <cc:Work>\n    <dc:type rdf:resource=\"http://purl.org/dc/dcmitype/StillImage\"/>\n    <dc:date>2021-05-04T16:21:57.985276</dc:date>\n    <dc:format>image/svg+xml</dc:format>\n    <dc:creator>\n     <cc:Agent>\n      <dc:title>Matplotlib v3.3.2, https://matplotlib.org/</dc:title>\n     </cc:Agent>\n    </dc:creator>\n   </cc:Work>\n  </rdf:RDF>\n </metadata>\n <defs>\n  <style type=\"text/css\">*{stroke-linecap:butt;stroke-linejoin:round;}</style>\n </defs>\n <g id=\"figure_1\">\n  <g id=\"patch_1\">\n   <path d=\"M 0 302.4 \nL 446.4 302.4 \nL 446.4 0 \nL 0 0 \nz\n\" style=\"fill:#ffffff;\"/>\n  </g>\n  <g id=\"axes_1\">\n   <g id=\"LineCollection_1\">\n    <path clip-path=\"url(#pc9f6573315)\" d=\"M 32.139947 204.317017 \nL 122.359937 188.580458 \n\" style=\"fill:none;stroke:#000000;\"/>\n    <path clip-path=\"url(#pc9f6573315)\" d=\"M 289.342719 159.0523 \nL 209.491717 122.458221 \n\" style=\"fill:none;stroke:#000000;\"/>\n    <path clip-path=\"url(#pc9f6573315)\" d=\"M 289.342719 159.0523 \nL 323.673072 202.056559 \n\" style=\"fill:none;stroke:#000000;\"/>\n    <path clip-path=\"url(#pc9f6573315)\" d=\"M 26.836364 20.290909 \nL 86.321555 48.305505 \n\" style=\"fill:none;stroke:#000000;\"/>\n    <path clip-path=\"url(#pc9f6573315)\" d=\"M 209.491717 122.458221 \nL 115.023571 142.194501 \n\" style=\"fill:none;stroke:#000000;\"/>\n    <path clip-path=\"url(#pc9f6573315)\" d=\"M 209.491717 122.458221 \nL 169.149915 78.993511 \n\" style=\"fill:none;stroke:#000000;\"/>\n    <path clip-path=\"url(#pc9f6573315)\" d=\"M 115.023571 142.194501 \nL 122.359937 188.580458 \n\" style=\"fill:none;stroke:#000000;\"/>\n    <path clip-path=\"url(#pc9f6573315)\" d=\"M 115.023571 142.194501 \nL 51.526866 107.346255 \n\" style=\"fill:none;stroke:#000000;\"/>\n    <path clip-path=\"url(#pc9f6573315)\" d=\"M 323.673072 202.056559 \nL 224.029604 219.669937 \n\" style=\"fill:none;stroke:#000000;\"/>\n    <path clip-path=\"url(#pc9f6573315)\" d=\"M 323.673072 202.056559 \nL 403.388794 233.827408 \n\" style=\"fill:none;stroke:#000000;\"/>\n    <path clip-path=\"url(#pc9f6573315)\" d=\"M 224.029604 219.669937 \nL 122.359937 188.580458 \n\" style=\"fill:none;stroke:#000000;\"/>\n    <path clip-path=\"url(#pc9f6573315)\" d=\"M 224.029604 219.669937 \nL 264.899061 258.955765 \n\" style=\"fill:none;stroke:#000000;\"/>\n    <path clip-path=\"url(#pc9f6573315)\" d=\"M 169.149915 78.993511 \nL 86.321555 48.305505 \n\" style=\"fill:none;stroke:#000000;\"/>\n    <path clip-path=\"url(#pc9f6573315)\" d=\"M 51.526866 107.346255 \nL 36.065977 72.478188 \n\" style=\"fill:none;stroke:#000000;\"/>\n    <path clip-path=\"url(#pc9f6573315)\" d=\"M 403.388794 233.827408 \nL 419.563636 268.103373 \n\" style=\"fill:none;stroke:#000000;\"/>\n    <path clip-path=\"url(#pc9f6573315)\" d=\"M 264.899061 258.955765 \nL 341.318271 282.109091 \n\" style=\"fill:none;stroke:#000000;\"/>\n    <path clip-path=\"url(#pc9f6573315)\" d=\"M 86.321555 48.305505 \nL 36.065977 72.478188 \n\" style=\"fill:none;stroke:#000000;\"/>\n    <path clip-path=\"url(#pc9f6573315)\" d=\"M 419.563636 268.103373 \nL 341.318271 282.109091 \n\" style=\"fill:none;stroke:#000000;\"/>\n   </g>\n   <g id=\"PathCollection_1\">\n    <defs>\n     <path d=\"M 0 8.660254 \nC 2.296726 8.660254 4.499694 7.747755 6.123724 6.123724 \nC 7.747755 4.499694 8.660254 2.296726 8.660254 -0 \nC 8.660254 -2.296726 7.747755 -4.499694 6.123724 -6.123724 \nC 4.499694 -7.747755 2.296726 -8.660254 0 -8.660254 \nC -2.296726 -8.660254 -4.499694 -7.747755 -6.123724 -6.123724 \nC -7.747755 -4.499694 -8.660254 -2.296726 -8.660254 0 \nC -8.660254 2.296726 -7.747755 4.499694 -6.123724 6.123724 \nC -4.499694 7.747755 -2.296726 8.660254 0 8.660254 \nz\n\" id=\"C0_0_0dc179a99b\"/>\n    </defs>\n    <g clip-path=\"url(#pc9f6573315)\">\n     <use style=\"fill:#b3b3b3;stroke:#b3b3b3;\" x=\"32.139947\" xlink:href=\"#C0_0_0dc179a99b\" y=\"204.317017\"/>\n    </g>\n    <g clip-path=\"url(#pc9f6573315)\">\n     <use style=\"fill:#66c2a5;stroke:#66c2a5;\" x=\"289.342719\" xlink:href=\"#C0_0_0dc179a99b\" y=\"159.0523\"/>\n    </g>\n    <g clip-path=\"url(#pc9f6573315)\">\n     <use style=\"fill:#66c2a5;stroke:#66c2a5;\" x=\"26.836364\" xlink:href=\"#C0_0_0dc179a99b\" y=\"20.290909\"/>\n    </g>\n    <g clip-path=\"url(#pc9f6573315)\">\n     <use style=\"fill:#a6d854;stroke:#a6d854;\" x=\"209.491717\" xlink:href=\"#C0_0_0dc179a99b\" y=\"122.458221\"/>\n    </g>\n    <g clip-path=\"url(#pc9f6573315)\">\n     <use style=\"fill:#a6d854;stroke:#a6d854;\" x=\"115.023571\" xlink:href=\"#C0_0_0dc179a99b\" y=\"142.194501\"/>\n    </g>\n    <g clip-path=\"url(#pc9f6573315)\">\n     <use style=\"fill:#a6d854;stroke:#a6d854;\" x=\"323.673072\" xlink:href=\"#C0_0_0dc179a99b\" y=\"202.056559\"/>\n    </g>\n    <g clip-path=\"url(#pc9f6573315)\">\n     <use style=\"fill:#a6d854;stroke:#a6d854;\" x=\"224.029604\" xlink:href=\"#C0_0_0dc179a99b\" y=\"219.669937\"/>\n    </g>\n    <g clip-path=\"url(#pc9f6573315)\">\n     <use style=\"fill:#a6d854;stroke:#a6d854;\" x=\"122.359937\" xlink:href=\"#C0_0_0dc179a99b\" y=\"188.580458\"/>\n    </g>\n    <g clip-path=\"url(#pc9f6573315)\">\n     <use style=\"fill:#a6d854;stroke:#a6d854;\" x=\"169.149915\" xlink:href=\"#C0_0_0dc179a99b\" y=\"78.993511\"/>\n    </g>\n    <g clip-path=\"url(#pc9f6573315)\">\n     <use style=\"fill:#a6d854;stroke:#a6d854;\" x=\"51.526866\" xlink:href=\"#C0_0_0dc179a99b\" y=\"107.346255\"/>\n    </g>\n    <g clip-path=\"url(#pc9f6573315)\">\n     <use style=\"fill:#a6d854;stroke:#a6d854;\" x=\"403.388794\" xlink:href=\"#C0_0_0dc179a99b\" y=\"233.827408\"/>\n    </g>\n    <g clip-path=\"url(#pc9f6573315)\">\n     <use style=\"fill:#a6d854;stroke:#a6d854;\" x=\"264.899061\" xlink:href=\"#C0_0_0dc179a99b\" y=\"258.955765\"/>\n    </g>\n    <g clip-path=\"url(#pc9f6573315)\">\n     <use style=\"fill:#a6d854;stroke:#a6d854;\" x=\"86.321555\" xlink:href=\"#C0_0_0dc179a99b\" y=\"48.305505\"/>\n    </g>\n    <g clip-path=\"url(#pc9f6573315)\">\n     <use style=\"fill:#a6d854;stroke:#a6d854;\" x=\"36.065977\" xlink:href=\"#C0_0_0dc179a99b\" y=\"72.478188\"/>\n    </g>\n    <g clip-path=\"url(#pc9f6573315)\">\n     <use style=\"fill:#a6d854;stroke:#a6d854;\" x=\"419.563636\" xlink:href=\"#C0_0_0dc179a99b\" y=\"268.103373\"/>\n    </g>\n    <g clip-path=\"url(#pc9f6573315)\">\n     <use style=\"fill:#a6d854;stroke:#a6d854;\" x=\"341.318271\" xlink:href=\"#C0_0_0dc179a99b\" y=\"282.109091\"/>\n    </g>\n   </g>\n  </g>\n </g>\n <defs>\n  <clipPath id=\"pc9f6573315\">\n   <rect height=\"288\" width=\"432\" x=\"7.2\" y=\"7.2\"/>\n  </clipPath>\n </defs>\n</svg>\n",
      "image/png": "[encoded data removed]"
     },
     "metadata": {}
    }
   ],
   "source": [
    "nx.draw(G1, node_color=colors_G1, cmap=plt.cm.Set2)"
   ]
  },
  {
   "source": [
    "    #aggregate neighboring colors\n",
    "    #def neighbor_agg(G, n, node_labels):\n",
    "     #   agg = [str(node_labels[n])]\n",
    "     #   for i in G.neighbors(list(dict(G.nodes()).keys())[n]):\n",
    "     #       agg.append(str(node_labels[i]))\n",
    "     #   return ''.join(agg)"
   ],
   "cell_type": "code",
   "metadata": {},
   "execution_count": 11,
   "outputs": []
  },
  {
   "cell_type": "code",
   "execution_count": 12,
   "metadata": {},
   "outputs": [
    {
     "output_type": "execute_result",
     "data": {
      "text/plain": [
       "{103: {'node_label': 4},\n",
       " 104: {'node_label': 1},\n",
       " 105: {'node_label': 1},\n",
       " 106: {'node_label': 1},\n",
       " 107: {'node_label': 1},\n",
       " 108: {'node_label': 1},\n",
       " 109: {'node_label': 1},\n",
       " 110: {'node_label': 1},\n",
       " 111: {'node_label': 2},\n",
       " 112: {'node_label': 2},\n",
       " 113: {'node_label': 3},\n",
       " 114: {'node_label': 3},\n",
       " 115: {'node_label': 3},\n",
       " 116: {'node_label': 3},\n",
       " 117: {'node_label': 3},\n",
       " 118: {'node_label': 3},\n",
       " 119: {'node_label': 3},\n",
       " 120: {'node_label': 3},\n",
       " 121: {'node_label': 3},\n",
       " 122: {'node_label': 3},\n",
       " 123: {'node_label': 3},\n",
       " 124: {'node_label': 3},\n",
       " 125: {'node_label': 3}}"
      ]
     },
     "metadata": {},
     "execution_count": 12
    }
   ],
   "source": [
    "dict(G.nodes())"
   ]
  },
  {
   "cell_type": "code",
   "execution_count": 13,
   "metadata": {},
   "outputs": [
    {
     "output_type": "execute_result",
     "data": {
      "text/plain": [
       "{'node_label': 4}"
      ]
     },
     "metadata": {},
     "execution_count": 13
    }
   ],
   "source": [
    "dict(G.nodes())[103]"
   ]
  },
  {
   "cell_type": "code",
   "execution_count": 14,
   "metadata": {},
   "outputs": [
    {
     "output_type": "execute_result",
     "data": {
      "text/plain": [
       "[116]"
      ]
     },
     "metadata": {},
     "execution_count": 14
    }
   ],
   "source": [
    "[n for n in G.neighbors(list(dict(G.nodes()).keys())[0])]"
   ]
  },
  {
   "cell_type": "code",
   "execution_count": 15,
   "metadata": {},
   "outputs": [
    {
     "output_type": "execute_result",
     "data": {
      "text/plain": [
       "[3]"
      ]
     },
     "metadata": {},
     "execution_count": 15
    }
   ],
   "source": [
    "[dict(G.nodes())[n]['node_label'] for n in G.neighbors(list(dict(G.nodes()).keys())[0])]"
   ]
  },
  {
   "cell_type": "code",
   "execution_count": 16,
   "metadata": {},
   "outputs": [],
   "source": [
    "\"\"\" Function to aggregate neighboring color labels  \"\"\"\n",
    "def aggregate_colors(G,node_labels):\n",
    "    agg = dict()\n",
    "    for k in range(len(node_labels)):\n",
    "        agg[k+1] = [str(node_labels[k+1])]\n",
    "        #agg[k+1] = ''.join(agg[k+1] + [node_labels_G[n] for n in G.neighbors(list(dict(G.nodes()).keys())[0])])\n",
    "        #a = sorted([node_labels[n] for n in G.neighbors(list(dict(G.nodes()).keys())[k])])\n",
    "        a = sorted([dict(G.nodes())[n]['node_label'] for n in G.neighbors(list(dict(G.nodes()).keys())[k])])\n",
    "        agg[k+1] = ''.join(agg[k+1] + [str(i) for i in a])\n",
    "\n",
    "    return agg"
   ]
  },
  {
   "source": [
    "#[str(node_labels[1])]\n",
    "#list(dict(G.nodes()).keys())[1]\n",
    "#dict(G.nodes())[22]['node_label']\n",
    "#[dict(G.nodes())[n]['node_label'] for n in G.neighbors(list(dict(G.nodes()).keys())[0])]"
   ],
   "cell_type": "code",
   "metadata": {},
   "execution_count": 17,
   "outputs": []
  },
  {
   "cell_type": "code",
   "execution_count": 18,
   "metadata": {},
   "outputs": [],
   "source": [
    "agg_colors_G = aggregate_colors(G,node_labels_G)"
   ]
  },
  {
   "cell_type": "code",
   "execution_count": 19,
   "metadata": {},
   "outputs": [
    {
     "output_type": "execute_result",
     "data": {
      "text/plain": [
       "{1: '43',\n",
       " 2: '133',\n",
       " 3: '13',\n",
       " 4: '13',\n",
       " 5: '133',\n",
       " 6: '13',\n",
       " 7: '13',\n",
       " 8: '13',\n",
       " 9: '2333',\n",
       " 10: '233',\n",
       " 11: '333',\n",
       " 12: '3123',\n",
       " 13: '323',\n",
       " 14: '3224',\n",
       " 15: '3123',\n",
       " 16: '3333',\n",
       " 17: '3133',\n",
       " 18: '3113',\n",
       " 19: '313',\n",
       " 20: '3113',\n",
       " 21: '313',\n",
       " 22: '33',\n",
       " 23: '33'}"
      ]
     },
     "metadata": {},
     "execution_count": 19
    }
   ],
   "source": [
    "agg_colors_G"
   ]
  },
  {
   "cell_type": "code",
   "execution_count": 20,
   "metadata": {},
   "outputs": [
    {
     "output_type": "execute_result",
     "data": {
      "text/plain": [
       "{1: '43',\n",
       " 2: '233',\n",
       " 3: '23',\n",
       " 4: '3233',\n",
       " 5: '3333',\n",
       " 6: '3233',\n",
       " 7: '3333',\n",
       " 8: '3334',\n",
       " 9: '333',\n",
       " 10: '333',\n",
       " 11: '333',\n",
       " 12: '333',\n",
       " 13: '3233',\n",
       " 14: '333',\n",
       " 15: '333',\n",
       " 16: '333'}"
      ]
     },
     "metadata": {},
     "execution_count": 20
    }
   ],
   "source": [
    "agg_colors_G1 = aggregate_colors(G1,node_labels_G1)\n",
    "agg_colors_G1"
   ]
  },
  {
   "cell_type": "code",
   "execution_count": 21,
   "metadata": {},
   "outputs": [],
   "source": [
    "#def update_labels(G, node_labels):\n",
    "#    new_labels = dict()\n",
    "#    for n in G.nodes():\n",
    "#        new_labels[n] = neighbor_agg(G, n, node_labels)\n",
    "#    return new_labels\n",
    "\n"
   ]
  },
  {
   "cell_type": "code",
   "execution_count": 22,
   "metadata": {},
   "outputs": [],
   "source": [
    "#def sum_labels(l):\n",
    "    #return 0 if l == 0 else int(l % 10) + sum_labels(int(l/10))\n",
    "\n",
    "#def check_string(a):\n",
    "    #count = int(math.log10(a))\n",
    "    #first_num = int(a // math.pow(10, count))\n",
    "    #return first_num "
   ]
  },
  {
   "cell_type": "code",
   "execution_count": 23,
   "metadata": {},
   "outputs": [],
   "source": [
    "#List of all aggregated colors \n",
    "t = list(dict(collections.Counter(sorted(list(map(int, list(agg_colors_G.values()) + list(agg_colors_G1.values())))))).keys())"
   ]
  },
  {
   "cell_type": "code",
   "execution_count": 24,
   "metadata": {},
   "outputs": [
    {
     "output_type": "execute_result",
     "data": {
      "text/plain": [
       "[13,\n",
       " 23,\n",
       " 33,\n",
       " 43,\n",
       " 133,\n",
       " 233,\n",
       " 313,\n",
       " 323,\n",
       " 333,\n",
       " 2333,\n",
       " 3113,\n",
       " 3123,\n",
       " 3133,\n",
       " 3224,\n",
       " 3233,\n",
       " 3333,\n",
       " 3334]"
      ]
     },
     "metadata": {},
     "execution_count": 24
    }
   ],
   "source": [
    "t"
   ]
  },
  {
   "cell_type": "code",
   "execution_count": 25,
   "metadata": {},
   "outputs": [],
   "source": [
    "\"\"\" Removing duplicate values\"\"\"\n",
    "\n",
    "for i in range(len(t)):\n",
    "  for j in range(i + 1, len(t)-1):\n",
    "    if sorted(list((map(str,t)))[i]) == sorted(list((map(str,t)))[j]):\n",
    "        t.pop(j)      "
   ]
  },
  {
   "cell_type": "code",
   "execution_count": 26,
   "metadata": {},
   "outputs": [
    {
     "output_type": "execute_result",
     "data": {
      "text/plain": [
       "[13, 23, 33, 43, 133, 233, 333, 2333, 3113, 3123, 3133, 3224, 3333, 3334]"
      ]
     },
     "metadata": {},
     "execution_count": 26
    }
   ],
   "source": [
    "t"
   ]
  },
  {
   "cell_type": "code",
   "execution_count": 27,
   "metadata": {},
   "outputs": [],
   "source": [
    "#tt = dict(enumerate(t,2))"
   ]
  },
  {
   "cell_type": "code",
   "execution_count": 28,
   "metadata": {},
   "outputs": [],
   "source": [
    "#tt"
   ]
  },
  {
   "cell_type": "code",
   "execution_count": 29,
   "metadata": {},
   "outputs": [],
   "source": [
    "l_start = len(list(collections.Counter(colors_G+colors_G1).keys()))+1"
   ]
  },
  {
   "cell_type": "code",
   "execution_count": 30,
   "metadata": {},
   "outputs": [],
   "source": [
    "tt = dict(enumerate(t,l_start))\n",
    "\n",
    "for k in tt:\n",
    "    for key in agg_colors_G:\n",
    "        if agg_colors_G[key] == str(tt[k]):\n",
    "            node_labels_G[key] = k\n",
    "\n",
    "\n",
    "for k in tt:\n",
    "    for key in agg_colors_G1:\n",
    "        if agg_colors_G1[key] == str(tt[k]):\n",
    "            node_labels_G1[key] = k\n"
   ]
  },
  {
   "cell_type": "code",
   "execution_count": 31,
   "metadata": {},
   "outputs": [
    {
     "output_type": "execute_result",
     "data": {
      "text/plain": [
       "{5: 13,\n",
       " 6: 23,\n",
       " 7: 33,\n",
       " 8: 43,\n",
       " 9: 133,\n",
       " 10: 233,\n",
       " 11: 333,\n",
       " 12: 2333,\n",
       " 13: 3113,\n",
       " 14: 3123,\n",
       " 15: 3133,\n",
       " 16: 3224,\n",
       " 17: 3333,\n",
       " 18: 3334}"
      ]
     },
     "metadata": {},
     "execution_count": 31
    }
   ],
   "source": [
    "tt"
   ]
  },
  {
   "cell_type": "code",
   "execution_count": 32,
   "metadata": {},
   "outputs": [
    {
     "output_type": "execute_result",
     "data": {
      "text/plain": [
       "{1: 8,\n",
       " 2: 9,\n",
       " 3: 5,\n",
       " 4: 5,\n",
       " 5: 9,\n",
       " 6: 5,\n",
       " 7: 5,\n",
       " 8: 5,\n",
       " 9: 12,\n",
       " 10: 10,\n",
       " 11: 11,\n",
       " 12: 14,\n",
       " 13: 3,\n",
       " 14: 16,\n",
       " 15: 14,\n",
       " 16: 17,\n",
       " 17: 15,\n",
       " 18: 13,\n",
       " 19: 3,\n",
       " 20: 13,\n",
       " 21: 3,\n",
       " 22: 7,\n",
       " 23: 7}"
      ]
     },
     "metadata": {},
     "execution_count": 32
    }
   ],
   "source": [
    "node_labels_G\n"
   ]
  },
  {
   "cell_type": "code",
   "execution_count": 33,
   "metadata": {},
   "outputs": [
    {
     "output_type": "execute_result",
     "data": {
      "text/plain": [
       "{1: 8,\n",
       " 2: 10,\n",
       " 3: 6,\n",
       " 4: 3,\n",
       " 5: 17,\n",
       " 6: 3,\n",
       " 7: 17,\n",
       " 8: 18,\n",
       " 9: 11,\n",
       " 10: 11,\n",
       " 11: 11,\n",
       " 12: 11,\n",
       " 13: 3,\n",
       " 14: 11,\n",
       " 15: 11,\n",
       " 16: 11}"
      ]
     },
     "metadata": {},
     "execution_count": 33
    }
   ],
   "source": [
    "node_labels_G1"
   ]
  },
  {
   "cell_type": "code",
   "execution_count": 34,
   "metadata": {},
   "outputs": [],
   "source": [
    "#list(node_labels_G.values())"
   ]
  },
  {
   "cell_type": "code",
   "execution_count": 35,
   "metadata": {},
   "outputs": [
    {
     "output_type": "execute_result",
     "data": {
      "text/plain": [
       "[4, 1, 1, 1, 1, 1, 1, 1, 2, 2, 3, 3, 3, 3, 3, 3, 3, 3, 3, 3, 3, 3, 3]"
      ]
     },
     "metadata": {},
     "execution_count": 35
    }
   ],
   "source": [
    "colors_G"
   ]
  },
  {
   "cell_type": "code",
   "execution_count": 36,
   "metadata": {},
   "outputs": [],
   "source": [
    "colors_G.extend(list(node_labels_G.values()))\n",
    "#colors_G"
   ]
  },
  {
   "cell_type": "code",
   "execution_count": 37,
   "metadata": {},
   "outputs": [],
   "source": [
    "#colors_G1"
   ]
  },
  {
   "cell_type": "code",
   "execution_count": 38,
   "metadata": {},
   "outputs": [],
   "source": [
    "colors_G1.extend(list(node_labels_G1.values()))"
   ]
  },
  {
   "cell_type": "code",
   "execution_count": 39,
   "metadata": {},
   "outputs": [],
   "source": [
    "#colors_G1"
   ]
  },
  {
   "source": [
    "--One iteration complete--"
   ],
   "cell_type": "markdown",
   "metadata": {}
  },
  {
   "cell_type": "code",
   "execution_count": 40,
   "metadata": {},
   "outputs": [
    {
     "output_type": "execute_result",
     "data": {
      "text/plain": [
       "{1: 8,\n",
       " 2: 9,\n",
       " 3: 5,\n",
       " 4: 5,\n",
       " 5: 9,\n",
       " 6: 5,\n",
       " 7: 5,\n",
       " 8: 5,\n",
       " 9: 12,\n",
       " 10: 10,\n",
       " 11: 11,\n",
       " 12: 14,\n",
       " 13: 3,\n",
       " 14: 16,\n",
       " 15: 14,\n",
       " 16: 17,\n",
       " 17: 15,\n",
       " 18: 13,\n",
       " 19: 3,\n",
       " 20: 13,\n",
       " 21: 3,\n",
       " 22: 7,\n",
       " 23: 7}"
      ]
     },
     "metadata": {},
     "execution_count": 40
    }
   ],
   "source": [
    "node_labels_G"
   ]
  },
  {
   "cell_type": "code",
   "execution_count": 41,
   "metadata": {},
   "outputs": [],
   "source": [
    "agg_colors_G = aggregate_colors(G,node_labels_G)"
   ]
  },
  {
   "cell_type": "code",
   "execution_count": 42,
   "metadata": {},
   "outputs": [],
   "source": [
    "agg_colors_G1 = aggregate_colors(G1,node_labels_G1)"
   ]
  },
  {
   "cell_type": "code",
   "execution_count": 43,
   "metadata": {},
   "outputs": [
    {
     "output_type": "execute_result",
     "data": {
      "text/plain": [
       "{1: '83',\n",
       " 2: '933',\n",
       " 3: '53',\n",
       " 4: '53',\n",
       " 5: '933',\n",
       " 6: '53',\n",
       " 7: '53',\n",
       " 8: '53',\n",
       " 9: '12333',\n",
       " 10: '1033',\n",
       " 11: '1133',\n",
       " 12: '14123',\n",
       " 13: '323',\n",
       " 14: '16224',\n",
       " 15: '14123',\n",
       " 16: '17333',\n",
       " 17: '15133',\n",
       " 18: '13113',\n",
       " 19: '313',\n",
       " 20: '13113',\n",
       " 21: '313',\n",
       " 22: '73',\n",
       " 23: '73'}"
      ]
     },
     "metadata": {},
     "execution_count": 43
    }
   ],
   "source": [
    "agg_colors_G"
   ]
  },
  {
   "cell_type": "code",
   "execution_count": 44,
   "metadata": {},
   "outputs": [
    {
     "output_type": "execute_result",
     "data": {
      "text/plain": [
       "{1: '83',\n",
       " 2: '1033',\n",
       " 3: '63',\n",
       " 4: '3233',\n",
       " 5: '17333',\n",
       " 6: '3233',\n",
       " 7: '17333',\n",
       " 8: '18334',\n",
       " 9: '1133',\n",
       " 10: '1133',\n",
       " 11: '1133',\n",
       " 12: '1133',\n",
       " 13: '3233',\n",
       " 14: '1133',\n",
       " 15: '1133',\n",
       " 16: '1133'}"
      ]
     },
     "metadata": {},
     "execution_count": 44
    }
   ],
   "source": [
    "agg_colors_G1"
   ]
  },
  {
   "cell_type": "code",
   "execution_count": 45,
   "metadata": {},
   "outputs": [],
   "source": [
    "p = list(dict(collections.Counter(sorted(list(map(int, list(agg_colors_G.values()) + list(agg_colors_G1.values())))))).keys())"
   ]
  },
  {
   "cell_type": "code",
   "execution_count": 46,
   "metadata": {},
   "outputs": [
    {
     "output_type": "execute_result",
     "data": {
      "text/plain": [
       "[53,\n",
       " 63,\n",
       " 73,\n",
       " 83,\n",
       " 313,\n",
       " 323,\n",
       " 933,\n",
       " 1033,\n",
       " 1133,\n",
       " 3233,\n",
       " 12333,\n",
       " 13113,\n",
       " 14123,\n",
       " 15133,\n",
       " 16224,\n",
       " 17333,\n",
       " 18334]"
      ]
     },
     "metadata": {},
     "execution_count": 46
    }
   ],
   "source": [
    "p"
   ]
  },
  {
   "cell_type": "code",
   "execution_count": 47,
   "metadata": {},
   "outputs": [],
   "source": [
    "for i in range(len(p)):\n",
    "  for j in range(i + 1, len(p)-1):\n",
    "    if sorted(list((map(str,p)))[i]) == sorted(list((map(str,p)))[j]):\n",
    "        p.pop(j)      "
   ]
  },
  {
   "cell_type": "code",
   "execution_count": 48,
   "metadata": {},
   "outputs": [],
   "source": [
    "try:\n",
    "  for i in range(len(p)):\n",
    "    for j in range(len(t)-1):\n",
    "      if sorted(list((map(str,p)))[i]) == sorted(list((map(str,t)))[j]):\n",
    "        p.pop(i)      \n",
    "\n",
    "except:\n",
    "    pass\n",
    "\n",
    "else:\n",
    "    for i in range(len(p)):\n",
    "      for j in range(len(t)-1):\n",
    "        if sorted(list((map(str,p)))[i]) == sorted(list((map(str,t)))[j]):\n",
    "          p.pop(i)      \n",
    "\n"
   ]
  },
  {
   "cell_type": "code",
   "execution_count": 49,
   "metadata": {},
   "outputs": [
    {
     "output_type": "execute_result",
     "data": {
      "text/plain": [
       "[53,\n",
       " 63,\n",
       " 73,\n",
       " 83,\n",
       " 933,\n",
       " 1033,\n",
       " 3233,\n",
       " 12333,\n",
       " 13113,\n",
       " 14123,\n",
       " 15133,\n",
       " 16224,\n",
       " 17333,\n",
       " 18334]"
      ]
     },
     "metadata": {},
     "execution_count": 49
    }
   ],
   "source": [
    "p"
   ]
  },
  {
   "source": [
    "pp = dict(enumerate(p,list(tt.keys())[-1]+1))"
   ],
   "cell_type": "code",
   "metadata": {},
   "execution_count": 50,
   "outputs": []
  },
  {
   "cell_type": "code",
   "execution_count": 51,
   "metadata": {},
   "outputs": [
    {
     "output_type": "execute_result",
     "data": {
      "text/plain": [
       "{19: 53,\n",
       " 20: 63,\n",
       " 21: 73,\n",
       " 22: 83,\n",
       " 23: 933,\n",
       " 24: 1033,\n",
       " 25: 3233,\n",
       " 26: 12333,\n",
       " 27: 13113,\n",
       " 28: 14123,\n",
       " 29: 15133,\n",
       " 30: 16224,\n",
       " 31: 17333,\n",
       " 32: 18334}"
      ]
     },
     "metadata": {},
     "execution_count": 51
    }
   ],
   "source": [
    "pp"
   ]
  },
  {
   "cell_type": "code",
   "execution_count": 52,
   "metadata": {},
   "outputs": [],
   "source": [
    "new_dict = {**tt, **pp}"
   ]
  },
  {
   "cell_type": "code",
   "execution_count": 53,
   "metadata": {},
   "outputs": [
    {
     "output_type": "execute_result",
     "data": {
      "text/plain": [
       "{5: 13,\n",
       " 6: 23,\n",
       " 7: 33,\n",
       " 8: 43,\n",
       " 9: 133,\n",
       " 10: 233,\n",
       " 11: 333,\n",
       " 12: 2333,\n",
       " 13: 3113,\n",
       " 14: 3123,\n",
       " 15: 3133,\n",
       " 16: 3224,\n",
       " 17: 3333,\n",
       " 18: 3334,\n",
       " 19: 53,\n",
       " 20: 63,\n",
       " 21: 73,\n",
       " 22: 83,\n",
       " 23: 933,\n",
       " 24: 1033,\n",
       " 25: 3233,\n",
       " 26: 12333,\n",
       " 27: 13113,\n",
       " 28: 14123,\n",
       " 29: 15133,\n",
       " 30: 16224,\n",
       " 31: 17333,\n",
       " 32: 18334}"
      ]
     },
     "metadata": {},
     "execution_count": 53
    }
   ],
   "source": [
    "new_dict"
   ]
  },
  {
   "cell_type": "code",
   "execution_count": 54,
   "metadata": {},
   "outputs": [],
   "source": [
    "new_dict = dict(enumerate(sorted(list(new_dict.values())),l_start))"
   ]
  },
  {
   "cell_type": "code",
   "execution_count": 55,
   "metadata": {},
   "outputs": [
    {
     "output_type": "execute_result",
     "data": {
      "text/plain": [
       "{5: 13,\n",
       " 6: 23,\n",
       " 7: 33,\n",
       " 8: 43,\n",
       " 9: 53,\n",
       " 10: 63,\n",
       " 11: 73,\n",
       " 12: 83,\n",
       " 13: 133,\n",
       " 14: 233,\n",
       " 15: 333,\n",
       " 16: 933,\n",
       " 17: 1033,\n",
       " 18: 2333,\n",
       " 19: 3113,\n",
       " 20: 3123,\n",
       " 21: 3133,\n",
       " 22: 3224,\n",
       " 23: 3233,\n",
       " 24: 3333,\n",
       " 25: 3334,\n",
       " 26: 12333,\n",
       " 27: 13113,\n",
       " 28: 14123,\n",
       " 29: 15133,\n",
       " 30: 16224,\n",
       " 31: 17333,\n",
       " 32: 18334}"
      ]
     },
     "metadata": {},
     "execution_count": 55
    }
   ],
   "source": [
    "new_dict"
   ]
  },
  {
   "cell_type": "code",
   "execution_count": 56,
   "metadata": {},
   "outputs": [],
   "source": [
    "for k in new_dict:\n",
    "    for key in agg_colors_G:\n",
    "        if agg_colors_G[key] == str(new_dict[k]):\n",
    "            node_labels_G[key] = k\n",
    "\n",
    "for k in new_dict:\n",
    "    for key in agg_colors_G1:\n",
    "        if agg_colors_G1[key] == str(new_dict[k]):\n",
    "            node_labels_G1[key] = k"
   ]
  },
  {
   "cell_type": "code",
   "execution_count": 57,
   "metadata": {},
   "outputs": [
    {
     "output_type": "execute_result",
     "data": {
      "text/plain": [
       "{1: 12,\n",
       " 2: 16,\n",
       " 3: 9,\n",
       " 4: 9,\n",
       " 5: 16,\n",
       " 6: 9,\n",
       " 7: 9,\n",
       " 8: 9,\n",
       " 9: 26,\n",
       " 10: 17,\n",
       " 11: 11,\n",
       " 12: 28,\n",
       " 13: 3,\n",
       " 14: 30,\n",
       " 15: 28,\n",
       " 16: 31,\n",
       " 17: 29,\n",
       " 18: 27,\n",
       " 19: 3,\n",
       " 20: 27,\n",
       " 21: 3,\n",
       " 22: 11,\n",
       " 23: 11}"
      ]
     },
     "metadata": {},
     "execution_count": 57
    }
   ],
   "source": [
    "node_labels_G"
   ]
  },
  {
   "cell_type": "code",
   "execution_count": 58,
   "metadata": {},
   "outputs": [
    {
     "output_type": "execute_result",
     "data": {
      "text/plain": [
       "{1: 12,\n",
       " 2: 17,\n",
       " 3: 10,\n",
       " 4: 23,\n",
       " 5: 31,\n",
       " 6: 23,\n",
       " 7: 31,\n",
       " 8: 32,\n",
       " 9: 11,\n",
       " 10: 11,\n",
       " 11: 11,\n",
       " 12: 11,\n",
       " 13: 23,\n",
       " 14: 11,\n",
       " 15: 11,\n",
       " 16: 11}"
      ]
     },
     "metadata": {},
     "execution_count": 58
    }
   ],
   "source": [
    "node_labels_G1"
   ]
  },
  {
   "cell_type": "code",
   "execution_count": 59,
   "metadata": {},
   "outputs": [],
   "source": [
    "#colors_G"
   ]
  },
  {
   "cell_type": "code",
   "execution_count": 60,
   "metadata": {},
   "outputs": [],
   "source": [
    "\n",
    "colors_G.extend(list(node_labels_G.values()))\n",
    "#colors = node_labels.copy()\n",
    "#list(colors)\n"
   ]
  },
  {
   "cell_type": "code",
   "execution_count": 61,
   "metadata": {},
   "outputs": [],
   "source": [
    "#colors_G"
   ]
  },
  {
   "cell_type": "code",
   "execution_count": 62,
   "metadata": {},
   "outputs": [],
   "source": [
    "colors_G1.extend(list(node_labels_G1.values()))\n",
    "#colors_G1"
   ]
  },
  {
   "cell_type": "code",
   "execution_count": 63,
   "metadata": {},
   "outputs": [
    {
     "output_type": "display_data",
     "data": {
      "text/plain": "<Figure size 432x288 with 1 Axes>",
      "image/svg+xml": "<?xml version=\"1.0\" encoding=\"utf-8\" standalone=\"no\"?>\n<!DOCTYPE svg PUBLIC \"-//W3C//DTD SVG 1.1//EN\"\n  \"http://www.w3.org/Graphics/SVG/1.1/DTD/svg11.dtd\">\n<!-- Created with matplotlib (https://matplotlib.org/) -->\n<svg height=\"302.4pt\" version=\"1.1\" viewBox=\"0 0 446.4 302.4\" width=\"446.4pt\" xmlns=\"http://www.w3.org/2000/svg\" xmlns:xlink=\"http://www.w3.org/1999/xlink\">\n <metadata>\n  <rdf:RDF xmlns:cc=\"http://creativecommons.org/ns#\" xmlns:dc=\"http://purl.org/dc/elements/1.1/\" xmlns:rdf=\"http://www.w3.org/1999/02/22-rdf-syntax-ns#\">\n   <cc:Work>\n    <dc:type rdf:resource=\"http://purl.org/dc/dcmitype/StillImage\"/>\n    <dc:date>2021-05-04T16:22:56.752628</dc:date>\n    <dc:format>image/svg+xml</dc:format>\n    <dc:creator>\n     <cc:Agent>\n      <dc:title>Matplotlib v3.3.2, https://matplotlib.org/</dc:title>\n     </cc:Agent>\n    </dc:creator>\n   </cc:Work>\n  </rdf:RDF>\n </metadata>\n <defs>\n  <style type=\"text/css\">*{stroke-linecap:butt;stroke-linejoin:round;}</style>\n </defs>\n <g id=\"figure_1\">\n  <g id=\"patch_1\">\n   <path d=\"M 0 302.4 \nL 446.4 302.4 \nL 446.4 0 \nL 0 0 \nz\n\" style=\"fill:#ffffff;\"/>\n  </g>\n  <g id=\"axes_1\">\n   <g id=\"LineCollection_1\">\n    <path clip-path=\"url(#p2ba7ec8c2b)\" d=\"M 355.088007 282.109091 \nL 343.268606 251.545013 \n\" style=\"fill:none;stroke:#000000;\"/>\n    <path clip-path=\"url(#p2ba7ec8c2b)\" d=\"M 259.438139 76.148841 \nL 248.018967 113.286662 \n\" style=\"fill:none;stroke:#000000;\"/>\n    <path clip-path=\"url(#p2ba7ec8c2b)\" d=\"M 259.438139 76.148841 \nL 267.185202 44.437085 \n\" style=\"fill:none;stroke:#000000;\"/>\n    <path clip-path=\"url(#p2ba7ec8c2b)\" d=\"M 419.563636 196.875118 \nL 385.971391 207.822626 \n\" style=\"fill:none;stroke:#000000;\"/>\n    <path clip-path=\"url(#p2ba7ec8c2b)\" d=\"M 371.885657 226.193281 \nL 378.659574 244.425007 \n\" style=\"fill:none;stroke:#000000;\"/>\n    <path clip-path=\"url(#p2ba7ec8c2b)\" d=\"M 93.171922 185.813224 \nL 134.697638 172.300684 \n\" style=\"fill:none;stroke:#000000;\"/>\n    <path clip-path=\"url(#p2ba7ec8c2b)\" d=\"M 93.171922 185.813224 \nL 55.01077 196.295809 \n\" style=\"fill:none;stroke:#000000;\"/>\n    <path clip-path=\"url(#p2ba7ec8c2b)\" d=\"M 177.125102 187.760863 \nL 187.836961 168.142223 \n\" style=\"fill:none;stroke:#000000;\"/>\n    <path clip-path=\"url(#p2ba7ec8c2b)\" d=\"M 231.412458 95.11016 \nL 248.018967 113.286662 \n\" style=\"fill:none;stroke:#000000;\"/>\n    <path clip-path=\"url(#p2ba7ec8c2b)\" d=\"M 111.192672 157.329171 \nL 134.697638 172.300684 \n\" style=\"fill:none;stroke:#000000;\"/>\n    <path clip-path=\"url(#p2ba7ec8c2b)\" d=\"M 336.528203 212.19068 \nL 385.971391 207.822626 \n\" style=\"fill:none;stroke:#000000;\"/>\n    <path clip-path=\"url(#p2ba7ec8c2b)\" d=\"M 336.528203 212.19068 \nL 290.525359 184.798695 \n\" style=\"fill:none;stroke:#000000;\"/>\n    <path clip-path=\"url(#p2ba7ec8c2b)\" d=\"M 336.528203 212.19068 \nL 343.268606 251.545013 \n\" style=\"fill:none;stroke:#000000;\"/>\n    <path clip-path=\"url(#p2ba7ec8c2b)\" d=\"M 362.002101 263.728748 \nL 343.268606 251.545013 \n\" style=\"fill:none;stroke:#000000;\"/>\n    <path clip-path=\"url(#p2ba7ec8c2b)\" d=\"M 362.002101 263.728748 \nL 378.659574 244.425007 \n\" style=\"fill:none;stroke:#000000;\"/>\n    <path clip-path=\"url(#p2ba7ec8c2b)\" d=\"M 404.049225 229.908832 \nL 385.971391 207.822626 \n\" style=\"fill:none;stroke:#000000;\"/>\n    <path clip-path=\"url(#p2ba7ec8c2b)\" d=\"M 404.049225 229.908832 \nL 378.659574 244.425007 \n\" style=\"fill:none;stroke:#000000;\"/>\n    <path clip-path=\"url(#p2ba7ec8c2b)\" d=\"M 290.525359 184.798695 \nL 242.948637 156.758299 \n\" style=\"fill:none;stroke:#000000;\"/>\n    <path clip-path=\"url(#p2ba7ec8c2b)\" d=\"M 242.948637 156.758299 \nL 187.836961 168.142223 \n\" style=\"fill:none;stroke:#000000;\"/>\n    <path clip-path=\"url(#p2ba7ec8c2b)\" d=\"M 242.948637 156.758299 \nL 248.018967 113.286662 \n\" style=\"fill:none;stroke:#000000;\"/>\n    <path clip-path=\"url(#p2ba7ec8c2b)\" d=\"M 187.836961 168.142223 \nL 134.697638 172.300684 \n\" style=\"fill:none;stroke:#000000;\"/>\n    <path clip-path=\"url(#p2ba7ec8c2b)\" d=\"M 267.185202 44.437085 \nL 273.16118 20.290909 \n\" style=\"fill:none;stroke:#000000;\"/>\n    <path clip-path=\"url(#p2ba7ec8c2b)\" d=\"M 55.01077 196.295809 \nL 26.836364 205.553939 \n\" style=\"fill:none;stroke:#000000;\"/>\n   </g>\n   <g id=\"PathCollection_1\">\n    <defs>\n     <path d=\"M 0 8.660254 \nC 2.296726 8.660254 4.499694 7.747755 6.123724 6.123724 \nC 7.747755 4.499694 8.660254 2.296726 8.660254 -0 \nC 8.660254 -2.296726 7.747755 -4.499694 6.123724 -6.123724 \nC 4.499694 -7.747755 2.296726 -8.660254 0 -8.660254 \nC -2.296726 -8.660254 -4.499694 -7.747755 -6.123724 -6.123724 \nC -7.747755 -4.499694 -8.660254 -2.296726 -8.660254 0 \nC -8.660254 2.296726 -7.747755 4.499694 -6.123724 6.123724 \nC -4.499694 7.747755 -2.296726 8.660254 0 8.660254 \nz\n\" id=\"C0_0_063e968bd8\"/>\n    </defs>\n    <g clip-path=\"url(#p2ba7ec8c2b)\">\n     <use style=\"fill:#8da0cb;stroke:#8da0cb;\" x=\"355.088007\" xlink:href=\"#C0_0_063e968bd8\" y=\"282.109091\"/>\n    </g>\n    <g clip-path=\"url(#p2ba7ec8c2b)\">\n     <use style=\"fill:#e78ac3;stroke:#e78ac3;\" x=\"259.438139\" xlink:href=\"#C0_0_063e968bd8\" y=\"76.148841\"/>\n    </g>\n    <g clip-path=\"url(#p2ba7ec8c2b)\">\n     <use style=\"fill:#fc8d62;stroke:#fc8d62;\" x=\"419.563636\" xlink:href=\"#C0_0_063e968bd8\" y=\"196.875118\"/>\n    </g>\n    <g clip-path=\"url(#p2ba7ec8c2b)\">\n     <use style=\"fill:#fc8d62;stroke:#fc8d62;\" x=\"371.885657\" xlink:href=\"#C0_0_063e968bd8\" y=\"226.193281\"/>\n    </g>\n    <g clip-path=\"url(#p2ba7ec8c2b)\">\n     <use style=\"fill:#e78ac3;stroke:#e78ac3;\" x=\"93.171922\" xlink:href=\"#C0_0_063e968bd8\" y=\"185.813224\"/>\n    </g>\n    <g clip-path=\"url(#p2ba7ec8c2b)\">\n     <use style=\"fill:#fc8d62;stroke:#fc8d62;\" x=\"177.125102\" xlink:href=\"#C0_0_063e968bd8\" y=\"187.760863\"/>\n    </g>\n    <g clip-path=\"url(#p2ba7ec8c2b)\">\n     <use style=\"fill:#fc8d62;stroke:#fc8d62;\" x=\"231.412458\" xlink:href=\"#C0_0_063e968bd8\" y=\"95.11016\"/>\n    </g>\n    <g clip-path=\"url(#p2ba7ec8c2b)\">\n     <use style=\"fill:#fc8d62;stroke:#fc8d62;\" x=\"111.192672\" xlink:href=\"#C0_0_063e968bd8\" y=\"157.329171\"/>\n    </g>\n    <g clip-path=\"url(#p2ba7ec8c2b)\">\n     <use style=\"fill:#e5c494;stroke:#e5c494;\" x=\"336.528203\" xlink:href=\"#C0_0_063e968bd8\" y=\"212.19068\"/>\n    </g>\n    <g clip-path=\"url(#p2ba7ec8c2b)\">\n     <use style=\"fill:#a6d854;stroke:#a6d854;\" x=\"362.002101\" xlink:href=\"#C0_0_063e968bd8\" y=\"263.728748\"/>\n    </g>\n    <g clip-path=\"url(#p2ba7ec8c2b)\">\n     <use style=\"fill:#8da0cb;stroke:#8da0cb;\" x=\"404.049225\" xlink:href=\"#C0_0_063e968bd8\" y=\"229.908832\"/>\n    </g>\n    <g clip-path=\"url(#p2ba7ec8c2b)\">\n     <use style=\"fill:#b3b3b3;stroke:#b3b3b3;\" x=\"385.971391\" xlink:href=\"#C0_0_063e968bd8\" y=\"207.822626\"/>\n    </g>\n    <g clip-path=\"url(#p2ba7ec8c2b)\">\n     <use style=\"fill:#66c2a5;stroke:#66c2a5;\" x=\"290.525359\" xlink:href=\"#C0_0_063e968bd8\" y=\"184.798695\"/>\n    </g>\n    <g clip-path=\"url(#p2ba7ec8c2b)\">\n     <use style=\"fill:#b3b3b3;stroke:#b3b3b3;\" x=\"343.268606\" xlink:href=\"#C0_0_063e968bd8\" y=\"251.545013\"/>\n    </g>\n    <g clip-path=\"url(#p2ba7ec8c2b)\">\n     <use style=\"fill:#b3b3b3;stroke:#b3b3b3;\" x=\"378.659574\" xlink:href=\"#C0_0_063e968bd8\" y=\"244.425007\"/>\n    </g>\n    <g clip-path=\"url(#p2ba7ec8c2b)\">\n     <use style=\"fill:#b3b3b3;stroke:#b3b3b3;\" x=\"242.948637\" xlink:href=\"#C0_0_063e968bd8\" y=\"156.758299\"/>\n    </g>\n    <g clip-path=\"url(#p2ba7ec8c2b)\">\n     <use style=\"fill:#b3b3b3;stroke:#b3b3b3;\" x=\"187.836961\" xlink:href=\"#C0_0_063e968bd8\" y=\"168.142223\"/>\n    </g>\n    <g clip-path=\"url(#p2ba7ec8c2b)\">\n     <use style=\"fill:#e5c494;stroke:#e5c494;\" x=\"248.018967\" xlink:href=\"#C0_0_063e968bd8\" y=\"113.286662\"/>\n    </g>\n    <g clip-path=\"url(#p2ba7ec8c2b)\">\n     <use style=\"fill:#66c2a5;stroke:#66c2a5;\" x=\"267.185202\" xlink:href=\"#C0_0_063e968bd8\" y=\"44.437085\"/>\n    </g>\n    <g clip-path=\"url(#p2ba7ec8c2b)\">\n     <use style=\"fill:#e5c494;stroke:#e5c494;\" x=\"134.697638\" xlink:href=\"#C0_0_063e968bd8\" y=\"172.300684\"/>\n    </g>\n    <g clip-path=\"url(#p2ba7ec8c2b)\">\n     <use style=\"fill:#66c2a5;stroke:#66c2a5;\" x=\"55.01077\" xlink:href=\"#C0_0_063e968bd8\" y=\"196.295809\"/>\n    </g>\n    <g clip-path=\"url(#p2ba7ec8c2b)\">\n     <use style=\"fill:#8da0cb;stroke:#8da0cb;\" x=\"273.16118\" xlink:href=\"#C0_0_063e968bd8\" y=\"20.290909\"/>\n    </g>\n    <g clip-path=\"url(#p2ba7ec8c2b)\">\n     <use style=\"fill:#8da0cb;stroke:#8da0cb;\" x=\"26.836364\" xlink:href=\"#C0_0_063e968bd8\" y=\"205.553939\"/>\n    </g>\n   </g>\n  </g>\n </g>\n <defs>\n  <clipPath id=\"p2ba7ec8c2b\">\n   <rect height=\"288\" width=\"432\" x=\"7.2\" y=\"7.2\"/>\n  </clipPath>\n </defs>\n</svg>\n",
      "image/png": "[encoded data removed]"
     },
     "metadata": {}
    }
   ],
   "source": [
    "nx.draw(G, node_color=list(map(int, list(node_labels_G.values()))), cmap=plt.cm.Set2)"
   ]
  },
  {
   "cell_type": "code",
   "execution_count": 64,
   "metadata": {},
   "outputs": [
    {
     "output_type": "display_data",
     "data": {
      "text/plain": "<Figure size 432x288 with 1 Axes>",
      "image/svg+xml": "<?xml version=\"1.0\" encoding=\"utf-8\" standalone=\"no\"?>\n<!DOCTYPE svg PUBLIC \"-//W3C//DTD SVG 1.1//EN\"\n  \"http://www.w3.org/Graphics/SVG/1.1/DTD/svg11.dtd\">\n<!-- Created with matplotlib (https://matplotlib.org/) -->\n<svg height=\"302.4pt\" version=\"1.1\" viewBox=\"0 0 446.4 302.4\" width=\"446.4pt\" xmlns=\"http://www.w3.org/2000/svg\" xmlns:xlink=\"http://www.w3.org/1999/xlink\">\n <metadata>\n  <rdf:RDF xmlns:cc=\"http://creativecommons.org/ns#\" xmlns:dc=\"http://purl.org/dc/elements/1.1/\" xmlns:rdf=\"http://www.w3.org/1999/02/22-rdf-syntax-ns#\">\n   <cc:Work>\n    <dc:type rdf:resource=\"http://purl.org/dc/dcmitype/StillImage\"/>\n    <dc:date>2021-05-04T16:22:59.368523</dc:date>\n    <dc:format>image/svg+xml</dc:format>\n    <dc:creator>\n     <cc:Agent>\n      <dc:title>Matplotlib v3.3.2, https://matplotlib.org/</dc:title>\n     </cc:Agent>\n    </dc:creator>\n   </cc:Work>\n  </rdf:RDF>\n </metadata>\n <defs>\n  <style type=\"text/css\">*{stroke-linecap:butt;stroke-linejoin:round;}</style>\n </defs>\n <g id=\"figure_1\">\n  <g id=\"patch_1\">\n   <path d=\"M 0 302.4 \nL 446.4 302.4 \nL 446.4 0 \nL 0 0 \nz\n\" style=\"fill:#ffffff;\"/>\n  </g>\n  <g id=\"axes_1\">\n   <g id=\"LineCollection_1\">\n    <path clip-path=\"url(#p0069803397)\" d=\"M 412.573097 67.65537 \nL 341.856054 91.455109 \n\" style=\"fill:none;stroke:#000000;\"/>\n    <path clip-path=\"url(#p0069803397)\" d=\"M 210.232103 134.044191 \nL 287.217083 166.479157 \n\" style=\"fill:none;stroke:#000000;\"/>\n    <path clip-path=\"url(#p0069803397)\" d=\"M 210.232103 134.044191 \nL 161.483034 93.505786 \n\" style=\"fill:none;stroke:#000000;\"/>\n    <path clip-path=\"url(#p0069803397)\" d=\"M 328.12165 282.109091 \nL 351.770865 247.126393 \n\" style=\"fill:none;stroke:#000000;\"/>\n    <path clip-path=\"url(#p0069803397)\" d=\"M 287.217083 166.479157 \nL 365.286394 141.993686 \n\" style=\"fill:none;stroke:#000000;\"/>\n    <path clip-path=\"url(#p0069803397)\" d=\"M 287.217083 166.479157 \nL 305.695856 211.617514 \n\" style=\"fill:none;stroke:#000000;\"/>\n    <path clip-path=\"url(#p0069803397)\" d=\"M 365.286394 141.993686 \nL 341.856054 91.455109 \n\" style=\"fill:none;stroke:#000000;\"/>\n    <path clip-path=\"url(#p0069803397)\" d=\"M 365.286394 141.993686 \nL 419.563636 181.754799 \n\" style=\"fill:none;stroke:#000000;\"/>\n    <path clip-path=\"url(#p0069803397)\" d=\"M 161.483034 93.505786 \nL 235.138751 67.452476 \n\" style=\"fill:none;stroke:#000000;\"/>\n    <path clip-path=\"url(#p0069803397)\" d=\"M 161.483034 93.505786 \nL 70.708995 72.564223 \n\" style=\"fill:none;stroke:#000000;\"/>\n    <path clip-path=\"url(#p0069803397)\" d=\"M 235.138751 67.452476 \nL 341.856054 91.455109 \n\" style=\"fill:none;stroke:#000000;\"/>\n    <path clip-path=\"url(#p0069803397)\" d=\"M 235.138751 67.452476 \nL 166.771801 32.802339 \n\" style=\"fill:none;stroke:#000000;\"/>\n    <path clip-path=\"url(#p0069803397)\" d=\"M 305.695856 211.617514 \nL 351.770865 247.126393 \n\" style=\"fill:none;stroke:#000000;\"/>\n    <path clip-path=\"url(#p0069803397)\" d=\"M 419.563636 181.754799 \nL 417.662447 222.271931 \n\" style=\"fill:none;stroke:#000000;\"/>\n    <path clip-path=\"url(#p0069803397)\" d=\"M 70.708995 72.564223 \nL 26.836364 42.687196 \n\" style=\"fill:none;stroke:#000000;\"/>\n    <path clip-path=\"url(#p0069803397)\" d=\"M 166.771801 32.802339 \nL 81.372943 20.290909 \n\" style=\"fill:none;stroke:#000000;\"/>\n    <path clip-path=\"url(#p0069803397)\" d=\"M 351.770865 247.126393 \nL 417.662447 222.271931 \n\" style=\"fill:none;stroke:#000000;\"/>\n    <path clip-path=\"url(#p0069803397)\" d=\"M 26.836364 42.687196 \nL 81.372943 20.290909 \n\" style=\"fill:none;stroke:#000000;\"/>\n   </g>\n   <g id=\"PathCollection_1\">\n    <defs>\n     <path d=\"M 0 8.660254 \nC 2.296726 8.660254 4.499694 7.747755 6.123724 6.123724 \nC 7.747755 4.499694 8.660254 2.296726 8.660254 -0 \nC 8.660254 -2.296726 7.747755 -4.499694 6.123724 -6.123724 \nC 4.499694 -7.747755 2.296726 -8.660254 0 -8.660254 \nC -2.296726 -8.660254 -4.499694 -7.747755 -6.123724 -6.123724 \nC -7.747755 -4.499694 -8.660254 -2.296726 -8.660254 0 \nC -8.660254 2.296726 -7.747755 4.499694 -6.123724 6.123724 \nC -4.499694 7.747755 -2.296726 8.660254 0 8.660254 \nz\n\" id=\"C0_0_e65b89da88\"/>\n    </defs>\n    <g clip-path=\"url(#p0069803397)\">\n     <use style=\"fill:#66c2a5;stroke:#66c2a5;\" x=\"412.573097\" xlink:href=\"#C0_0_e65b89da88\" y=\"67.65537\"/>\n    </g>\n    <g clip-path=\"url(#p0069803397)\">\n     <use style=\"fill:#8da0cb;stroke:#8da0cb;\" x=\"210.232103\" xlink:href=\"#C0_0_e65b89da88\" y=\"134.044191\"/>\n    </g>\n    <g clip-path=\"url(#p0069803397)\">\n     <use style=\"fill:#66c2a5;stroke:#66c2a5;\" x=\"328.12165\" xlink:href=\"#C0_0_e65b89da88\" y=\"282.109091\"/>\n    </g>\n    <g clip-path=\"url(#p0069803397)\">\n     <use style=\"fill:#a6d854;stroke:#a6d854;\" x=\"287.217083\" xlink:href=\"#C0_0_e65b89da88\" y=\"166.479157\"/>\n    </g>\n    <g clip-path=\"url(#p0069803397)\">\n     <use style=\"fill:#b3b3b3;stroke:#b3b3b3;\" x=\"365.286394\" xlink:href=\"#C0_0_e65b89da88\" y=\"141.993686\"/>\n    </g>\n    <g clip-path=\"url(#p0069803397)\">\n     <use style=\"fill:#a6d854;stroke:#a6d854;\" x=\"161.483034\" xlink:href=\"#C0_0_e65b89da88\" y=\"93.505786\"/>\n    </g>\n    <g clip-path=\"url(#p0069803397)\">\n     <use style=\"fill:#b3b3b3;stroke:#b3b3b3;\" x=\"235.138751\" xlink:href=\"#C0_0_e65b89da88\" y=\"67.452476\"/>\n    </g>\n    <g clip-path=\"url(#p0069803397)\">\n     <use style=\"fill:#b3b3b3;stroke:#b3b3b3;\" x=\"341.856054\" xlink:href=\"#C0_0_e65b89da88\" y=\"91.455109\"/>\n    </g>\n    <g clip-path=\"url(#p0069803397)\">\n     <use style=\"fill:#66c2a5;stroke:#66c2a5;\" x=\"305.695856\" xlink:href=\"#C0_0_e65b89da88\" y=\"211.617514\"/>\n    </g>\n    <g clip-path=\"url(#p0069803397)\">\n     <use style=\"fill:#66c2a5;stroke:#66c2a5;\" x=\"419.563636\" xlink:href=\"#C0_0_e65b89da88\" y=\"181.754799\"/>\n    </g>\n    <g clip-path=\"url(#p0069803397)\">\n     <use style=\"fill:#66c2a5;stroke:#66c2a5;\" x=\"70.708995\" xlink:href=\"#C0_0_e65b89da88\" y=\"72.564223\"/>\n    </g>\n    <g clip-path=\"url(#p0069803397)\">\n     <use style=\"fill:#66c2a5;stroke:#66c2a5;\" x=\"166.771801\" xlink:href=\"#C0_0_e65b89da88\" y=\"32.802339\"/>\n    </g>\n    <g clip-path=\"url(#p0069803397)\">\n     <use style=\"fill:#a6d854;stroke:#a6d854;\" x=\"351.770865\" xlink:href=\"#C0_0_e65b89da88\" y=\"247.126393\"/>\n    </g>\n    <g clip-path=\"url(#p0069803397)\">\n     <use style=\"fill:#66c2a5;stroke:#66c2a5;\" x=\"417.662447\" xlink:href=\"#C0_0_e65b89da88\" y=\"222.271931\"/>\n    </g>\n    <g clip-path=\"url(#p0069803397)\">\n     <use style=\"fill:#66c2a5;stroke:#66c2a5;\" x=\"26.836364\" xlink:href=\"#C0_0_e65b89da88\" y=\"42.687196\"/>\n    </g>\n    <g clip-path=\"url(#p0069803397)\">\n     <use style=\"fill:#66c2a5;stroke:#66c2a5;\" x=\"81.372943\" xlink:href=\"#C0_0_e65b89da88\" y=\"20.290909\"/>\n    </g>\n   </g>\n  </g>\n </g>\n <defs>\n  <clipPath id=\"p0069803397\">\n   <rect height=\"288\" width=\"432\" x=\"7.2\" y=\"7.2\"/>\n  </clipPath>\n </defs>\n</svg>\n",
      "image/png": "[encoded data removed]"
     },
     "metadata": {}
    }
   ],
   "source": [
    "nx.draw(G1, node_color=list(map(int, list(node_labels_G1.values()))), cmap=plt.cm.Set2)"
   ]
  },
  {
   "cell_type": "code",
   "execution_count": 65,
   "metadata": {},
   "outputs": [],
   "source": [
    "#for k in new_dicc:\n",
    "#    for key in agg_colors_G1:\n",
    "#        if agg_colors_G1[key] == str(new_dicc[k]):\n",
    "#            node_labels_G1[key] = k"
   ]
  },
  {
   "cell_type": "code",
   "execution_count": 66,
   "metadata": {},
   "outputs": [],
   "source": [
    "#node_labels_G1"
   ]
  },
  {
   "cell_type": "code",
   "execution_count": 67,
   "metadata": {},
   "outputs": [],
   "source": [
    "#nx.draw(G1, with_labels=True, node_color=list(map(int, list(node_labels_G1.values()))), cmap=plt.cm.Set2)"
   ]
  },
  {
   "cell_type": "code",
   "execution_count": 68,
   "metadata": {},
   "outputs": [],
   "source": [
    "#colors_G1"
   ]
  },
  {
   "cell_type": "code",
   "execution_count": 69,
   "metadata": {},
   "outputs": [],
   "source": [
    "#colors_G1.extend(list(node_labels_G1.values()))"
   ]
  },
  {
   "cell_type": "code",
   "execution_count": 70,
   "metadata": {},
   "outputs": [],
   "source": [
    "#colors_G1"
   ]
  },
  {
   "cell_type": "code",
   "execution_count": 71,
   "metadata": {},
   "outputs": [
    {
     "output_type": "execute_result",
     "data": {
      "text/plain": [
       "Counter({1: 7,\n",
       "         2: 2,\n",
       "         3: 19,\n",
       "         4: 1,\n",
       "         5: 5,\n",
       "         7: 2,\n",
       "         8: 1,\n",
       "         9: 7,\n",
       "         10: 1,\n",
       "         11: 4,\n",
       "         12: 2,\n",
       "         13: 2,\n",
       "         14: 2,\n",
       "         15: 1,\n",
       "         16: 3,\n",
       "         17: 2,\n",
       "         26: 1,\n",
       "         27: 2,\n",
       "         28: 2,\n",
       "         29: 1,\n",
       "         30: 1,\n",
       "         31: 1})"
      ]
     },
     "metadata": {},
     "execution_count": 71
    }
   ],
   "source": [
    "color_freq1 = collections.Counter(sorted(colors_G))\n",
    "color_freq1"
   ]
  },
  {
   "cell_type": "code",
   "execution_count": 72,
   "metadata": {},
   "outputs": [
    {
     "output_type": "execute_result",
     "data": {
      "text/plain": [
       "Counter({2: 2,\n",
       "         3: 16,\n",
       "         4: 1,\n",
       "         6: 1,\n",
       "         8: 1,\n",
       "         10: 2,\n",
       "         11: 14,\n",
       "         12: 1,\n",
       "         17: 3,\n",
       "         18: 1,\n",
       "         23: 3,\n",
       "         31: 2,\n",
       "         32: 1})"
      ]
     },
     "metadata": {},
     "execution_count": 72
    }
   ],
   "source": [
    "color_freq2 = collections.Counter(sorted(colors_G1))\n",
    "color_freq2"
   ]
  },
  {
   "cell_type": "code",
   "execution_count": 73,
   "metadata": {},
   "outputs": [],
   "source": [
    "r1 = dict(color_freq1)\n",
    "r2 = dict(color_freq2)"
   ]
  },
  {
   "cell_type": "code",
   "execution_count": 74,
   "metadata": {},
   "outputs": [
    {
     "output_type": "execute_result",
     "data": {
      "text/plain": [
       "{1: 7,\n",
       " 2: 2,\n",
       " 3: 19,\n",
       " 4: 1,\n",
       " 5: 5,\n",
       " 7: 2,\n",
       " 8: 1,\n",
       " 9: 7,\n",
       " 10: 1,\n",
       " 11: 4,\n",
       " 12: 2,\n",
       " 13: 2,\n",
       " 14: 2,\n",
       " 15: 1,\n",
       " 16: 3,\n",
       " 17: 2,\n",
       " 26: 1,\n",
       " 27: 2,\n",
       " 28: 2,\n",
       " 29: 1,\n",
       " 30: 1,\n",
       " 31: 1}"
      ]
     },
     "metadata": {},
     "execution_count": 74
    }
   ],
   "source": [
    "r1"
   ]
  },
  {
   "cell_type": "code",
   "execution_count": 75,
   "metadata": {},
   "outputs": [
    {
     "output_type": "execute_result",
     "data": {
      "text/plain": [
       "{2: 2,\n",
       " 3: 16,\n",
       " 4: 1,\n",
       " 6: 1,\n",
       " 8: 1,\n",
       " 10: 2,\n",
       " 11: 14,\n",
       " 12: 1,\n",
       " 17: 3,\n",
       " 18: 1,\n",
       " 23: 3,\n",
       " 31: 2,\n",
       " 32: 1}"
      ]
     },
     "metadata": {},
     "execution_count": 75
    }
   ],
   "source": [
    "r2"
   ]
  },
  {
   "cell_type": "code",
   "execution_count": 76,
   "metadata": {},
   "outputs": [],
   "source": [
    "def wl_graph_features(r):\n",
    "    z = np.zeros(len(G)+len(G1)+1)\n",
    "    e = dict(enumerate(z,start=1))\n",
    "    for k in e:\n",
    "        for key in r:\n",
    "            if k == key:\n",
    "                e[k] = r[key]\n",
    "    wl_features = np.array(list(e.values()))\n",
    "    return wl_features"
   ]
  },
  {
   "cell_type": "code",
   "execution_count": 77,
   "metadata": {},
   "outputs": [],
   "source": [
    "wl1 = wl_graph_features(r1)"
   ]
  },
  {
   "cell_type": "code",
   "execution_count": 78,
   "metadata": {},
   "outputs": [
    {
     "output_type": "execute_result",
     "data": {
      "text/plain": [
       "array([ 7.,  2., 19.,  1.,  5.,  0.,  2.,  1.,  7.,  1.,  4.,  2.,  2.,\n",
       "        2.,  1.,  3.,  2.,  0.,  0.,  0.,  0.,  0.,  0.,  0.,  0.,  1.,\n",
       "        2.,  2.,  1.,  1.,  1.,  0.,  0.,  0.,  0.,  0.,  0.,  0.,  0.,\n",
       "        0.])"
      ]
     },
     "metadata": {},
     "execution_count": 78
    }
   ],
   "source": [
    "wl1"
   ]
  },
  {
   "cell_type": "code",
   "execution_count": 79,
   "metadata": {},
   "outputs": [],
   "source": [
    "wl2 = wl_graph_features(r2)"
   ]
  },
  {
   "cell_type": "code",
   "execution_count": 80,
   "metadata": {},
   "outputs": [
    {
     "output_type": "execute_result",
     "data": {
      "text/plain": [
       "array([ 0.,  2., 16.,  1.,  0.,  1.,  0.,  1.,  0.,  2., 14.,  1.,  0.,\n",
       "        0.,  0.,  0.,  3.,  1.,  0.,  0.,  0.,  0.,  3.,  0.,  0.,  0.,\n",
       "        0.,  0.,  0.,  0.,  2.,  1.,  0.,  0.,  0.,  0.,  0.,  0.,  0.,\n",
       "        0.])"
      ]
     },
     "metadata": {},
     "execution_count": 80
    }
   ],
   "source": [
    "wl2"
   ]
  },
  {
   "cell_type": "code",
   "execution_count": 81,
   "metadata": {},
   "outputs": [
    {
     "output_type": "execute_result",
     "data": {
      "text/plain": [
       "378.0"
      ]
     },
     "metadata": {},
     "execution_count": 81
    }
   ],
   "source": [
    "np.dot(wl1,wl2)"
   ]
  },
  {
   "source": [
    "\n",
    "for n in range(len(node_labels)):\n",
    "\n",
    "    if int(agg[n+1][0]) and int(agg[n+1][1])  == 1 : \n",
    "            agg[n+1] = str(sum_labels(int(agg[n+1])))\n",
    "\n",
    "    elif len(agg[n+1]) >= 3 :\n",
    "\n",
    "        if int(agg[n+1][0]) % 2 == 0 :\n",
    "            #and (check_string(int(agg[1])) % 2) == 1\n",
    "            agg[n+1] = str(sum(list(map(int, list(agg[n+1])))[1:]) - 1)\n",
    "            #agg[5] = str(agg[5])\n",
    "\n",
    "        if int(agg[n+1][0]) % 2 != 0 :\n",
    "            agg[n+1] = str(sum(list(map(int, list(agg[n+1])))[1:]))\n",
    "            #agg[5] = str(agg[5])    \n",
    "\n",
    "    elif len(agg[n+1]) < 3 :\n",
    "        agg[n+1] = str(sum_labels(int(agg[n+1])))\n",
    "\n"
   ],
   "cell_type": "markdown",
   "metadata": {}
  },
  {
   "source": [
    "def hash_color(agg):\n",
    "    for n in G.nodes():\n",
    "\n",
    "        if check_string(int(updated_labels[n])) == 1 : \n",
    "                 updated_labels[n] = sum_labels(int(updated_labels[n]))\n",
    "                 updated_labels[n] = str(updated_labels[n])\n",
    "\n",
    "\n",
    "        elif len(updated_labels[n]) >= 3 and check_string(int(updated_labels[n])) % 2 == 0 :\n",
    "               updated_labels[n] = sum(list(map(int, list(updated_labels[n])))[1:]) - 1\n",
    "               updated_labels[n] = str(updated_labels[n])\n",
    "\n",
    "\n",
    "        elif len(updated_labels[n]) >= 3 and (check_string(int(updated_labels[n])) % 2) == 1 :\n",
    "                updated_labels[n] = sum(list(map(int, list(updated_labels[n])))[1:])\n",
    "                updated_labels[n] = str(updated_labels[n])  \n",
    "\n",
    "        elif len(updated_labels[n]) < 3 :\n",
    "                 updated_labels[n] = sum_labels(int(updated_labels[n]))\n",
    "                 updated_labels[n] = str(updated_labels[n])\n",
    "\n",
    "    return updated_labels\n"
   ],
   "cell_type": "markdown",
   "metadata": {}
  }
 ]
}