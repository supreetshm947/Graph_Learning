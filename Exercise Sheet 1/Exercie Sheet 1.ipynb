{
  "nbformat": 4,
  "nbformat_minor": 0,
  "metadata": {
    "kernelspec": {
      "name": "python391jvsc74a57bd0fe06f96167c4fc64a78c238d993189072a4e72b444216e36203d6f96126eaf0a",
      "display_name": "Python 3.9.1 64-bit"
    },
    "language_info": {
      "codemirror_mode": {
        "name": "ipython",
        "version": 3
      },
      "file_extension": ".py",
      "mimetype": "text/x-python",
      "name": "python",
      "nbconvert_exporter": "python",
      "pygments_lexer": "ipython3",
      "version": "3.9.1"
    },
    "toc": {
      "base_numbering": 1,
      "nav_menu": {},
      "number_sections": true,
      "sideBar": true,
      "skip_h1_title": false,
      "title_cell": "Table of Contents",
      "title_sidebar": "Contents",
      "toc_cell": false,
      "toc_position": {},
      "toc_section_display": true,
      "toc_window_display": false
    },
    "metadata": {
      "interpreter": {
        "hash": "fe06f96167c4fc64a78c238d993189072a4e72b444216e36203d6f96126eaf0a"
      }
    },
    "colab": {
      "name": "graphletkernel+walks.ipynb",
      "provenance": [],
      "collapsed_sections": []
    }
  },
  "cells": [
    {
      "cell_type": "code",
      "metadata": {
        "id": "8ZtgiNbCjAnO"
      },
      "source": [
        "\n",
        "import numpy as np\n",
        "import data_utils\n",
        "import pickle\n",
        "import matplotlib.pyplot as plt\n",
        "import random\n",
        "import networkx as nx\n",
        "from sklearn.model_selection import cross_val_score\n",
        "from sklearn import svm\n",
        "import collections\n",
        "import math\n",
        "from functools import cmp_to_key\n"
      ],
      "execution_count": 1,
      "outputs": []
    },
    {
      "source": [
        "Exercise 1 Graphlet Kernel"
      ],
      "cell_type": "markdown",
      "metadata": {}
    },
    {
      "cell_type": "code",
      "metadata": {
        "id": "E4Bu7LLWu0di"
      },
      "source": [
        "with open('datasets/NCI1/data.pkl', 'rb') as f:\n",
        "    graphs = pickle.load(f)"
      ],
      "execution_count": 2,
      "outputs": []
    },
    {
      "cell_type": "code",
      "metadata": {
        "id": "aqGOw7fejAnZ",
        "colab": {
          "base_uri": "https://localhost:8080/",
          "height": 185
        },
        "outputId": "fde4066c-f6fc-47ab-847e-8996a86e7d64"
      },
      "source": [
        "G1 = graphs[990]\n",
        "nx.draw(G1)"
      ],
      "execution_count": 8,
      "outputs": [
        {
          "output_type": "display_data",
          "data": {
            "text/plain": "<Figure size 432x288 with 1 Axes>",
            "image/svg+xml": "<?xml version=\"1.0\" encoding=\"utf-8\" standalone=\"no\"?>\r\n<!DOCTYPE svg PUBLIC \"-//W3C//DTD SVG 1.1//EN\"\r\n  \"http://www.w3.org/Graphics/SVG/1.1/DTD/svg11.dtd\">\r\n<svg height=\"302.4pt\" version=\"1.1\" viewBox=\"0 0 446.4 302.4\" width=\"446.4pt\" xmlns=\"http://www.w3.org/2000/svg\" xmlns:xlink=\"http://www.w3.org/1999/xlink\">\r\n <metadata>\r\n  <rdf:RDF xmlns:cc=\"http://creativecommons.org/ns#\" xmlns:dc=\"http://purl.org/dc/elements/1.1/\" xmlns:rdf=\"http://www.w3.org/1999/02/22-rdf-syntax-ns#\">\r\n   <cc:Work>\r\n    <dc:type rdf:resource=\"http://purl.org/dc/dcmitype/StillImage\"/>\r\n    <dc:date>2021-05-03T18:51:31.486810</dc:date>\r\n    <dc:format>image/svg+xml</dc:format>\r\n    <dc:creator>\r\n     <cc:Agent>\r\n      <dc:title>Matplotlib v3.4.1, https://matplotlib.org/</dc:title>\r\n     </cc:Agent>\r\n    </dc:creator>\r\n   </cc:Work>\r\n  </rdf:RDF>\r\n </metadata>\r\n <defs>\r\n  <style type=\"text/css\">*{stroke-linecap:butt;stroke-linejoin:round;}</style>\r\n </defs>\r\n <g id=\"figure_1\">\r\n  <g id=\"patch_1\">\r\n   <path d=\"M 0 302.4 \r\nL 446.4 302.4 \r\nL 446.4 0 \r\nL 0 0 \r\nz\r\n\" style=\"fill:#ffffff;\"/>\r\n  </g>\r\n  <g id=\"axes_1\">\r\n   <g id=\"LineCollection_1\">\r\n    <path clip-path=\"url(#p990f668384)\" d=\"M 343.946976 20.290909 \r\nL 325.988274 83.682547 \r\n\" style=\"fill:none;stroke:#000000;\"/>\r\n    <path clip-path=\"url(#p990f668384)\" d=\"M 232.803274 142.241378 \r\nL 247.667434 218.774179 \r\n\" style=\"fill:none;stroke:#000000;\"/>\r\n    <path clip-path=\"url(#p990f668384)\" d=\"M 232.803274 142.241378 \r\nL 119.465216 133.25025 \r\n\" style=\"fill:none;stroke:#000000;\"/>\r\n    <path clip-path=\"url(#p990f668384)\" d=\"M 232.803274 142.241378 \r\nL 325.988274 83.682547 \r\n\" style=\"fill:none;stroke:#000000;\"/>\r\n    <path clip-path=\"url(#p990f668384)\" d=\"M 247.667434 218.774179 \r\nL 259.475802 282.109091 \r\n\" style=\"fill:none;stroke:#000000;\"/>\r\n    <path clip-path=\"url(#p990f668384)\" d=\"M 119.465216 133.25025 \r\nL 26.836364 127.25889 \r\n\" style=\"fill:none;stroke:#000000;\"/>\r\n    <path clip-path=\"url(#p990f668384)\" d=\"M 325.988274 83.682547 \r\nL 419.563636 76.99166 \r\n\" style=\"fill:none;stroke:#000000;\"/>\r\n   </g>\r\n   <g id=\"PathCollection_1\">\r\n    <defs>\r\n     <path d=\"M 0 8.660254 \r\nC 2.296726 8.660254 4.499694 7.747755 6.123724 6.123724 \r\nC 7.747755 4.499694 8.660254 2.296726 8.660254 0 \r\nC 8.660254 -2.296726 7.747755 -4.499694 6.123724 -6.123724 \r\nC 4.499694 -7.747755 2.296726 -8.660254 0 -8.660254 \r\nC -2.296726 -8.660254 -4.499694 -7.747755 -6.123724 -6.123724 \r\nC -7.747755 -4.499694 -8.660254 -2.296726 -8.660254 0 \r\nC -8.660254 2.296726 -7.747755 4.499694 -6.123724 6.123724 \r\nC -4.499694 7.747755 -2.296726 8.660254 0 8.660254 \r\nz\r\n\" id=\"m60230fa57e\" style=\"stroke:#1f78b4;\"/>\r\n    </defs>\r\n    <g clip-path=\"url(#p990f668384)\">\r\n     <use style=\"fill:#1f78b4;stroke:#1f78b4;\" x=\"343.946976\" xlink:href=\"#m60230fa57e\" y=\"20.290909\"/>\r\n     <use style=\"fill:#1f78b4;stroke:#1f78b4;\" x=\"232.803274\" xlink:href=\"#m60230fa57e\" y=\"142.241378\"/>\r\n     <use style=\"fill:#1f78b4;stroke:#1f78b4;\" x=\"247.667434\" xlink:href=\"#m60230fa57e\" y=\"218.774179\"/>\r\n     <use style=\"fill:#1f78b4;stroke:#1f78b4;\" x=\"119.465216\" xlink:href=\"#m60230fa57e\" y=\"133.25025\"/>\r\n     <use style=\"fill:#1f78b4;stroke:#1f78b4;\" x=\"259.475802\" xlink:href=\"#m60230fa57e\" y=\"282.109091\"/>\r\n     <use style=\"fill:#1f78b4;stroke:#1f78b4;\" x=\"26.836364\" xlink:href=\"#m60230fa57e\" y=\"127.25889\"/>\r\n     <use style=\"fill:#1f78b4;stroke:#1f78b4;\" x=\"325.988274\" xlink:href=\"#m60230fa57e\" y=\"83.682547\"/>\r\n     <use style=\"fill:#1f78b4;stroke:#1f78b4;\" x=\"419.563636\" xlink:href=\"#m60230fa57e\" y=\"76.99166\"/>\r\n    </g>\r\n   </g>\r\n  </g>\r\n </g>\r\n <defs>\r\n  <clipPath id=\"p990f668384\">\r\n   <rect height=\"288\" width=\"432\" x=\"7.2\" y=\"7.2\"/>\r\n  </clipPath>\r\n </defs>\r\n</svg>\r\n",
            "image/png": "[encoded data removed]"
          },
          "metadata": {}
        }
      ]
    },
    {
      "cell_type": "code",
      "metadata": {
        "id": "5POADBMejAna",
        "colab": {
          "base_uri": "https://localhost:8080/",
          "height": 185
        },
        "outputId": "bdfdc966-94cb-42db-96f0-253df4a57e76"
      },
      "source": [
        "G2 = graphs[991]\n",
        "nx.draw(G2)"
      ],
      "execution_count": 3,
      "outputs": [
        {
          "output_type": "display_data",
          "data": {
            "text/plain": "<Figure size 432x288 with 1 Axes>",
            "image/svg+xml": "<?xml version=\"1.0\" encoding=\"utf-8\" standalone=\"no\"?>\r\n<!DOCTYPE svg PUBLIC \"-//W3C//DTD SVG 1.1//EN\"\r\n  \"http://www.w3.org/Graphics/SVG/1.1/DTD/svg11.dtd\">\r\n<svg height=\"302.4pt\" version=\"1.1\" viewBox=\"0 0 446.4 302.4\" width=\"446.4pt\" xmlns=\"http://www.w3.org/2000/svg\" xmlns:xlink=\"http://www.w3.org/1999/xlink\">\r\n <metadata>\r\n  <rdf:RDF xmlns:cc=\"http://creativecommons.org/ns#\" xmlns:dc=\"http://purl.org/dc/elements/1.1/\" xmlns:rdf=\"http://www.w3.org/1999/02/22-rdf-syntax-ns#\">\r\n   <cc:Work>\r\n    <dc:type rdf:resource=\"http://purl.org/dc/dcmitype/StillImage\"/>\r\n    <dc:date>2021-05-03T18:51:11.658875</dc:date>\r\n    <dc:format>image/svg+xml</dc:format>\r\n    <dc:creator>\r\n     <cc:Agent>\r\n      <dc:title>Matplotlib v3.4.1, https://matplotlib.org/</dc:title>\r\n     </cc:Agent>\r\n    </dc:creator>\r\n   </cc:Work>\r\n  </rdf:RDF>\r\n </metadata>\r\n <defs>\r\n  <style type=\"text/css\">*{stroke-linecap:butt;stroke-linejoin:round;}</style>\r\n </defs>\r\n <g id=\"figure_1\">\r\n  <g id=\"patch_1\">\r\n   <path d=\"M 0 302.4 \r\nL 446.4 302.4 \r\nL 446.4 0 \r\nL 0 0 \r\nz\r\n\" style=\"fill:#ffffff;\"/>\r\n  </g>\r\n  <g id=\"axes_1\">\r\n   <g id=\"LineCollection_1\">\r\n    <path clip-path=\"url(#p3769398d83)\" d=\"M 419.563636 244.523261 \r\nL 383.370755 242.885236 \r\n\" style=\"fill:none;stroke:#000000;\"/>\r\n    <path clip-path=\"url(#p3769398d83)\" d=\"M 89.441447 54.630239 \r\nL 122.06225 99.76027 \r\n\" style=\"fill:none;stroke:#000000;\"/>\r\n    <path clip-path=\"url(#p3769398d83)\" d=\"M 89.441447 54.630239 \r\nL 63.832162 20.290909 \r\n\" style=\"fill:none;stroke:#000000;\"/>\r\n    <path clip-path=\"url(#p3769398d83)\" d=\"M 243.568614 46.179507 \r\nL 228.816827 91.369124 \r\n\" style=\"fill:none;stroke:#000000;\"/>\r\n    <path clip-path=\"url(#p3769398d83)\" d=\"M 56.032113 240.341921 \r\nL 93.224207 201.92052 \r\n\" style=\"fill:none;stroke:#000000;\"/>\r\n    <path clip-path=\"url(#p3769398d83)\" d=\"M 56.032113 240.341921 \r\nL 26.836364 269.397396 \r\n\" style=\"fill:none;stroke:#000000;\"/>\r\n    <path clip-path=\"url(#p3769398d83)\" d=\"M 289.690048 176.957683 \r\nL 339.46567 210.338843 \r\n\" style=\"fill:none;stroke:#000000;\"/>\r\n    <path clip-path=\"url(#p3769398d83)\" d=\"M 289.690048 176.957683 \r\nL 239.574989 179.802164 \r\n\" style=\"fill:none;stroke:#000000;\"/>\r\n    <path clip-path=\"url(#p3769398d83)\" d=\"M 289.690048 176.957683 \r\nL 267.703413 126.795239 \r\n\" style=\"fill:none;stroke:#000000;\"/>\r\n    <path clip-path=\"url(#p3769398d83)\" d=\"M 339.46567 210.338843 \r\nL 383.370755 242.885236 \r\n\" style=\"fill:none;stroke:#000000;\"/>\r\n    <path clip-path=\"url(#p3769398d83)\" d=\"M 187.172997 167.484658 \r\nL 177.378382 111.757042 \r\n\" style=\"fill:none;stroke:#000000;\"/>\r\n    <path clip-path=\"url(#p3769398d83)\" d=\"M 187.172997 167.484658 \r\nL 239.574989 179.802164 \r\n\" style=\"fill:none;stroke:#000000;\"/>\r\n    <path clip-path=\"url(#p3769398d83)\" d=\"M 187.172997 167.484658 \r\nL 140.525387 193.498448 \r\n\" style=\"fill:none;stroke:#000000;\"/>\r\n    <path clip-path=\"url(#p3769398d83)\" d=\"M 177.378382 111.757042 \r\nL 228.816827 91.369124 \r\n\" style=\"fill:none;stroke:#000000;\"/>\r\n    <path clip-path=\"url(#p3769398d83)\" d=\"M 177.378382 111.757042 \r\nL 122.06225 99.76027 \r\n\" style=\"fill:none;stroke:#000000;\"/>\r\n    <path clip-path=\"url(#p3769398d83)\" d=\"M 383.370755 242.885236 \r\nL 399.793063 282.109091 \r\n\" style=\"fill:none;stroke:#000000;\"/>\r\n    <path clip-path=\"url(#p3769398d83)\" d=\"M 267.703413 126.795239 \r\nL 228.816827 91.369124 \r\n\" style=\"fill:none;stroke:#000000;\"/>\r\n    <path clip-path=\"url(#p3769398d83)\" d=\"M 122.06225 99.76027 \r\nL 98.046065 148.54832 \r\n\" style=\"fill:none;stroke:#000000;\"/>\r\n    <path clip-path=\"url(#p3769398d83)\" d=\"M 140.525387 193.498448 \r\nL 93.224207 201.92052 \r\n\" style=\"fill:none;stroke:#000000;\"/>\r\n    <path clip-path=\"url(#p3769398d83)\" d=\"M 93.224207 201.92052 \r\nL 98.046065 148.54832 \r\n\" style=\"fill:none;stroke:#000000;\"/>\r\n   </g>\r\n   <g id=\"PathCollection_1\">\r\n    <defs>\r\n     <path d=\"M 0 8.660254 \r\nC 2.296726 8.660254 4.499694 7.747755 6.123724 6.123724 \r\nC 7.747755 4.499694 8.660254 2.296726 8.660254 0 \r\nC 8.660254 -2.296726 7.747755 -4.499694 6.123724 -6.123724 \r\nC 4.499694 -7.747755 2.296726 -8.660254 0 -8.660254 \r\nC -2.296726 -8.660254 -4.499694 -7.747755 -6.123724 -6.123724 \r\nC -7.747755 -4.499694 -8.660254 -2.296726 -8.660254 0 \r\nC -8.660254 2.296726 -7.747755 4.499694 -6.123724 6.123724 \r\nC -4.499694 7.747755 -2.296726 8.660254 0 8.660254 \r\nz\r\n\" id=\"m845e769e99\" style=\"stroke:#1f78b4;\"/>\r\n    </defs>\r\n    <g clip-path=\"url(#p3769398d83)\">\r\n     <use style=\"fill:#1f78b4;stroke:#1f78b4;\" x=\"419.563636\" xlink:href=\"#m845e769e99\" y=\"244.523261\"/>\r\n     <use style=\"fill:#1f78b4;stroke:#1f78b4;\" x=\"89.441447\" xlink:href=\"#m845e769e99\" y=\"54.630239\"/>\r\n     <use style=\"fill:#1f78b4;stroke:#1f78b4;\" x=\"243.568614\" xlink:href=\"#m845e769e99\" y=\"46.179507\"/>\r\n     <use style=\"fill:#1f78b4;stroke:#1f78b4;\" x=\"56.032113\" xlink:href=\"#m845e769e99\" y=\"240.341921\"/>\r\n     <use style=\"fill:#1f78b4;stroke:#1f78b4;\" x=\"289.690048\" xlink:href=\"#m845e769e99\" y=\"176.957683\"/>\r\n     <use style=\"fill:#1f78b4;stroke:#1f78b4;\" x=\"339.46567\" xlink:href=\"#m845e769e99\" y=\"210.338843\"/>\r\n     <use style=\"fill:#1f78b4;stroke:#1f78b4;\" x=\"187.172997\" xlink:href=\"#m845e769e99\" y=\"167.484658\"/>\r\n     <use style=\"fill:#1f78b4;stroke:#1f78b4;\" x=\"177.378382\" xlink:href=\"#m845e769e99\" y=\"111.757042\"/>\r\n     <use style=\"fill:#1f78b4;stroke:#1f78b4;\" x=\"383.370755\" xlink:href=\"#m845e769e99\" y=\"242.885236\"/>\r\n     <use style=\"fill:#1f78b4;stroke:#1f78b4;\" x=\"239.574989\" xlink:href=\"#m845e769e99\" y=\"179.802164\"/>\r\n     <use style=\"fill:#1f78b4;stroke:#1f78b4;\" x=\"267.703413\" xlink:href=\"#m845e769e99\" y=\"126.795239\"/>\r\n     <use style=\"fill:#1f78b4;stroke:#1f78b4;\" x=\"228.816827\" xlink:href=\"#m845e769e99\" y=\"91.369124\"/>\r\n     <use style=\"fill:#1f78b4;stroke:#1f78b4;\" x=\"122.06225\" xlink:href=\"#m845e769e99\" y=\"99.76027\"/>\r\n     <use style=\"fill:#1f78b4;stroke:#1f78b4;\" x=\"140.525387\" xlink:href=\"#m845e769e99\" y=\"193.498448\"/>\r\n     <use style=\"fill:#1f78b4;stroke:#1f78b4;\" x=\"93.224207\" xlink:href=\"#m845e769e99\" y=\"201.92052\"/>\r\n     <use style=\"fill:#1f78b4;stroke:#1f78b4;\" x=\"399.793063\" xlink:href=\"#m845e769e99\" y=\"282.109091\"/>\r\n     <use style=\"fill:#1f78b4;stroke:#1f78b4;\" x=\"98.046065\" xlink:href=\"#m845e769e99\" y=\"148.54832\"/>\r\n     <use style=\"fill:#1f78b4;stroke:#1f78b4;\" x=\"63.832162\" xlink:href=\"#m845e769e99\" y=\"20.290909\"/>\r\n     <use style=\"fill:#1f78b4;stroke:#1f78b4;\" x=\"26.836364\" xlink:href=\"#m845e769e99\" y=\"269.397396\"/>\r\n    </g>\r\n   </g>\r\n  </g>\r\n </g>\r\n <defs>\r\n  <clipPath id=\"p3769398d83\">\r\n   <rect height=\"288\" width=\"432\" x=\"7.2\" y=\"7.2\"/>\r\n  </clipPath>\r\n </defs>\r\n</svg>\r\n",
            "image/png": "[encoded data removed]"
          },
          "metadata": {}
        }
      ]
    },
    {
      "cell_type": "code",
      "metadata": {
        "id": "8fPMKmXojAna"
      },
      "source": [
        "def graphlet_list(k):\n",
        "    \"\"\"\n",
        "    :param k: The size of graphlet\n",
        "    :return graphlet_list: The graphlets of size k\n",
        "    \"\"\"\n",
        "    assert k > 0\n",
        "    atlas = nx.graph_atlas_g()[1:]\n",
        "    graphlet_list = []\n",
        "    for A in atlas:\n",
        "        n = A.number_of_nodes()\n",
        "        if n < k:\n",
        "            continue\n",
        "        if n > k:\n",
        "            break\n",
        "        graphlet_list.append(A)\n",
        "    return graphlet_list"
      ],
      "execution_count": 4,
      "outputs": []
    },
    {
      "cell_type": "code",
      "metadata": {
        "id": "ykLPbTydjAnb",
        "colab": {
          "base_uri": "https://localhost:8080/",
          "height": 319
        },
        "outputId": "d2d9ad4e-c07b-4001-98fe-9a7b7d39abf0"
      },
      "source": [
        "graphlets = graphlet_list(5)\n",
        "nx.draw(graphlets[33])"
      ],
      "execution_count": 5,
      "outputs": [
        {
          "output_type": "display_data",
          "data": {
            "text/plain": "<Figure size 432x288 with 1 Axes>",
            "image/svg+xml": "<?xml version=\"1.0\" encoding=\"utf-8\" standalone=\"no\"?>\r\n<!DOCTYPE svg PUBLIC \"-//W3C//DTD SVG 1.1//EN\"\r\n  \"http://www.w3.org/Graphics/SVG/1.1/DTD/svg11.dtd\">\r\n<svg height=\"302.4pt\" version=\"1.1\" viewBox=\"0 0 446.4 302.4\" width=\"446.4pt\" xmlns=\"http://www.w3.org/2000/svg\" xmlns:xlink=\"http://www.w3.org/1999/xlink\">\r\n <metadata>\r\n  <rdf:RDF xmlns:cc=\"http://creativecommons.org/ns#\" xmlns:dc=\"http://purl.org/dc/elements/1.1/\" xmlns:rdf=\"http://www.w3.org/1999/02/22-rdf-syntax-ns#\">\r\n   <cc:Work>\r\n    <dc:type rdf:resource=\"http://purl.org/dc/dcmitype/StillImage\"/>\r\n    <dc:date>2021-05-03T18:51:19.119269</dc:date>\r\n    <dc:format>image/svg+xml</dc:format>\r\n    <dc:creator>\r\n     <cc:Agent>\r\n      <dc:title>Matplotlib v3.4.1, https://matplotlib.org/</dc:title>\r\n     </cc:Agent>\r\n    </dc:creator>\r\n   </cc:Work>\r\n  </rdf:RDF>\r\n </metadata>\r\n <defs>\r\n  <style type=\"text/css\">*{stroke-linecap:butt;stroke-linejoin:round;}</style>\r\n </defs>\r\n <g id=\"figure_1\">\r\n  <g id=\"patch_1\">\r\n   <path d=\"M 0 302.4 \r\nL 446.4 302.4 \r\nL 446.4 0 \r\nL 0 0 \r\nz\r\n\" style=\"fill:#ffffff;\"/>\r\n  </g>\r\n  <g id=\"axes_1\">\r\n   <g id=\"LineCollection_1\">\r\n    <path clip-path=\"url(#p9d8b3c24e8)\" d=\"M 314.67285 282.109091 \r\nL 73.713112 259.876646 \r\n\" style=\"fill:none;stroke:#000000;\"/>\r\n    <path clip-path=\"url(#p9d8b3c24e8)\" d=\"M 314.67285 282.109091 \r\nL 26.836364 98.360175 \r\n\" style=\"fill:none;stroke:#000000;\"/>\r\n    <path clip-path=\"url(#p9d8b3c24e8)\" d=\"M 314.67285 282.109091 \r\nL 240.510654 20.290909 \r\n\" style=\"fill:none;stroke:#000000;\"/>\r\n    <path clip-path=\"url(#p9d8b3c24e8)\" d=\"M 314.67285 282.109091 \r\nL 419.563636 132.317144 \r\n\" style=\"fill:none;stroke:#000000;\"/>\r\n    <path clip-path=\"url(#p9d8b3c24e8)\" d=\"M 73.713112 259.876646 \r\nL 26.836364 98.360175 \r\n\" style=\"fill:none;stroke:#000000;\"/>\r\n    <path clip-path=\"url(#p9d8b3c24e8)\" d=\"M 73.713112 259.876646 \r\nL 240.510654 20.290909 \r\n\" style=\"fill:none;stroke:#000000;\"/>\r\n    <path clip-path=\"url(#p9d8b3c24e8)\" d=\"M 73.713112 259.876646 \r\nL 419.563636 132.317144 \r\n\" style=\"fill:none;stroke:#000000;\"/>\r\n    <path clip-path=\"url(#p9d8b3c24e8)\" d=\"M 26.836364 98.360175 \r\nL 240.510654 20.290909 \r\n\" style=\"fill:none;stroke:#000000;\"/>\r\n    <path clip-path=\"url(#p9d8b3c24e8)\" d=\"M 26.836364 98.360175 \r\nL 419.563636 132.317144 \r\n\" style=\"fill:none;stroke:#000000;\"/>\r\n    <path clip-path=\"url(#p9d8b3c24e8)\" d=\"M 240.510654 20.290909 \r\nL 419.563636 132.317144 \r\n\" style=\"fill:none;stroke:#000000;\"/>\r\n   </g>\r\n   <g id=\"PathCollection_1\">\r\n    <defs>\r\n     <path d=\"M 0 8.660254 \r\nC 2.296726 8.660254 4.499694 7.747755 6.123724 6.123724 \r\nC 7.747755 4.499694 8.660254 2.296726 8.660254 0 \r\nC 8.660254 -2.296726 7.747755 -4.499694 6.123724 -6.123724 \r\nC 4.499694 -7.747755 2.296726 -8.660254 0 -8.660254 \r\nC -2.296726 -8.660254 -4.499694 -7.747755 -6.123724 -6.123724 \r\nC -7.747755 -4.499694 -8.660254 -2.296726 -8.660254 0 \r\nC -8.660254 2.296726 -7.747755 4.499694 -6.123724 6.123724 \r\nC -4.499694 7.747755 -2.296726 8.660254 0 8.660254 \r\nz\r\n\" id=\"md09691a89f\" style=\"stroke:#1f78b4;\"/>\r\n    </defs>\r\n    <g clip-path=\"url(#p9d8b3c24e8)\">\r\n     <use style=\"fill:#1f78b4;stroke:#1f78b4;\" x=\"314.67285\" xlink:href=\"#md09691a89f\" y=\"282.109091\"/>\r\n     <use style=\"fill:#1f78b4;stroke:#1f78b4;\" x=\"73.713112\" xlink:href=\"#md09691a89f\" y=\"259.876646\"/>\r\n     <use style=\"fill:#1f78b4;stroke:#1f78b4;\" x=\"26.836364\" xlink:href=\"#md09691a89f\" y=\"98.360175\"/>\r\n     <use style=\"fill:#1f78b4;stroke:#1f78b4;\" x=\"240.510654\" xlink:href=\"#md09691a89f\" y=\"20.290909\"/>\r\n     <use style=\"fill:#1f78b4;stroke:#1f78b4;\" x=\"419.563636\" xlink:href=\"#md09691a89f\" y=\"132.317144\"/>\r\n    </g>\r\n   </g>\r\n  </g>\r\n </g>\r\n <defs>\r\n  <clipPath id=\"p9d8b3c24e8\">\r\n   <rect height=\"288\" width=\"432\" x=\"7.2\" y=\"7.2\"/>\r\n  </clipPath>\r\n </defs>\r\n</svg>\r\n",
            "image/png": "[encoded data removed]"
          },
          "metadata": {}
        }
      ]
    },
    {
      "cell_type": "code",
      "metadata": {
        "id": "5MJDd0i7jAnb"
      },
      "source": [
        "def graphlet_features(G,g):\n",
        "\n",
        "    \"\"\"\n",
        "    :param G: A newtorkx graph\n",
        "    :param g: Graphlets of size k=5\n",
        "    :return graphlet_count: The frequency of the occurence of all 34 graphlets in the sample subgraph S\n",
        "    \"\"\"\n",
        "    \n",
        "    graphlet_count = np.zeros(34)\n",
        "    \n",
        "    for i in range(1000):\n",
        "        S = G.subgraph(list(random.sample(G.nodes(),5)))\n",
        "\n",
        "        for j in range(len(g)):\n",
        "            if nx.is_isomorphic(S,graphlets[j]) == True:\n",
        "                graphlet_count[j] += 1\n",
        "\n",
        "    return graphlet_count"
      ],
      "execution_count": 6,
      "outputs": []
    },
    {
      "cell_type": "code",
      "metadata": {
        "id": "tv78Ktp8jAnb",
        "colab": {
          "base_uri": "https://localhost:8080/",
          "height": 185
        },
        "outputId": "2428a2c1-4987-4f55-b861-5dee7f35ee88"
      },
      "source": [
        "feature_G1 = graphlet_features(G1,graphlets)\n",
        "feature_G2 = graphlet_features(G2,graphlets)"
      ],
      "execution_count": 9,
      "outputs": [
        {
          "output_type": "stream",
          "name": "stderr",
          "text": [
            "<ipython-input-6-9b347b4df266>:12: DeprecationWarning: Sampling from a set deprecated\nsince Python 3.9 and will be removed in a subsequent version.\n  S = G.subgraph(list(random.sample(G.nodes(),5)))\n"
          ]
        }
      ]
    },
    {
      "cell_type": "code",
      "metadata": {
        "id": "S1nzrEkcjAnc",
        "colab": {
          "base_uri": "https://localhost:8080/",
          "height": 238
        },
        "outputId": "c50fda9b-58e0-43a6-aaba-654a25da7a83"
      },
      "source": [
        "pos = np.arange(34)\n",
        "width = 1.0    \n",
        "plt.bar(pos, feature_G1, width, color='r')\n",
        "plt.show()\n",
        "\n"
      ],
      "execution_count": 10,
      "outputs": [
        {
          "output_type": "display_data",
          "data": {
            "text/plain": "<Figure size 432x288 with 1 Axes>",
            "image/svg+xml": "<?xml version=\"1.0\" encoding=\"utf-8\" standalone=\"no\"?>\r\n<!DOCTYPE svg PUBLIC \"-//W3C//DTD SVG 1.1//EN\"\r\n  \"http://www.w3.org/Graphics/SVG/1.1/DTD/svg11.dtd\">\r\n<svg height=\"248.518125pt\" version=\"1.1\" viewBox=\"0 0 379.859626 248.518125\" width=\"379.859626pt\" xmlns=\"http://www.w3.org/2000/svg\" xmlns:xlink=\"http://www.w3.org/1999/xlink\">\r\n <metadata>\r\n  <rdf:RDF xmlns:cc=\"http://creativecommons.org/ns#\" xmlns:dc=\"http://purl.org/dc/elements/1.1/\" xmlns:rdf=\"http://www.w3.org/1999/02/22-rdf-syntax-ns#\">\r\n   <cc:Work>\r\n    <dc:type rdf:resource=\"http://purl.org/dc/dcmitype/StillImage\"/>\r\n    <dc:date>2021-05-03T18:51:40.502357</dc:date>\r\n    <dc:format>image/svg+xml</dc:format>\r\n    <dc:creator>\r\n     <cc:Agent>\r\n      <dc:title>Matplotlib v3.4.1, https://matplotlib.org/</dc:title>\r\n     </cc:Agent>\r\n    </dc:creator>\r\n   </cc:Work>\r\n  </rdf:RDF>\r\n </metadata>\r\n <defs>\r\n  <style type=\"text/css\">*{stroke-linecap:butt;stroke-linejoin:round;}</style>\r\n </defs>\r\n <g id=\"figure_1\">\r\n  <g id=\"patch_1\">\r\n   <path d=\"M 0 248.518125 \r\nL 379.859626 248.518125 \r\nL 379.859626 0 \r\nL 0 0 \r\nz\r\n\" style=\"fill:none;\"/>\r\n  </g>\r\n  <g id=\"axes_1\">\r\n   <g id=\"patch_2\">\r\n    <path d=\"M 33.2875 224.64 \r\nL 368.0875 224.64 \r\nL 368.0875 7.2 \r\nL 33.2875 7.2 \r\nz\r\n\" style=\"fill:#ffffff;\"/>\r\n   </g>\r\n   <g id=\"patch_3\">\r\n    <path clip-path=\"url(#p543c8c51d6)\" d=\"M 48.505682 224.64 \r\nL 57.457553 224.64 \r\nL 57.457553 212.114654 \r\nL 48.505682 212.114654 \r\nz\r\n\" style=\"fill:#ff0000;\"/>\r\n   </g>\r\n   <g id=\"patch_4\">\r\n    <path clip-path=\"url(#p543c8c51d6)\" d=\"M 57.457553 224.64 \r\nL 66.409425 224.64 \r\nL 66.409425 128.61235 \r\nL 57.457553 128.61235 \r\nz\r\n\" style=\"fill:#ff0000;\"/>\r\n   </g>\r\n   <g id=\"patch_5\">\r\n    <path clip-path=\"url(#p543c8c51d6)\" d=\"M 66.409425 224.64 \r\nL 75.361297 224.64 \r\nL 75.361297 17.554286 \r\nL 66.409425 17.554286 \r\nz\r\n\" style=\"fill:#ff0000;\"/>\r\n   </g>\r\n   <g id=\"patch_6\">\r\n    <path clip-path=\"url(#p543c8c51d6)\" d=\"M 75.361297 224.64 \r\nL 84.313168 224.64 \r\nL 84.313168 70.99576 \r\nL 75.361297 70.99576 \r\nz\r\n\" style=\"fill:#ff0000;\"/>\r\n   </g>\r\n   <g id=\"patch_7\">\r\n    <path clip-path=\"url(#p543c8c51d6)\" d=\"M 84.313168 224.64 \r\nL 93.26504 224.64 \r\nL 93.26504 224.64 \r\nL 84.313168 224.64 \r\nz\r\n\" style=\"fill:#ff0000;\"/>\r\n   </g>\r\n   <g id=\"patch_8\">\r\n    <path clip-path=\"url(#p543c8c51d6)\" d=\"M 93.26504 224.64 \r\nL 102.216912 224.64 \r\nL 102.216912 198.754286 \r\nL 93.26504 198.754286 \r\nz\r\n\" style=\"fill:#ff0000;\"/>\r\n   </g>\r\n   <g id=\"patch_9\">\r\n    <path clip-path=\"url(#p543c8c51d6)\" d=\"M 102.216912 224.64 \r\nL 111.168783 224.64 \r\nL 111.168783 79.345991 \r\nL 102.216912 79.345991 \r\nz\r\n\" style=\"fill:#ff0000;\"/>\r\n   </g>\r\n   <g id=\"patch_10\">\r\n    <path clip-path=\"url(#p543c8c51d6)\" d=\"M 111.168783 224.64 \r\nL 120.120655 224.64 \r\nL 120.120655 195.414194 \r\nL 111.168783 195.414194 \r\nz\r\n\" style=\"fill:#ff0000;\"/>\r\n   </g>\r\n   <g id=\"patch_11\">\r\n    <path clip-path=\"url(#p543c8c51d6)\" d=\"M 120.120655 224.64 \r\nL 129.072527 224.64 \r\nL 129.072527 224.64 \r\nL 120.120655 224.64 \r\nz\r\n\" style=\"fill:#ff0000;\"/>\r\n   </g>\r\n   <g id=\"patch_12\">\r\n    <path clip-path=\"url(#p543c8c51d6)\" d=\"M 129.072527 224.64 \r\nL 138.024398 224.64 \r\nL 138.024398 224.64 \r\nL 129.072527 224.64 \r\nz\r\n\" style=\"fill:#ff0000;\"/>\r\n   </g>\r\n   <g id=\"patch_13\">\r\n    <path clip-path=\"url(#p543c8c51d6)\" d=\"M 138.024398 224.64 \r\nL 146.97627 224.64 \r\nL 146.97627 224.64 \r\nL 138.024398 224.64 \r\nz\r\n\" style=\"fill:#ff0000;\"/>\r\n   </g>\r\n   <g id=\"patch_14\">\r\n    <path clip-path=\"url(#p543c8c51d6)\" d=\"M 146.97627 224.64 \r\nL 155.928142 224.64 \r\nL 155.928142 134.457512 \r\nL 146.97627 134.457512 \r\nz\r\n\" style=\"fill:#ff0000;\"/>\r\n   </g>\r\n   <g id=\"patch_15\">\r\n    <path clip-path=\"url(#p543c8c51d6)\" d=\"M 155.928142 224.64 \r\nL 164.880013 224.64 \r\nL 164.880013 149.487926 \r\nL 155.928142 149.487926 \r\nz\r\n\" style=\"fill:#ff0000;\"/>\r\n   </g>\r\n   <g id=\"patch_16\">\r\n    <path clip-path=\"url(#p543c8c51d6)\" d=\"M 164.880013 224.64 \r\nL 173.831885 224.64 \r\nL 173.831885 224.64 \r\nL 164.880013 224.64 \r\nz\r\n\" style=\"fill:#ff0000;\"/>\r\n   </g>\r\n   <g id=\"patch_17\">\r\n    <path clip-path=\"url(#p543c8c51d6)\" d=\"M 173.831885 224.64 \r\nL 182.783757 224.64 \r\nL 182.783757 224.64 \r\nL 173.831885 224.64 \r\nz\r\n\" style=\"fill:#ff0000;\"/>\r\n   </g>\r\n   <g id=\"patch_18\">\r\n    <path clip-path=\"url(#p543c8c51d6)\" d=\"M 182.783757 224.64 \r\nL 191.735628 224.64 \r\nL 191.735628 224.64 \r\nL 182.783757 224.64 \r\nz\r\n\" style=\"fill:#ff0000;\"/>\r\n   </g>\r\n   <g id=\"patch_19\">\r\n    <path clip-path=\"url(#p543c8c51d6)\" d=\"M 191.735628 224.64 \r\nL 200.6875 224.64 \r\nL 200.6875 224.64 \r\nL 191.735628 224.64 \r\nz\r\n\" style=\"fill:#ff0000;\"/>\r\n   </g>\r\n   <g id=\"patch_20\">\r\n    <path clip-path=\"url(#p543c8c51d6)\" d=\"M 200.6875 224.64 \r\nL 209.639372 224.64 \r\nL 209.639372 224.64 \r\nL 200.6875 224.64 \r\nz\r\n\" style=\"fill:#ff0000;\"/>\r\n   </g>\r\n   <g id=\"patch_21\">\r\n    <path clip-path=\"url(#p543c8c51d6)\" d=\"M 209.639372 224.64 \r\nL 218.591243 224.64 \r\nL 218.591243 224.64 \r\nL 209.639372 224.64 \r\nz\r\n\" style=\"fill:#ff0000;\"/>\r\n   </g>\r\n   <g id=\"patch_22\">\r\n    <path clip-path=\"url(#p543c8c51d6)\" d=\"M 218.591243 224.64 \r\nL 227.543115 224.64 \r\nL 227.543115 224.64 \r\nL 218.591243 224.64 \r\nz\r\n\" style=\"fill:#ff0000;\"/>\r\n   </g>\r\n   <g id=\"patch_23\">\r\n    <path clip-path=\"url(#p543c8c51d6)\" d=\"M 227.543115 224.64 \r\nL 236.494987 224.64 \r\nL 236.494987 224.64 \r\nL 227.543115 224.64 \r\nz\r\n\" style=\"fill:#ff0000;\"/>\r\n   </g>\r\n   <g id=\"patch_24\">\r\n    <path clip-path=\"url(#p543c8c51d6)\" d=\"M 236.494987 224.64 \r\nL 245.446858 224.64 \r\nL 245.446858 224.64 \r\nL 236.494987 224.64 \r\nz\r\n\" style=\"fill:#ff0000;\"/>\r\n   </g>\r\n   <g id=\"patch_25\">\r\n    <path clip-path=\"url(#p543c8c51d6)\" d=\"M 245.446858 224.64 \r\nL 254.39873 224.64 \r\nL 254.39873 224.64 \r\nL 245.446858 224.64 \r\nz\r\n\" style=\"fill:#ff0000;\"/>\r\n   </g>\r\n   <g id=\"patch_26\">\r\n    <path clip-path=\"url(#p543c8c51d6)\" d=\"M 254.39873 224.64 \r\nL 263.350602 224.64 \r\nL 263.350602 224.64 \r\nL 254.39873 224.64 \r\nz\r\n\" style=\"fill:#ff0000;\"/>\r\n   </g>\r\n   <g id=\"patch_27\">\r\n    <path clip-path=\"url(#p543c8c51d6)\" d=\"M 263.350602 224.64 \r\nL 272.302473 224.64 \r\nL 272.302473 224.64 \r\nL 263.350602 224.64 \r\nz\r\n\" style=\"fill:#ff0000;\"/>\r\n   </g>\r\n   <g id=\"patch_28\">\r\n    <path clip-path=\"url(#p543c8c51d6)\" d=\"M 272.302473 224.64 \r\nL 281.254345 224.64 \r\nL 281.254345 224.64 \r\nL 272.302473 224.64 \r\nz\r\n\" style=\"fill:#ff0000;\"/>\r\n   </g>\r\n   <g id=\"patch_29\">\r\n    <path clip-path=\"url(#p543c8c51d6)\" d=\"M 281.254345 224.64 \r\nL 290.206217 224.64 \r\nL 290.206217 224.64 \r\nL 281.254345 224.64 \r\nz\r\n\" style=\"fill:#ff0000;\"/>\r\n   </g>\r\n   <g id=\"patch_30\">\r\n    <path clip-path=\"url(#p543c8c51d6)\" d=\"M 290.206217 224.64 \r\nL 299.158088 224.64 \r\nL 299.158088 224.64 \r\nL 290.206217 224.64 \r\nz\r\n\" style=\"fill:#ff0000;\"/>\r\n   </g>\r\n   <g id=\"patch_31\">\r\n    <path clip-path=\"url(#p543c8c51d6)\" d=\"M 299.158088 224.64 \r\nL 308.10996 224.64 \r\nL 308.10996 224.64 \r\nL 299.158088 224.64 \r\nz\r\n\" style=\"fill:#ff0000;\"/>\r\n   </g>\r\n   <g id=\"patch_32\">\r\n    <path clip-path=\"url(#p543c8c51d6)\" d=\"M 308.10996 224.64 \r\nL 317.061832 224.64 \r\nL 317.061832 224.64 \r\nL 308.10996 224.64 \r\nz\r\n\" style=\"fill:#ff0000;\"/>\r\n   </g>\r\n   <g id=\"patch_33\">\r\n    <path clip-path=\"url(#p543c8c51d6)\" d=\"M 317.061832 224.64 \r\nL 326.013703 224.64 \r\nL 326.013703 224.64 \r\nL 317.061832 224.64 \r\nz\r\n\" style=\"fill:#ff0000;\"/>\r\n   </g>\r\n   <g id=\"patch_34\">\r\n    <path clip-path=\"url(#p543c8c51d6)\" d=\"M 326.013703 224.64 \r\nL 334.965575 224.64 \r\nL 334.965575 224.64 \r\nL 326.013703 224.64 \r\nz\r\n\" style=\"fill:#ff0000;\"/>\r\n   </g>\r\n   <g id=\"patch_35\">\r\n    <path clip-path=\"url(#p543c8c51d6)\" d=\"M 334.965575 224.64 \r\nL 343.917447 224.64 \r\nL 343.917447 224.64 \r\nL 334.965575 224.64 \r\nz\r\n\" style=\"fill:#ff0000;\"/>\r\n   </g>\r\n   <g id=\"patch_36\">\r\n    <path clip-path=\"url(#p543c8c51d6)\" d=\"M 343.917447 224.64 \r\nL 352.869318 224.64 \r\nL 352.869318 224.64 \r\nL 343.917447 224.64 \r\nz\r\n\" style=\"fill:#ff0000;\"/>\r\n   </g>\r\n   <g id=\"matplotlib.axis_1\">\r\n    <g id=\"xtick_1\">\r\n     <g id=\"line2d_1\">\r\n      <defs>\r\n       <path d=\"M 0 0 \r\nL 0 3.5 \r\n\" id=\"mcb73b226bb\" style=\"stroke:#000000;stroke-width:0.8;\"/>\r\n      </defs>\r\n      <g>\r\n       <use style=\"stroke:#000000;stroke-width:0.8;\" x=\"52.981618\" xlink:href=\"#mcb73b226bb\" y=\"224.64\"/>\r\n      </g>\r\n     </g>\r\n     <g id=\"text_1\">\r\n      <!-- 0 -->\r\n      <g transform=\"translate(49.800368 239.238437)scale(0.1 -0.1)\">\r\n       <defs>\r\n        <path d=\"M 2034 4250 \r\nQ 1547 4250 1301 3770 \r\nQ 1056 3291 1056 2328 \r\nQ 1056 1369 1301 889 \r\nQ 1547 409 2034 409 \r\nQ 2525 409 2770 889 \r\nQ 3016 1369 3016 2328 \r\nQ 3016 3291 2770 3770 \r\nQ 2525 4250 2034 4250 \r\nz\r\nM 2034 4750 \r\nQ 2819 4750 3233 4129 \r\nQ 3647 3509 3647 2328 \r\nQ 3647 1150 3233 529 \r\nQ 2819 -91 2034 -91 \r\nQ 1250 -91 836 529 \r\nQ 422 1150 422 2328 \r\nQ 422 3509 836 4129 \r\nQ 1250 4750 2034 4750 \r\nz\r\n\" id=\"DejaVuSans-30\" transform=\"scale(0.015625)\"/>\r\n       </defs>\r\n       <use xlink:href=\"#DejaVuSans-30\"/>\r\n      </g>\r\n     </g>\r\n    </g>\r\n    <g id=\"xtick_2\">\r\n     <g id=\"line2d_2\">\r\n      <g>\r\n       <use style=\"stroke:#000000;stroke-width:0.8;\" x=\"97.740976\" xlink:href=\"#mcb73b226bb\" y=\"224.64\"/>\r\n      </g>\r\n     </g>\r\n     <g id=\"text_2\">\r\n      <!-- 5 -->\r\n      <g transform=\"translate(94.559726 239.238437)scale(0.1 -0.1)\">\r\n       <defs>\r\n        <path d=\"M 691 4666 \r\nL 3169 4666 \r\nL 3169 4134 \r\nL 1269 4134 \r\nL 1269 2991 \r\nQ 1406 3038 1543 3061 \r\nQ 1681 3084 1819 3084 \r\nQ 2600 3084 3056 2656 \r\nQ 3513 2228 3513 1497 \r\nQ 3513 744 3044 326 \r\nQ 2575 -91 1722 -91 \r\nQ 1428 -91 1123 -41 \r\nQ 819 9 494 109 \r\nL 494 744 \r\nQ 775 591 1075 516 \r\nQ 1375 441 1709 441 \r\nQ 2250 441 2565 725 \r\nQ 2881 1009 2881 1497 \r\nQ 2881 1984 2565 2268 \r\nQ 2250 2553 1709 2553 \r\nQ 1456 2553 1204 2497 \r\nQ 953 2441 691 2322 \r\nL 691 4666 \r\nz\r\n\" id=\"DejaVuSans-35\" transform=\"scale(0.015625)\"/>\r\n       </defs>\r\n       <use xlink:href=\"#DejaVuSans-35\"/>\r\n      </g>\r\n     </g>\r\n    </g>\r\n    <g id=\"xtick_3\">\r\n     <g id=\"line2d_3\">\r\n      <g>\r\n       <use style=\"stroke:#000000;stroke-width:0.8;\" x=\"142.500334\" xlink:href=\"#mcb73b226bb\" y=\"224.64\"/>\r\n      </g>\r\n     </g>\r\n     <g id=\"text_3\">\r\n      <!-- 10 -->\r\n      <g transform=\"translate(136.137834 239.238437)scale(0.1 -0.1)\">\r\n       <defs>\r\n        <path d=\"M 794 531 \r\nL 1825 531 \r\nL 1825 4091 \r\nL 703 3866 \r\nL 703 4441 \r\nL 1819 4666 \r\nL 2450 4666 \r\nL 2450 531 \r\nL 3481 531 \r\nL 3481 0 \r\nL 794 0 \r\nL 794 531 \r\nz\r\n\" id=\"DejaVuSans-31\" transform=\"scale(0.015625)\"/>\r\n       </defs>\r\n       <use xlink:href=\"#DejaVuSans-31\"/>\r\n       <use x=\"63.623047\" xlink:href=\"#DejaVuSans-30\"/>\r\n      </g>\r\n     </g>\r\n    </g>\r\n    <g id=\"xtick_4\">\r\n     <g id=\"line2d_4\">\r\n      <g>\r\n       <use style=\"stroke:#000000;stroke-width:0.8;\" x=\"187.259693\" xlink:href=\"#mcb73b226bb\" y=\"224.64\"/>\r\n      </g>\r\n     </g>\r\n     <g id=\"text_4\">\r\n      <!-- 15 -->\r\n      <g transform=\"translate(180.897193 239.238437)scale(0.1 -0.1)\">\r\n       <use xlink:href=\"#DejaVuSans-31\"/>\r\n       <use x=\"63.623047\" xlink:href=\"#DejaVuSans-35\"/>\r\n      </g>\r\n     </g>\r\n    </g>\r\n    <g id=\"xtick_5\">\r\n     <g id=\"line2d_5\">\r\n      <g>\r\n       <use style=\"stroke:#000000;stroke-width:0.8;\" x=\"232.019051\" xlink:href=\"#mcb73b226bb\" y=\"224.64\"/>\r\n      </g>\r\n     </g>\r\n     <g id=\"text_5\">\r\n      <!-- 20 -->\r\n      <g transform=\"translate(225.656551 239.238437)scale(0.1 -0.1)\">\r\n       <defs>\r\n        <path d=\"M 1228 531 \r\nL 3431 531 \r\nL 3431 0 \r\nL 469 0 \r\nL 469 531 \r\nQ 828 903 1448 1529 \r\nQ 2069 2156 2228 2338 \r\nQ 2531 2678 2651 2914 \r\nQ 2772 3150 2772 3378 \r\nQ 2772 3750 2511 3984 \r\nQ 2250 4219 1831 4219 \r\nQ 1534 4219 1204 4116 \r\nQ 875 4013 500 3803 \r\nL 500 4441 \r\nQ 881 4594 1212 4672 \r\nQ 1544 4750 1819 4750 \r\nQ 2544 4750 2975 4387 \r\nQ 3406 4025 3406 3419 \r\nQ 3406 3131 3298 2873 \r\nQ 3191 2616 2906 2266 \r\nQ 2828 2175 2409 1742 \r\nQ 1991 1309 1228 531 \r\nz\r\n\" id=\"DejaVuSans-32\" transform=\"scale(0.015625)\"/>\r\n       </defs>\r\n       <use xlink:href=\"#DejaVuSans-32\"/>\r\n       <use x=\"63.623047\" xlink:href=\"#DejaVuSans-30\"/>\r\n      </g>\r\n     </g>\r\n    </g>\r\n    <g id=\"xtick_6\">\r\n     <g id=\"line2d_6\">\r\n      <g>\r\n       <use style=\"stroke:#000000;stroke-width:0.8;\" x=\"276.778409\" xlink:href=\"#mcb73b226bb\" y=\"224.64\"/>\r\n      </g>\r\n     </g>\r\n     <g id=\"text_6\">\r\n      <!-- 25 -->\r\n      <g transform=\"translate(270.415909 239.238437)scale(0.1 -0.1)\">\r\n       <use xlink:href=\"#DejaVuSans-32\"/>\r\n       <use x=\"63.623047\" xlink:href=\"#DejaVuSans-35\"/>\r\n      </g>\r\n     </g>\r\n    </g>\r\n    <g id=\"xtick_7\">\r\n     <g id=\"line2d_7\">\r\n      <g>\r\n       <use style=\"stroke:#000000;stroke-width:0.8;\" x=\"321.537767\" xlink:href=\"#mcb73b226bb\" y=\"224.64\"/>\r\n      </g>\r\n     </g>\r\n     <g id=\"text_7\">\r\n      <!-- 30 -->\r\n      <g transform=\"translate(315.175267 239.238437)scale(0.1 -0.1)\">\r\n       <defs>\r\n        <path d=\"M 2597 2516 \r\nQ 3050 2419 3304 2112 \r\nQ 3559 1806 3559 1356 \r\nQ 3559 666 3084 287 \r\nQ 2609 -91 1734 -91 \r\nQ 1441 -91 1130 -33 \r\nQ 819 25 488 141 \r\nL 488 750 \r\nQ 750 597 1062 519 \r\nQ 1375 441 1716 441 \r\nQ 2309 441 2620 675 \r\nQ 2931 909 2931 1356 \r\nQ 2931 1769 2642 2001 \r\nQ 2353 2234 1838 2234 \r\nL 1294 2234 \r\nL 1294 2753 \r\nL 1863 2753 \r\nQ 2328 2753 2575 2939 \r\nQ 2822 3125 2822 3475 \r\nQ 2822 3834 2567 4026 \r\nQ 2313 4219 1838 4219 \r\nQ 1578 4219 1281 4162 \r\nQ 984 4106 628 3988 \r\nL 628 4550 \r\nQ 988 4650 1302 4700 \r\nQ 1616 4750 1894 4750 \r\nQ 2613 4750 3031 4423 \r\nQ 3450 4097 3450 3541 \r\nQ 3450 3153 3228 2886 \r\nQ 3006 2619 2597 2516 \r\nz\r\n\" id=\"DejaVuSans-33\" transform=\"scale(0.015625)\"/>\r\n       </defs>\r\n       <use xlink:href=\"#DejaVuSans-33\"/>\r\n       <use x=\"63.623047\" xlink:href=\"#DejaVuSans-30\"/>\r\n      </g>\r\n     </g>\r\n    </g>\r\n    <g id=\"xtick_8\">\r\n     <g id=\"line2d_8\">\r\n      <g>\r\n       <use style=\"stroke:#000000;stroke-width:0.8;\" x=\"366.297126\" xlink:href=\"#mcb73b226bb\" y=\"224.64\"/>\r\n      </g>\r\n     </g>\r\n     <g id=\"text_8\">\r\n      <!-- 35 -->\r\n      <g transform=\"translate(359.934626 239.238437)scale(0.1 -0.1)\">\r\n       <use xlink:href=\"#DejaVuSans-33\"/>\r\n       <use x=\"63.623047\" xlink:href=\"#DejaVuSans-35\"/>\r\n      </g>\r\n     </g>\r\n    </g>\r\n   </g>\r\n   <g id=\"matplotlib.axis_2\">\r\n    <g id=\"ytick_1\">\r\n     <g id=\"line2d_9\">\r\n      <defs>\r\n       <path d=\"M 0 0 \r\nL -3.5 0 \r\n\" id=\"ma3a04bffe5\" style=\"stroke:#000000;stroke-width:0.8;\"/>\r\n      </defs>\r\n      <g>\r\n       <use style=\"stroke:#000000;stroke-width:0.8;\" x=\"33.2875\" xlink:href=\"#ma3a04bffe5\" y=\"224.64\"/>\r\n      </g>\r\n     </g>\r\n     <g id=\"text_9\">\r\n      <!-- 0 -->\r\n      <g transform=\"translate(19.925 228.439219)scale(0.1 -0.1)\">\r\n       <use xlink:href=\"#DejaVuSans-30\"/>\r\n      </g>\r\n     </g>\r\n    </g>\r\n    <g id=\"ytick_2\">\r\n     <g id=\"line2d_10\">\r\n      <g>\r\n       <use style=\"stroke:#000000;stroke-width:0.8;\" x=\"33.2875\" xlink:href=\"#ma3a04bffe5\" y=\"182.888848\"/>\r\n      </g>\r\n     </g>\r\n     <g id=\"text_10\">\r\n      <!-- 50 -->\r\n      <g transform=\"translate(13.5625 186.688067)scale(0.1 -0.1)\">\r\n       <use xlink:href=\"#DejaVuSans-35\"/>\r\n       <use x=\"63.623047\" xlink:href=\"#DejaVuSans-30\"/>\r\n      </g>\r\n     </g>\r\n    </g>\r\n    <g id=\"ytick_3\">\r\n     <g id=\"line2d_11\">\r\n      <g>\r\n       <use style=\"stroke:#000000;stroke-width:0.8;\" x=\"33.2875\" xlink:href=\"#ma3a04bffe5\" y=\"141.137696\"/>\r\n      </g>\r\n     </g>\r\n     <g id=\"text_11\">\r\n      <!-- 100 -->\r\n      <g transform=\"translate(7.2 144.936915)scale(0.1 -0.1)\">\r\n       <use xlink:href=\"#DejaVuSans-31\"/>\r\n       <use x=\"63.623047\" xlink:href=\"#DejaVuSans-30\"/>\r\n       <use x=\"127.246094\" xlink:href=\"#DejaVuSans-30\"/>\r\n      </g>\r\n     </g>\r\n    </g>\r\n    <g id=\"ytick_4\">\r\n     <g id=\"line2d_12\">\r\n      <g>\r\n       <use style=\"stroke:#000000;stroke-width:0.8;\" x=\"33.2875\" xlink:href=\"#ma3a04bffe5\" y=\"99.386544\"/>\r\n      </g>\r\n     </g>\r\n     <g id=\"text_12\">\r\n      <!-- 150 -->\r\n      <g transform=\"translate(7.2 103.185763)scale(0.1 -0.1)\">\r\n       <use xlink:href=\"#DejaVuSans-31\"/>\r\n       <use x=\"63.623047\" xlink:href=\"#DejaVuSans-35\"/>\r\n       <use x=\"127.246094\" xlink:href=\"#DejaVuSans-30\"/>\r\n      </g>\r\n     </g>\r\n    </g>\r\n    <g id=\"ytick_5\">\r\n     <g id=\"line2d_13\">\r\n      <g>\r\n       <use style=\"stroke:#000000;stroke-width:0.8;\" x=\"33.2875\" xlink:href=\"#ma3a04bffe5\" y=\"57.635392\"/>\r\n      </g>\r\n     </g>\r\n     <g id=\"text_13\">\r\n      <!-- 200 -->\r\n      <g transform=\"translate(7.2 61.43461)scale(0.1 -0.1)\">\r\n       <use xlink:href=\"#DejaVuSans-32\"/>\r\n       <use x=\"63.623047\" xlink:href=\"#DejaVuSans-30\"/>\r\n       <use x=\"127.246094\" xlink:href=\"#DejaVuSans-30\"/>\r\n      </g>\r\n     </g>\r\n    </g>\r\n    <g id=\"ytick_6\">\r\n     <g id=\"line2d_14\">\r\n      <g>\r\n       <use style=\"stroke:#000000;stroke-width:0.8;\" x=\"33.2875\" xlink:href=\"#ma3a04bffe5\" y=\"15.88424\"/>\r\n      </g>\r\n     </g>\r\n     <g id=\"text_14\">\r\n      <!-- 250 -->\r\n      <g transform=\"translate(7.2 19.683458)scale(0.1 -0.1)\">\r\n       <use xlink:href=\"#DejaVuSans-32\"/>\r\n       <use x=\"63.623047\" xlink:href=\"#DejaVuSans-35\"/>\r\n       <use x=\"127.246094\" xlink:href=\"#DejaVuSans-30\"/>\r\n      </g>\r\n     </g>\r\n    </g>\r\n   </g>\r\n   <g id=\"patch_37\">\r\n    <path d=\"M 33.2875 224.64 \r\nL 33.2875 7.2 \r\n\" style=\"fill:none;stroke:#000000;stroke-linecap:square;stroke-linejoin:miter;stroke-width:0.8;\"/>\r\n   </g>\r\n   <g id=\"patch_38\">\r\n    <path d=\"M 368.0875 224.64 \r\nL 368.0875 7.2 \r\n\" style=\"fill:none;stroke:#000000;stroke-linecap:square;stroke-linejoin:miter;stroke-width:0.8;\"/>\r\n   </g>\r\n   <g id=\"patch_39\">\r\n    <path d=\"M 33.2875 224.64 \r\nL 368.0875 224.64 \r\n\" style=\"fill:none;stroke:#000000;stroke-linecap:square;stroke-linejoin:miter;stroke-width:0.8;\"/>\r\n   </g>\r\n   <g id=\"patch_40\">\r\n    <path d=\"M 33.2875 7.2 \r\nL 368.0875 7.2 \r\n\" style=\"fill:none;stroke:#000000;stroke-linecap:square;stroke-linejoin:miter;stroke-width:0.8;\"/>\r\n   </g>\r\n  </g>\r\n </g>\r\n <defs>\r\n  <clipPath id=\"p543c8c51d6\">\r\n   <rect height=\"217.44\" width=\"334.8\" x=\"33.2875\" y=\"7.2\"/>\r\n  </clipPath>\r\n </defs>\r\n</svg>\r\n",
            "image/png": "[encoded data removed]"
          },
          "metadata": {
            "needs_background": "light"
          }
        }
      ]
    },
    {
      "cell_type": "code",
      "metadata": {
        "id": "M8sEnB1ejAnc",
        "colab": {
          "base_uri": "https://localhost:8080/",
          "height": 185
        },
        "outputId": "64167e21-0bbf-484f-8aed-7ce62989518f"
      },
      "source": [
        "plt.bar(pos, feature_G2, width, color='r')\n",
        "plt.show()\n"
      ],
      "execution_count": 11,
      "outputs": [
        {
          "output_type": "display_data",
          "data": {
            "text/plain": "<Figure size 432x288 with 1 Axes>",
            "image/svg+xml": "<?xml version=\"1.0\" encoding=\"utf-8\" standalone=\"no\"?>\r\n<!DOCTYPE svg PUBLIC \"-//W3C//DTD SVG 1.1//EN\"\r\n  \"http://www.w3.org/Graphics/SVG/1.1/DTD/svg11.dtd\">\r\n<svg height=\"248.518125pt\" version=\"1.1\" viewBox=\"0 0 379.859626 248.518125\" width=\"379.859626pt\" xmlns=\"http://www.w3.org/2000/svg\" xmlns:xlink=\"http://www.w3.org/1999/xlink\">\r\n <metadata>\r\n  <rdf:RDF xmlns:cc=\"http://creativecommons.org/ns#\" xmlns:dc=\"http://purl.org/dc/elements/1.1/\" xmlns:rdf=\"http://www.w3.org/1999/02/22-rdf-syntax-ns#\">\r\n   <cc:Work>\r\n    <dc:type rdf:resource=\"http://purl.org/dc/dcmitype/StillImage\"/>\r\n    <dc:date>2021-05-03T18:51:43.274606</dc:date>\r\n    <dc:format>image/svg+xml</dc:format>\r\n    <dc:creator>\r\n     <cc:Agent>\r\n      <dc:title>Matplotlib v3.4.1, https://matplotlib.org/</dc:title>\r\n     </cc:Agent>\r\n    </dc:creator>\r\n   </cc:Work>\r\n  </rdf:RDF>\r\n </metadata>\r\n <defs>\r\n  <style type=\"text/css\">*{stroke-linecap:butt;stroke-linejoin:round;}</style>\r\n </defs>\r\n <g id=\"figure_1\">\r\n  <g id=\"patch_1\">\r\n   <path d=\"M 0 248.518125 \r\nL 379.859626 248.518125 \r\nL 379.859626 0 \r\nL 0 0 \r\nz\r\n\" style=\"fill:none;\"/>\r\n  </g>\r\n  <g id=\"axes_1\">\r\n   <g id=\"patch_2\">\r\n    <path d=\"M 33.2875 224.64 \r\nL 368.0875 224.64 \r\nL 368.0875 7.2 \r\nL 33.2875 7.2 \r\nz\r\n\" style=\"fill:#ffffff;\"/>\r\n   </g>\r\n   <g id=\"patch_3\">\r\n    <path clip-path=\"url(#pc927aa0bf0)\" d=\"M 48.505682 224.64 \r\nL 57.457553 224.64 \r\nL 57.457553 106.097944 \r\nL 48.505682 106.097944 \r\nz\r\n\" style=\"fill:#ff0000;\"/>\r\n   </g>\r\n   <g id=\"patch_4\">\r\n    <path clip-path=\"url(#pc927aa0bf0)\" d=\"M 57.457553 224.64 \r\nL 66.409425 224.64 \r\nL 66.409425 17.554286 \r\nL 57.457553 17.554286 \r\nz\r\n\" style=\"fill:#ff0000;\"/>\r\n   </g>\r\n   <g id=\"patch_5\">\r\n    <path clip-path=\"url(#pc927aa0bf0)\" d=\"M 66.409425 224.64 \r\nL 75.361297 224.64 \r\nL 75.361297 142.870174 \r\nL 66.409425 142.870174 \r\nz\r\n\" style=\"fill:#ff0000;\"/>\r\n   </g>\r\n   <g id=\"patch_6\">\r\n    <path clip-path=\"url(#pc927aa0bf0)\" d=\"M 75.361297 224.64 \r\nL 84.313168 224.64 \r\nL 84.313168 178.190868 \r\nL 75.361297 178.190868 \r\nz\r\n\" style=\"fill:#ff0000;\"/>\r\n   </g>\r\n   <g id=\"patch_7\">\r\n    <path clip-path=\"url(#pc927aa0bf0)\" d=\"M 84.313168 224.64 \r\nL 93.26504 224.64 \r\nL 93.26504 224.64 \r\nL 84.313168 224.64 \r\nz\r\n\" style=\"fill:#ff0000;\"/>\r\n   </g>\r\n   <g id=\"patch_8\">\r\n    <path clip-path=\"url(#pc927aa0bf0)\" d=\"M 93.26504 224.64 \r\nL 102.216912 224.64 \r\nL 102.216912 221.736929 \r\nL 93.26504 221.736929 \r\nz\r\n\" style=\"fill:#ff0000;\"/>\r\n   </g>\r\n   <g id=\"patch_9\">\r\n    <path clip-path=\"url(#pc927aa0bf0)\" d=\"M 102.216912 224.64 \r\nL 111.168783 224.64 \r\nL 111.168783 211.576182 \r\nL 102.216912 211.576182 \r\nz\r\n\" style=\"fill:#ff0000;\"/>\r\n   </g>\r\n   <g id=\"patch_10\">\r\n    <path clip-path=\"url(#pc927aa0bf0)\" d=\"M 111.168783 224.64 \r\nL 120.120655 224.64 \r\nL 120.120655 212.543872 \r\nL 111.168783 212.543872 \r\nz\r\n\" style=\"fill:#ff0000;\"/>\r\n   </g>\r\n   <g id=\"patch_11\">\r\n    <path clip-path=\"url(#pc927aa0bf0)\" d=\"M 120.120655 224.64 \r\nL 129.072527 224.64 \r\nL 129.072527 224.64 \r\nL 120.120655 224.64 \r\nz\r\n\" style=\"fill:#ff0000;\"/>\r\n   </g>\r\n   <g id=\"patch_12\">\r\n    <path clip-path=\"url(#pc927aa0bf0)\" d=\"M 129.072527 224.64 \r\nL 138.024398 224.64 \r\nL 138.024398 224.64 \r\nL 129.072527 224.64 \r\nz\r\n\" style=\"fill:#ff0000;\"/>\r\n   </g>\r\n   <g id=\"patch_13\">\r\n    <path clip-path=\"url(#pc927aa0bf0)\" d=\"M 138.024398 224.64 \r\nL 146.97627 224.64 \r\nL 146.97627 224.64 \r\nL 138.024398 224.64 \r\nz\r\n\" style=\"fill:#ff0000;\"/>\r\n   </g>\r\n   <g id=\"patch_14\">\r\n    <path clip-path=\"url(#pc927aa0bf0)\" d=\"M 146.97627 224.64 \r\nL 155.928142 224.64 \r\nL 155.928142 224.156155 \r\nL 146.97627 224.156155 \r\nz\r\n\" style=\"fill:#ff0000;\"/>\r\n   </g>\r\n   <g id=\"patch_15\">\r\n    <path clip-path=\"url(#pc927aa0bf0)\" d=\"M 155.928142 224.64 \r\nL 164.880013 224.64 \r\nL 164.880013 223.188465 \r\nL 155.928142 223.188465 \r\nz\r\n\" style=\"fill:#ff0000;\"/>\r\n   </g>\r\n   <g id=\"patch_16\">\r\n    <path clip-path=\"url(#pc927aa0bf0)\" d=\"M 164.880013 224.64 \r\nL 173.831885 224.64 \r\nL 173.831885 224.64 \r\nL 164.880013 224.64 \r\nz\r\n\" style=\"fill:#ff0000;\"/>\r\n   </g>\r\n   <g id=\"patch_17\">\r\n    <path clip-path=\"url(#pc927aa0bf0)\" d=\"M 173.831885 224.64 \r\nL 182.783757 224.64 \r\nL 182.783757 224.64 \r\nL 173.831885 224.64 \r\nz\r\n\" style=\"fill:#ff0000;\"/>\r\n   </g>\r\n   <g id=\"patch_18\">\r\n    <path clip-path=\"url(#pc927aa0bf0)\" d=\"M 182.783757 224.64 \r\nL 191.735628 224.64 \r\nL 191.735628 224.64 \r\nL 182.783757 224.64 \r\nz\r\n\" style=\"fill:#ff0000;\"/>\r\n   </g>\r\n   <g id=\"patch_19\">\r\n    <path clip-path=\"url(#pc927aa0bf0)\" d=\"M 191.735628 224.64 \r\nL 200.6875 224.64 \r\nL 200.6875 224.64 \r\nL 191.735628 224.64 \r\nz\r\n\" style=\"fill:#ff0000;\"/>\r\n   </g>\r\n   <g id=\"patch_20\">\r\n    <path clip-path=\"url(#pc927aa0bf0)\" d=\"M 200.6875 224.64 \r\nL 209.639372 224.64 \r\nL 209.639372 224.64 \r\nL 200.6875 224.64 \r\nz\r\n\" style=\"fill:#ff0000;\"/>\r\n   </g>\r\n   <g id=\"patch_21\">\r\n    <path clip-path=\"url(#pc927aa0bf0)\" d=\"M 209.639372 224.64 \r\nL 218.591243 224.64 \r\nL 218.591243 224.64 \r\nL 209.639372 224.64 \r\nz\r\n\" style=\"fill:#ff0000;\"/>\r\n   </g>\r\n   <g id=\"patch_22\">\r\n    <path clip-path=\"url(#pc927aa0bf0)\" d=\"M 218.591243 224.64 \r\nL 227.543115 224.64 \r\nL 227.543115 224.64 \r\nL 218.591243 224.64 \r\nz\r\n\" style=\"fill:#ff0000;\"/>\r\n   </g>\r\n   <g id=\"patch_23\">\r\n    <path clip-path=\"url(#pc927aa0bf0)\" d=\"M 227.543115 224.64 \r\nL 236.494987 224.64 \r\nL 236.494987 224.64 \r\nL 227.543115 224.64 \r\nz\r\n\" style=\"fill:#ff0000;\"/>\r\n   </g>\r\n   <g id=\"patch_24\">\r\n    <path clip-path=\"url(#pc927aa0bf0)\" d=\"M 236.494987 224.64 \r\nL 245.446858 224.64 \r\nL 245.446858 224.64 \r\nL 236.494987 224.64 \r\nz\r\n\" style=\"fill:#ff0000;\"/>\r\n   </g>\r\n   <g id=\"patch_25\">\r\n    <path clip-path=\"url(#pc927aa0bf0)\" d=\"M 245.446858 224.64 \r\nL 254.39873 224.64 \r\nL 254.39873 224.64 \r\nL 245.446858 224.64 \r\nz\r\n\" style=\"fill:#ff0000;\"/>\r\n   </g>\r\n   <g id=\"patch_26\">\r\n    <path clip-path=\"url(#pc927aa0bf0)\" d=\"M 254.39873 224.64 \r\nL 263.350602 224.64 \r\nL 263.350602 224.64 \r\nL 254.39873 224.64 \r\nz\r\n\" style=\"fill:#ff0000;\"/>\r\n   </g>\r\n   <g id=\"patch_27\">\r\n    <path clip-path=\"url(#pc927aa0bf0)\" d=\"M 263.350602 224.64 \r\nL 272.302473 224.64 \r\nL 272.302473 224.64 \r\nL 263.350602 224.64 \r\nz\r\n\" style=\"fill:#ff0000;\"/>\r\n   </g>\r\n   <g id=\"patch_28\">\r\n    <path clip-path=\"url(#pc927aa0bf0)\" d=\"M 272.302473 224.64 \r\nL 281.254345 224.64 \r\nL 281.254345 224.64 \r\nL 272.302473 224.64 \r\nz\r\n\" style=\"fill:#ff0000;\"/>\r\n   </g>\r\n   <g id=\"patch_29\">\r\n    <path clip-path=\"url(#pc927aa0bf0)\" d=\"M 281.254345 224.64 \r\nL 290.206217 224.64 \r\nL 290.206217 224.64 \r\nL 281.254345 224.64 \r\nz\r\n\" style=\"fill:#ff0000;\"/>\r\n   </g>\r\n   <g id=\"patch_30\">\r\n    <path clip-path=\"url(#pc927aa0bf0)\" d=\"M 290.206217 224.64 \r\nL 299.158088 224.64 \r\nL 299.158088 224.64 \r\nL 290.206217 224.64 \r\nz\r\n\" style=\"fill:#ff0000;\"/>\r\n   </g>\r\n   <g id=\"patch_31\">\r\n    <path clip-path=\"url(#pc927aa0bf0)\" d=\"M 299.158088 224.64 \r\nL 308.10996 224.64 \r\nL 308.10996 224.64 \r\nL 299.158088 224.64 \r\nz\r\n\" style=\"fill:#ff0000;\"/>\r\n   </g>\r\n   <g id=\"patch_32\">\r\n    <path clip-path=\"url(#pc927aa0bf0)\" d=\"M 308.10996 224.64 \r\nL 317.061832 224.64 \r\nL 317.061832 224.64 \r\nL 308.10996 224.64 \r\nz\r\n\" style=\"fill:#ff0000;\"/>\r\n   </g>\r\n   <g id=\"patch_33\">\r\n    <path clip-path=\"url(#pc927aa0bf0)\" d=\"M 317.061832 224.64 \r\nL 326.013703 224.64 \r\nL 326.013703 224.64 \r\nL 317.061832 224.64 \r\nz\r\n\" style=\"fill:#ff0000;\"/>\r\n   </g>\r\n   <g id=\"patch_34\">\r\n    <path clip-path=\"url(#pc927aa0bf0)\" d=\"M 326.013703 224.64 \r\nL 334.965575 224.64 \r\nL 334.965575 224.64 \r\nL 326.013703 224.64 \r\nz\r\n\" style=\"fill:#ff0000;\"/>\r\n   </g>\r\n   <g id=\"patch_35\">\r\n    <path clip-path=\"url(#pc927aa0bf0)\" d=\"M 334.965575 224.64 \r\nL 343.917447 224.64 \r\nL 343.917447 224.64 \r\nL 334.965575 224.64 \r\nz\r\n\" style=\"fill:#ff0000;\"/>\r\n   </g>\r\n   <g id=\"patch_36\">\r\n    <path clip-path=\"url(#pc927aa0bf0)\" d=\"M 343.917447 224.64 \r\nL 352.869318 224.64 \r\nL 352.869318 224.64 \r\nL 343.917447 224.64 \r\nz\r\n\" style=\"fill:#ff0000;\"/>\r\n   </g>\r\n   <g id=\"matplotlib.axis_1\">\r\n    <g id=\"xtick_1\">\r\n     <g id=\"line2d_1\">\r\n      <defs>\r\n       <path d=\"M 0 0 \r\nL 0 3.5 \r\n\" id=\"mb24276ed2b\" style=\"stroke:#000000;stroke-width:0.8;\"/>\r\n      </defs>\r\n      <g>\r\n       <use style=\"stroke:#000000;stroke-width:0.8;\" x=\"52.981618\" xlink:href=\"#mb24276ed2b\" y=\"224.64\"/>\r\n      </g>\r\n     </g>\r\n     <g id=\"text_1\">\r\n      <!-- 0 -->\r\n      <g transform=\"translate(49.800368 239.238437)scale(0.1 -0.1)\">\r\n       <defs>\r\n        <path d=\"M 2034 4250 \r\nQ 1547 4250 1301 3770 \r\nQ 1056 3291 1056 2328 \r\nQ 1056 1369 1301 889 \r\nQ 1547 409 2034 409 \r\nQ 2525 409 2770 889 \r\nQ 3016 1369 3016 2328 \r\nQ 3016 3291 2770 3770 \r\nQ 2525 4250 2034 4250 \r\nz\r\nM 2034 4750 \r\nQ 2819 4750 3233 4129 \r\nQ 3647 3509 3647 2328 \r\nQ 3647 1150 3233 529 \r\nQ 2819 -91 2034 -91 \r\nQ 1250 -91 836 529 \r\nQ 422 1150 422 2328 \r\nQ 422 3509 836 4129 \r\nQ 1250 4750 2034 4750 \r\nz\r\n\" id=\"DejaVuSans-30\" transform=\"scale(0.015625)\"/>\r\n       </defs>\r\n       <use xlink:href=\"#DejaVuSans-30\"/>\r\n      </g>\r\n     </g>\r\n    </g>\r\n    <g id=\"xtick_2\">\r\n     <g id=\"line2d_2\">\r\n      <g>\r\n       <use style=\"stroke:#000000;stroke-width:0.8;\" x=\"97.740976\" xlink:href=\"#mb24276ed2b\" y=\"224.64\"/>\r\n      </g>\r\n     </g>\r\n     <g id=\"text_2\">\r\n      <!-- 5 -->\r\n      <g transform=\"translate(94.559726 239.238437)scale(0.1 -0.1)\">\r\n       <defs>\r\n        <path d=\"M 691 4666 \r\nL 3169 4666 \r\nL 3169 4134 \r\nL 1269 4134 \r\nL 1269 2991 \r\nQ 1406 3038 1543 3061 \r\nQ 1681 3084 1819 3084 \r\nQ 2600 3084 3056 2656 \r\nQ 3513 2228 3513 1497 \r\nQ 3513 744 3044 326 \r\nQ 2575 -91 1722 -91 \r\nQ 1428 -91 1123 -41 \r\nQ 819 9 494 109 \r\nL 494 744 \r\nQ 775 591 1075 516 \r\nQ 1375 441 1709 441 \r\nQ 2250 441 2565 725 \r\nQ 2881 1009 2881 1497 \r\nQ 2881 1984 2565 2268 \r\nQ 2250 2553 1709 2553 \r\nQ 1456 2553 1204 2497 \r\nQ 953 2441 691 2322 \r\nL 691 4666 \r\nz\r\n\" id=\"DejaVuSans-35\" transform=\"scale(0.015625)\"/>\r\n       </defs>\r\n       <use xlink:href=\"#DejaVuSans-35\"/>\r\n      </g>\r\n     </g>\r\n    </g>\r\n    <g id=\"xtick_3\">\r\n     <g id=\"line2d_3\">\r\n      <g>\r\n       <use style=\"stroke:#000000;stroke-width:0.8;\" x=\"142.500334\" xlink:href=\"#mb24276ed2b\" y=\"224.64\"/>\r\n      </g>\r\n     </g>\r\n     <g id=\"text_3\">\r\n      <!-- 10 -->\r\n      <g transform=\"translate(136.137834 239.238437)scale(0.1 -0.1)\">\r\n       <defs>\r\n        <path d=\"M 794 531 \r\nL 1825 531 \r\nL 1825 4091 \r\nL 703 3866 \r\nL 703 4441 \r\nL 1819 4666 \r\nL 2450 4666 \r\nL 2450 531 \r\nL 3481 531 \r\nL 3481 0 \r\nL 794 0 \r\nL 794 531 \r\nz\r\n\" id=\"DejaVuSans-31\" transform=\"scale(0.015625)\"/>\r\n       </defs>\r\n       <use xlink:href=\"#DejaVuSans-31\"/>\r\n       <use x=\"63.623047\" xlink:href=\"#DejaVuSans-30\"/>\r\n      </g>\r\n     </g>\r\n    </g>\r\n    <g id=\"xtick_4\">\r\n     <g id=\"line2d_4\">\r\n      <g>\r\n       <use style=\"stroke:#000000;stroke-width:0.8;\" x=\"187.259693\" xlink:href=\"#mb24276ed2b\" y=\"224.64\"/>\r\n      </g>\r\n     </g>\r\n     <g id=\"text_4\">\r\n      <!-- 15 -->\r\n      <g transform=\"translate(180.897193 239.238437)scale(0.1 -0.1)\">\r\n       <use xlink:href=\"#DejaVuSans-31\"/>\r\n       <use x=\"63.623047\" xlink:href=\"#DejaVuSans-35\"/>\r\n      </g>\r\n     </g>\r\n    </g>\r\n    <g id=\"xtick_5\">\r\n     <g id=\"line2d_5\">\r\n      <g>\r\n       <use style=\"stroke:#000000;stroke-width:0.8;\" x=\"232.019051\" xlink:href=\"#mb24276ed2b\" y=\"224.64\"/>\r\n      </g>\r\n     </g>\r\n     <g id=\"text_5\">\r\n      <!-- 20 -->\r\n      <g transform=\"translate(225.656551 239.238437)scale(0.1 -0.1)\">\r\n       <defs>\r\n        <path d=\"M 1228 531 \r\nL 3431 531 \r\nL 3431 0 \r\nL 469 0 \r\nL 469 531 \r\nQ 828 903 1448 1529 \r\nQ 2069 2156 2228 2338 \r\nQ 2531 2678 2651 2914 \r\nQ 2772 3150 2772 3378 \r\nQ 2772 3750 2511 3984 \r\nQ 2250 4219 1831 4219 \r\nQ 1534 4219 1204 4116 \r\nQ 875 4013 500 3803 \r\nL 500 4441 \r\nQ 881 4594 1212 4672 \r\nQ 1544 4750 1819 4750 \r\nQ 2544 4750 2975 4387 \r\nQ 3406 4025 3406 3419 \r\nQ 3406 3131 3298 2873 \r\nQ 3191 2616 2906 2266 \r\nQ 2828 2175 2409 1742 \r\nQ 1991 1309 1228 531 \r\nz\r\n\" id=\"DejaVuSans-32\" transform=\"scale(0.015625)\"/>\r\n       </defs>\r\n       <use xlink:href=\"#DejaVuSans-32\"/>\r\n       <use x=\"63.623047\" xlink:href=\"#DejaVuSans-30\"/>\r\n      </g>\r\n     </g>\r\n    </g>\r\n    <g id=\"xtick_6\">\r\n     <g id=\"line2d_6\">\r\n      <g>\r\n       <use style=\"stroke:#000000;stroke-width:0.8;\" x=\"276.778409\" xlink:href=\"#mb24276ed2b\" y=\"224.64\"/>\r\n      </g>\r\n     </g>\r\n     <g id=\"text_6\">\r\n      <!-- 25 -->\r\n      <g transform=\"translate(270.415909 239.238437)scale(0.1 -0.1)\">\r\n       <use xlink:href=\"#DejaVuSans-32\"/>\r\n       <use x=\"63.623047\" xlink:href=\"#DejaVuSans-35\"/>\r\n      </g>\r\n     </g>\r\n    </g>\r\n    <g id=\"xtick_7\">\r\n     <g id=\"line2d_7\">\r\n      <g>\r\n       <use style=\"stroke:#000000;stroke-width:0.8;\" x=\"321.537767\" xlink:href=\"#mb24276ed2b\" y=\"224.64\"/>\r\n      </g>\r\n     </g>\r\n     <g id=\"text_7\">\r\n      <!-- 30 -->\r\n      <g transform=\"translate(315.175267 239.238437)scale(0.1 -0.1)\">\r\n       <defs>\r\n        <path d=\"M 2597 2516 \r\nQ 3050 2419 3304 2112 \r\nQ 3559 1806 3559 1356 \r\nQ 3559 666 3084 287 \r\nQ 2609 -91 1734 -91 \r\nQ 1441 -91 1130 -33 \r\nQ 819 25 488 141 \r\nL 488 750 \r\nQ 750 597 1062 519 \r\nQ 1375 441 1716 441 \r\nQ 2309 441 2620 675 \r\nQ 2931 909 2931 1356 \r\nQ 2931 1769 2642 2001 \r\nQ 2353 2234 1838 2234 \r\nL 1294 2234 \r\nL 1294 2753 \r\nL 1863 2753 \r\nQ 2328 2753 2575 2939 \r\nQ 2822 3125 2822 3475 \r\nQ 2822 3834 2567 4026 \r\nQ 2313 4219 1838 4219 \r\nQ 1578 4219 1281 4162 \r\nQ 984 4106 628 3988 \r\nL 628 4550 \r\nQ 988 4650 1302 4700 \r\nQ 1616 4750 1894 4750 \r\nQ 2613 4750 3031 4423 \r\nQ 3450 4097 3450 3541 \r\nQ 3450 3153 3228 2886 \r\nQ 3006 2619 2597 2516 \r\nz\r\n\" id=\"DejaVuSans-33\" transform=\"scale(0.015625)\"/>\r\n       </defs>\r\n       <use xlink:href=\"#DejaVuSans-33\"/>\r\n       <use x=\"63.623047\" xlink:href=\"#DejaVuSans-30\"/>\r\n      </g>\r\n     </g>\r\n    </g>\r\n    <g id=\"xtick_8\">\r\n     <g id=\"line2d_8\">\r\n      <g>\r\n       <use style=\"stroke:#000000;stroke-width:0.8;\" x=\"366.297126\" xlink:href=\"#mb24276ed2b\" y=\"224.64\"/>\r\n      </g>\r\n     </g>\r\n     <g id=\"text_8\">\r\n      <!-- 35 -->\r\n      <g transform=\"translate(359.934626 239.238437)scale(0.1 -0.1)\">\r\n       <use xlink:href=\"#DejaVuSans-33\"/>\r\n       <use x=\"63.623047\" xlink:href=\"#DejaVuSans-35\"/>\r\n      </g>\r\n     </g>\r\n    </g>\r\n   </g>\r\n   <g id=\"matplotlib.axis_2\">\r\n    <g id=\"ytick_1\">\r\n     <g id=\"line2d_9\">\r\n      <defs>\r\n       <path d=\"M 0 0 \r\nL -3.5 0 \r\n\" id=\"m52ad2136fb\" style=\"stroke:#000000;stroke-width:0.8;\"/>\r\n      </defs>\r\n      <g>\r\n       <use style=\"stroke:#000000;stroke-width:0.8;\" x=\"33.2875\" xlink:href=\"#m52ad2136fb\" y=\"224.64\"/>\r\n      </g>\r\n     </g>\r\n     <g id=\"text_9\">\r\n      <!-- 0 -->\r\n      <g transform=\"translate(19.925 228.439219)scale(0.1 -0.1)\">\r\n       <use xlink:href=\"#DejaVuSans-30\"/>\r\n      </g>\r\n     </g>\r\n    </g>\r\n    <g id=\"ytick_2\">\r\n     <g id=\"line2d_10\">\r\n      <g>\r\n       <use style=\"stroke:#000000;stroke-width:0.8;\" x=\"33.2875\" xlink:href=\"#m52ad2136fb\" y=\"200.447744\"/>\r\n      </g>\r\n     </g>\r\n     <g id=\"text_10\">\r\n      <!-- 50 -->\r\n      <g transform=\"translate(13.5625 204.246962)scale(0.1 -0.1)\">\r\n       <use xlink:href=\"#DejaVuSans-35\"/>\r\n       <use x=\"63.623047\" xlink:href=\"#DejaVuSans-30\"/>\r\n      </g>\r\n     </g>\r\n    </g>\r\n    <g id=\"ytick_3\">\r\n     <g id=\"line2d_11\">\r\n      <g>\r\n       <use style=\"stroke:#000000;stroke-width:0.8;\" x=\"33.2875\" xlink:href=\"#m52ad2136fb\" y=\"176.255487\"/>\r\n      </g>\r\n     </g>\r\n     <g id=\"text_11\">\r\n      <!-- 100 -->\r\n      <g transform=\"translate(7.2 180.054706)scale(0.1 -0.1)\">\r\n       <use xlink:href=\"#DejaVuSans-31\"/>\r\n       <use x=\"63.623047\" xlink:href=\"#DejaVuSans-30\"/>\r\n       <use x=\"127.246094\" xlink:href=\"#DejaVuSans-30\"/>\r\n      </g>\r\n     </g>\r\n    </g>\r\n    <g id=\"ytick_4\">\r\n     <g id=\"line2d_12\">\r\n      <g>\r\n       <use style=\"stroke:#000000;stroke-width:0.8;\" x=\"33.2875\" xlink:href=\"#m52ad2136fb\" y=\"152.063231\"/>\r\n      </g>\r\n     </g>\r\n     <g id=\"text_12\">\r\n      <!-- 150 -->\r\n      <g transform=\"translate(7.2 155.86245)scale(0.1 -0.1)\">\r\n       <use xlink:href=\"#DejaVuSans-31\"/>\r\n       <use x=\"63.623047\" xlink:href=\"#DejaVuSans-35\"/>\r\n       <use x=\"127.246094\" xlink:href=\"#DejaVuSans-30\"/>\r\n      </g>\r\n     </g>\r\n    </g>\r\n    <g id=\"ytick_5\">\r\n     <g id=\"line2d_13\">\r\n      <g>\r\n       <use style=\"stroke:#000000;stroke-width:0.8;\" x=\"33.2875\" xlink:href=\"#m52ad2136fb\" y=\"127.870975\"/>\r\n      </g>\r\n     </g>\r\n     <g id=\"text_13\">\r\n      <!-- 200 -->\r\n      <g transform=\"translate(7.2 131.670193)scale(0.1 -0.1)\">\r\n       <use xlink:href=\"#DejaVuSans-32\"/>\r\n       <use x=\"63.623047\" xlink:href=\"#DejaVuSans-30\"/>\r\n       <use x=\"127.246094\" xlink:href=\"#DejaVuSans-30\"/>\r\n      </g>\r\n     </g>\r\n    </g>\r\n    <g id=\"ytick_6\">\r\n     <g id=\"line2d_14\">\r\n      <g>\r\n       <use style=\"stroke:#000000;stroke-width:0.8;\" x=\"33.2875\" xlink:href=\"#m52ad2136fb\" y=\"103.678718\"/>\r\n      </g>\r\n     </g>\r\n     <g id=\"text_14\">\r\n      <!-- 250 -->\r\n      <g transform=\"translate(7.2 107.477937)scale(0.1 -0.1)\">\r\n       <use xlink:href=\"#DejaVuSans-32\"/>\r\n       <use x=\"63.623047\" xlink:href=\"#DejaVuSans-35\"/>\r\n       <use x=\"127.246094\" xlink:href=\"#DejaVuSans-30\"/>\r\n      </g>\r\n     </g>\r\n    </g>\r\n    <g id=\"ytick_7\">\r\n     <g id=\"line2d_15\">\r\n      <g>\r\n       <use style=\"stroke:#000000;stroke-width:0.8;\" x=\"33.2875\" xlink:href=\"#m52ad2136fb\" y=\"79.486462\"/>\r\n      </g>\r\n     </g>\r\n     <g id=\"text_15\">\r\n      <!-- 300 -->\r\n      <g transform=\"translate(7.2 83.285681)scale(0.1 -0.1)\">\r\n       <use xlink:href=\"#DejaVuSans-33\"/>\r\n       <use x=\"63.623047\" xlink:href=\"#DejaVuSans-30\"/>\r\n       <use x=\"127.246094\" xlink:href=\"#DejaVuSans-30\"/>\r\n      </g>\r\n     </g>\r\n    </g>\r\n    <g id=\"ytick_8\">\r\n     <g id=\"line2d_16\">\r\n      <g>\r\n       <use style=\"stroke:#000000;stroke-width:0.8;\" x=\"33.2875\" xlink:href=\"#m52ad2136fb\" y=\"55.294206\"/>\r\n      </g>\r\n     </g>\r\n     <g id=\"text_16\">\r\n      <!-- 350 -->\r\n      <g transform=\"translate(7.2 59.093424)scale(0.1 -0.1)\">\r\n       <use xlink:href=\"#DejaVuSans-33\"/>\r\n       <use x=\"63.623047\" xlink:href=\"#DejaVuSans-35\"/>\r\n       <use x=\"127.246094\" xlink:href=\"#DejaVuSans-30\"/>\r\n      </g>\r\n     </g>\r\n    </g>\r\n    <g id=\"ytick_9\">\r\n     <g id=\"line2d_17\">\r\n      <g>\r\n       <use style=\"stroke:#000000;stroke-width:0.8;\" x=\"33.2875\" xlink:href=\"#m52ad2136fb\" y=\"31.101949\"/>\r\n      </g>\r\n     </g>\r\n     <g id=\"text_17\">\r\n      <!-- 400 -->\r\n      <g transform=\"translate(7.2 34.901168)scale(0.1 -0.1)\">\r\n       <defs>\r\n        <path d=\"M 2419 4116 \r\nL 825 1625 \r\nL 2419 1625 \r\nL 2419 4116 \r\nz\r\nM 2253 4666 \r\nL 3047 4666 \r\nL 3047 1625 \r\nL 3713 1625 \r\nL 3713 1100 \r\nL 3047 1100 \r\nL 3047 0 \r\nL 2419 0 \r\nL 2419 1100 \r\nL 313 1100 \r\nL 313 1709 \r\nL 2253 4666 \r\nz\r\n\" id=\"DejaVuSans-34\" transform=\"scale(0.015625)\"/>\r\n       </defs>\r\n       <use xlink:href=\"#DejaVuSans-34\"/>\r\n       <use x=\"63.623047\" xlink:href=\"#DejaVuSans-30\"/>\r\n       <use x=\"127.246094\" xlink:href=\"#DejaVuSans-30\"/>\r\n      </g>\r\n     </g>\r\n    </g>\r\n   </g>\r\n   <g id=\"patch_37\">\r\n    <path d=\"M 33.2875 224.64 \r\nL 33.2875 7.2 \r\n\" style=\"fill:none;stroke:#000000;stroke-linecap:square;stroke-linejoin:miter;stroke-width:0.8;\"/>\r\n   </g>\r\n   <g id=\"patch_38\">\r\n    <path d=\"M 368.0875 224.64 \r\nL 368.0875 7.2 \r\n\" style=\"fill:none;stroke:#000000;stroke-linecap:square;stroke-linejoin:miter;stroke-width:0.8;\"/>\r\n   </g>\r\n   <g id=\"patch_39\">\r\n    <path d=\"M 33.2875 224.64 \r\nL 368.0875 224.64 \r\n\" style=\"fill:none;stroke:#000000;stroke-linecap:square;stroke-linejoin:miter;stroke-width:0.8;\"/>\r\n   </g>\r\n   <g id=\"patch_40\">\r\n    <path d=\"M 33.2875 7.2 \r\nL 368.0875 7.2 \r\n\" style=\"fill:none;stroke:#000000;stroke-linecap:square;stroke-linejoin:miter;stroke-width:0.8;\"/>\r\n   </g>\r\n  </g>\r\n </g>\r\n <defs>\r\n  <clipPath id=\"pc927aa0bf0\">\r\n   <rect height=\"217.44\" width=\"334.8\" x=\"33.2875\" y=\"7.2\"/>\r\n  </clipPath>\r\n </defs>\r\n</svg>\r\n",
            "image/png": "[encoded data removed]"
          },
          "metadata": {
            "needs_background": "light"
          }
        }
      ]
    },
    {
      "cell_type": "code",
      "metadata": {
        "id": "5Mh91BS9jAnd",
        "colab": {
          "base_uri": "https://localhost:8080/",
          "height": 185
        },
        "outputId": "db3a017f-dedc-4509-ac62-2f77e91a75ff"
      },
      "source": [
        "graph_kernel = np.dot(feature_G1,feature_G2)\n",
        "graph_kernel\n"
      ],
      "execution_count": 12,
      "outputs": [
        {
          "output_type": "execute_result",
          "data": {
            "text/plain": [
              "118608.0"
            ]
          },
          "metadata": {},
          "execution_count": 12
        }
      ]
    },
    {
      "source": [
        "Exercise 2 Closed Walk"
      ],
      "cell_type": "markdown",
      "metadata": {}
    },
    {
      "cell_type": "code",
      "metadata": {
        "id": "52FemKFIjAnd"
      },
      "source": [
        "\n",
        "def closedwalk(G, walklength):\n",
        "\n",
        "    #computing adjacency matrix for graph G\n",
        "    A = data_utils.get_adjacency_matrix(G)\n",
        "\n",
        "    #computing degree of each node in G\n",
        "    D = np.diag(np.sum(A, axis=0))\n",
        "\n",
        "    #computing inverse of Degree Matrix by checking for singular matrix\n",
        "    D_inverse = np.linalg.inv(D) if np.linalg.det(D) else np.linalg.pinv(D)\n",
        "\n",
        "    #Transitional Matrix containing probabilities for each node to each of its neighbouring node A/D\n",
        "    T = np.dot(D_inverse,A)\n",
        "\n",
        "    num_of_nodes = G.number_of_nodes()\n",
        "    walks = np.empty((0, walklength+1), int)\n",
        "\n",
        "    #computing random walks for given walklength for each node in the graph\n",
        "    for node in range(num_of_nodes):\n",
        "        p = np.array([0]*num_of_nodes).reshape(-1,1)\n",
        "        p[node] = 1\n",
        "        walk = list() \n",
        "        walk = [node] \n",
        "        for k in range(walklength):\n",
        "            p = np.dot(T,p)\n",
        "            walk.append(np.argmax(p))\n",
        "        walks = np.append(walks, np.array([walk]), axis=0)\n",
        "    closedwalk = np.zeros(walklength)\n",
        "    \n",
        "    #computing closed walk for different lengths upto walklength\n",
        "    for i in range(1,walklength):\n",
        "        closedwalk[i] = closedwalk[i-1]\n",
        "        for j in range(len(walks)):\n",
        "            if(walks[j][i] == j):\n",
        "                closedwalk[i] += 1\n",
        "    return closedwalk"
      ],
      "execution_count": 13,
      "outputs": []
    },
    {
      "cell_type": "code",
      "metadata": {
        "id": "qh0CPW9ujAnd",
        "colab": {
          "base_uri": "https://localhost:8080/",
          "height": 265
        },
        "outputId": "680e83e6-22a4-4eeb-f4b0-ad7e28943c1f"
      },
      "source": [
        "G = graphs[0]\n",
        "\n",
        "walklength = 10\n",
        "closedwalk = closedwalk(G, walklength)\n",
        "\n",
        "x = np.arange(walklength)\n",
        "plt.bar(x, closedwalk, width, color='b')\n",
        "plt.show()"
      ],
      "execution_count": 14,
      "outputs": [
        {
          "output_type": "display_data",
          "data": {
            "text/plain": "<Figure size 432x288 with 1 Axes>",
            "image/svg+xml": "<?xml version=\"1.0\" encoding=\"utf-8\" standalone=\"no\"?>\r\n<!DOCTYPE svg PUBLIC \"-//W3C//DTD SVG 1.1//EN\"\r\n  \"http://www.w3.org/Graphics/SVG/1.1/DTD/svg11.dtd\">\r\n<svg height=\"248.518125pt\" version=\"1.1\" viewBox=\"0 0 375.2875 248.518125\" width=\"375.2875pt\" xmlns=\"http://www.w3.org/2000/svg\" xmlns:xlink=\"http://www.w3.org/1999/xlink\">\r\n <metadata>\r\n  <rdf:RDF xmlns:cc=\"http://creativecommons.org/ns#\" xmlns:dc=\"http://purl.org/dc/elements/1.1/\" xmlns:rdf=\"http://www.w3.org/1999/02/22-rdf-syntax-ns#\">\r\n   <cc:Work>\r\n    <dc:type rdf:resource=\"http://purl.org/dc/dcmitype/StillImage\"/>\r\n    <dc:date>2021-05-03T18:51:52.174871</dc:date>\r\n    <dc:format>image/svg+xml</dc:format>\r\n    <dc:creator>\r\n     <cc:Agent>\r\n      <dc:title>Matplotlib v3.4.1, https://matplotlib.org/</dc:title>\r\n     </cc:Agent>\r\n    </dc:creator>\r\n   </cc:Work>\r\n  </rdf:RDF>\r\n </metadata>\r\n <defs>\r\n  <style type=\"text/css\">*{stroke-linecap:butt;stroke-linejoin:round;}</style>\r\n </defs>\r\n <g id=\"figure_1\">\r\n  <g id=\"patch_1\">\r\n   <path d=\"M -0 248.518125 \r\nL 375.2875 248.518125 \r\nL 375.2875 0 \r\nL -0 0 \r\nz\r\n\" style=\"fill:none;\"/>\r\n  </g>\r\n  <g id=\"axes_1\">\r\n   <g id=\"patch_2\">\r\n    <path d=\"M 26.925 224.64 \r\nL 361.725 224.64 \r\nL 361.725 7.2 \r\nL 26.925 7.2 \r\nz\r\n\" style=\"fill:#ffffff;\"/>\r\n   </g>\r\n   <g id=\"patch_3\">\r\n    <path clip-path=\"url(#p976a6a1fa5)\" d=\"M 42.143182 224.64 \r\nL 72.579545 224.64 \r\nL 72.579545 224.64 \r\nL 42.143182 224.64 \r\nz\r\n\" style=\"fill:#0000ff;\"/>\r\n   </g>\r\n   <g id=\"patch_4\">\r\n    <path clip-path=\"url(#p976a6a1fa5)\" d=\"M 72.579545 224.64 \r\nL 103.015909 224.64 \r\nL 103.015909 224.64 \r\nL 72.579545 224.64 \r\nz\r\n\" style=\"fill:#0000ff;\"/>\r\n   </g>\r\n   <g id=\"patch_5\">\r\n    <path clip-path=\"url(#p976a6a1fa5)\" d=\"M 103.015909 224.64 \r\nL 133.452273 224.64 \r\nL 133.452273 159.244511 \r\nL 103.015909 159.244511 \r\nz\r\n\" style=\"fill:#0000ff;\"/>\r\n   </g>\r\n   <g id=\"patch_6\">\r\n    <path clip-path=\"url(#p976a6a1fa5)\" d=\"M 133.452273 224.64 \r\nL 163.888636 224.64 \r\nL 163.888636 159.244511 \r\nL 133.452273 159.244511 \r\nz\r\n\" style=\"fill:#0000ff;\"/>\r\n   </g>\r\n   <g id=\"patch_7\">\r\n    <path clip-path=\"url(#p976a6a1fa5)\" d=\"M 163.888636 224.64 \r\nL 194.325 224.64 \r\nL 194.325 112.014436 \r\nL 163.888636 112.014436 \r\nz\r\n\" style=\"fill:#0000ff;\"/>\r\n   </g>\r\n   <g id=\"patch_8\">\r\n    <path clip-path=\"url(#p976a6a1fa5)\" d=\"M 194.325 224.64 \r\nL 224.761364 224.64 \r\nL 224.761364 112.014436 \r\nL 194.325 112.014436 \r\nz\r\n\" style=\"fill:#0000ff;\"/>\r\n   </g>\r\n   <g id=\"patch_9\">\r\n    <path clip-path=\"url(#p976a6a1fa5)\" d=\"M 224.761364 224.64 \r\nL 255.197727 224.64 \r\nL 255.197727 64.784361 \r\nL 224.761364 64.784361 \r\nz\r\n\" style=\"fill:#0000ff;\"/>\r\n   </g>\r\n   <g id=\"patch_10\">\r\n    <path clip-path=\"url(#p976a6a1fa5)\" d=\"M 255.197727 224.64 \r\nL 285.634091 224.64 \r\nL 285.634091 64.784361 \r\nL 255.197727 64.784361 \r\nz\r\n\" style=\"fill:#0000ff;\"/>\r\n   </g>\r\n   <g id=\"patch_11\">\r\n    <path clip-path=\"url(#p976a6a1fa5)\" d=\"M 285.634091 224.64 \r\nL 316.070455 224.64 \r\nL 316.070455 17.554286 \r\nL 285.634091 17.554286 \r\nz\r\n\" style=\"fill:#0000ff;\"/>\r\n   </g>\r\n   <g id=\"patch_12\">\r\n    <path clip-path=\"url(#p976a6a1fa5)\" d=\"M 316.070455 224.64 \r\nL 346.506818 224.64 \r\nL 346.506818 17.554286 \r\nL 316.070455 17.554286 \r\nz\r\n\" style=\"fill:#0000ff;\"/>\r\n   </g>\r\n   <g id=\"matplotlib.axis_1\">\r\n    <g id=\"xtick_1\">\r\n     <g id=\"line2d_1\">\r\n      <defs>\r\n       <path d=\"M 0 0 \r\nL 0 3.5 \r\n\" id=\"m35a6b013e5\" style=\"stroke:#000000;stroke-width:0.8;\"/>\r\n      </defs>\r\n      <g>\r\n       <use style=\"stroke:#000000;stroke-width:0.8;\" x=\"57.361364\" xlink:href=\"#m35a6b013e5\" y=\"224.64\"/>\r\n      </g>\r\n     </g>\r\n     <g id=\"text_1\">\r\n      <!-- 0 -->\r\n      <g transform=\"translate(54.180114 239.238437)scale(0.1 -0.1)\">\r\n       <defs>\r\n        <path d=\"M 2034 4250 \r\nQ 1547 4250 1301 3770 \r\nQ 1056 3291 1056 2328 \r\nQ 1056 1369 1301 889 \r\nQ 1547 409 2034 409 \r\nQ 2525 409 2770 889 \r\nQ 3016 1369 3016 2328 \r\nQ 3016 3291 2770 3770 \r\nQ 2525 4250 2034 4250 \r\nz\r\nM 2034 4750 \r\nQ 2819 4750 3233 4129 \r\nQ 3647 3509 3647 2328 \r\nQ 3647 1150 3233 529 \r\nQ 2819 -91 2034 -91 \r\nQ 1250 -91 836 529 \r\nQ 422 1150 422 2328 \r\nQ 422 3509 836 4129 \r\nQ 1250 4750 2034 4750 \r\nz\r\n\" id=\"DejaVuSans-30\" transform=\"scale(0.015625)\"/>\r\n       </defs>\r\n       <use xlink:href=\"#DejaVuSans-30\"/>\r\n      </g>\r\n     </g>\r\n    </g>\r\n    <g id=\"xtick_2\">\r\n     <g id=\"line2d_2\">\r\n      <g>\r\n       <use style=\"stroke:#000000;stroke-width:0.8;\" x=\"118.234091\" xlink:href=\"#m35a6b013e5\" y=\"224.64\"/>\r\n      </g>\r\n     </g>\r\n     <g id=\"text_2\">\r\n      <!-- 2 -->\r\n      <g transform=\"translate(115.052841 239.238437)scale(0.1 -0.1)\">\r\n       <defs>\r\n        <path d=\"M 1228 531 \r\nL 3431 531 \r\nL 3431 0 \r\nL 469 0 \r\nL 469 531 \r\nQ 828 903 1448 1529 \r\nQ 2069 2156 2228 2338 \r\nQ 2531 2678 2651 2914 \r\nQ 2772 3150 2772 3378 \r\nQ 2772 3750 2511 3984 \r\nQ 2250 4219 1831 4219 \r\nQ 1534 4219 1204 4116 \r\nQ 875 4013 500 3803 \r\nL 500 4441 \r\nQ 881 4594 1212 4672 \r\nQ 1544 4750 1819 4750 \r\nQ 2544 4750 2975 4387 \r\nQ 3406 4025 3406 3419 \r\nQ 3406 3131 3298 2873 \r\nQ 3191 2616 2906 2266 \r\nQ 2828 2175 2409 1742 \r\nQ 1991 1309 1228 531 \r\nz\r\n\" id=\"DejaVuSans-32\" transform=\"scale(0.015625)\"/>\r\n       </defs>\r\n       <use xlink:href=\"#DejaVuSans-32\"/>\r\n      </g>\r\n     </g>\r\n    </g>\r\n    <g id=\"xtick_3\">\r\n     <g id=\"line2d_3\">\r\n      <g>\r\n       <use style=\"stroke:#000000;stroke-width:0.8;\" x=\"179.106818\" xlink:href=\"#m35a6b013e5\" y=\"224.64\"/>\r\n      </g>\r\n     </g>\r\n     <g id=\"text_3\">\r\n      <!-- 4 -->\r\n      <g transform=\"translate(175.925568 239.238437)scale(0.1 -0.1)\">\r\n       <defs>\r\n        <path d=\"M 2419 4116 \r\nL 825 1625 \r\nL 2419 1625 \r\nL 2419 4116 \r\nz\r\nM 2253 4666 \r\nL 3047 4666 \r\nL 3047 1625 \r\nL 3713 1625 \r\nL 3713 1100 \r\nL 3047 1100 \r\nL 3047 0 \r\nL 2419 0 \r\nL 2419 1100 \r\nL 313 1100 \r\nL 313 1709 \r\nL 2253 4666 \r\nz\r\n\" id=\"DejaVuSans-34\" transform=\"scale(0.015625)\"/>\r\n       </defs>\r\n       <use xlink:href=\"#DejaVuSans-34\"/>\r\n      </g>\r\n     </g>\r\n    </g>\r\n    <g id=\"xtick_4\">\r\n     <g id=\"line2d_4\">\r\n      <g>\r\n       <use style=\"stroke:#000000;stroke-width:0.8;\" x=\"239.979545\" xlink:href=\"#m35a6b013e5\" y=\"224.64\"/>\r\n      </g>\r\n     </g>\r\n     <g id=\"text_4\">\r\n      <!-- 6 -->\r\n      <g transform=\"translate(236.798295 239.238437)scale(0.1 -0.1)\">\r\n       <defs>\r\n        <path d=\"M 2113 2584 \r\nQ 1688 2584 1439 2293 \r\nQ 1191 2003 1191 1497 \r\nQ 1191 994 1439 701 \r\nQ 1688 409 2113 409 \r\nQ 2538 409 2786 701 \r\nQ 3034 994 3034 1497 \r\nQ 3034 2003 2786 2293 \r\nQ 2538 2584 2113 2584 \r\nz\r\nM 3366 4563 \r\nL 3366 3988 \r\nQ 3128 4100 2886 4159 \r\nQ 2644 4219 2406 4219 \r\nQ 1781 4219 1451 3797 \r\nQ 1122 3375 1075 2522 \r\nQ 1259 2794 1537 2939 \r\nQ 1816 3084 2150 3084 \r\nQ 2853 3084 3261 2657 \r\nQ 3669 2231 3669 1497 \r\nQ 3669 778 3244 343 \r\nQ 2819 -91 2113 -91 \r\nQ 1303 -91 875 529 \r\nQ 447 1150 447 2328 \r\nQ 447 3434 972 4092 \r\nQ 1497 4750 2381 4750 \r\nQ 2619 4750 2861 4703 \r\nQ 3103 4656 3366 4563 \r\nz\r\n\" id=\"DejaVuSans-36\" transform=\"scale(0.015625)\"/>\r\n       </defs>\r\n       <use xlink:href=\"#DejaVuSans-36\"/>\r\n      </g>\r\n     </g>\r\n    </g>\r\n    <g id=\"xtick_5\">\r\n     <g id=\"line2d_5\">\r\n      <g>\r\n       <use style=\"stroke:#000000;stroke-width:0.8;\" x=\"300.852273\" xlink:href=\"#m35a6b013e5\" y=\"224.64\"/>\r\n      </g>\r\n     </g>\r\n     <g id=\"text_5\">\r\n      <!-- 8 -->\r\n      <g transform=\"translate(297.671023 239.238437)scale(0.1 -0.1)\">\r\n       <defs>\r\n        <path d=\"M 2034 2216 \r\nQ 1584 2216 1326 1975 \r\nQ 1069 1734 1069 1313 \r\nQ 1069 891 1326 650 \r\nQ 1584 409 2034 409 \r\nQ 2484 409 2743 651 \r\nQ 3003 894 3003 1313 \r\nQ 3003 1734 2745 1975 \r\nQ 2488 2216 2034 2216 \r\nz\r\nM 1403 2484 \r\nQ 997 2584 770 2862 \r\nQ 544 3141 544 3541 \r\nQ 544 4100 942 4425 \r\nQ 1341 4750 2034 4750 \r\nQ 2731 4750 3128 4425 \r\nQ 3525 4100 3525 3541 \r\nQ 3525 3141 3298 2862 \r\nQ 3072 2584 2669 2484 \r\nQ 3125 2378 3379 2068 \r\nQ 3634 1759 3634 1313 \r\nQ 3634 634 3220 271 \r\nQ 2806 -91 2034 -91 \r\nQ 1263 -91 848 271 \r\nQ 434 634 434 1313 \r\nQ 434 1759 690 2068 \r\nQ 947 2378 1403 2484 \r\nz\r\nM 1172 3481 \r\nQ 1172 3119 1398 2916 \r\nQ 1625 2713 2034 2713 \r\nQ 2441 2713 2670 2916 \r\nQ 2900 3119 2900 3481 \r\nQ 2900 3844 2670 4047 \r\nQ 2441 4250 2034 4250 \r\nQ 1625 4250 1398 4047 \r\nQ 1172 3844 1172 3481 \r\nz\r\n\" id=\"DejaVuSans-38\" transform=\"scale(0.015625)\"/>\r\n       </defs>\r\n       <use xlink:href=\"#DejaVuSans-38\"/>\r\n      </g>\r\n     </g>\r\n    </g>\r\n    <g id=\"xtick_6\">\r\n     <g id=\"line2d_6\">\r\n      <g>\r\n       <use style=\"stroke:#000000;stroke-width:0.8;\" x=\"361.725\" xlink:href=\"#m35a6b013e5\" y=\"224.64\"/>\r\n      </g>\r\n     </g>\r\n     <g id=\"text_6\">\r\n      <!-- 10 -->\r\n      <g transform=\"translate(355.3625 239.238437)scale(0.1 -0.1)\">\r\n       <defs>\r\n        <path d=\"M 794 531 \r\nL 1825 531 \r\nL 1825 4091 \r\nL 703 3866 \r\nL 703 4441 \r\nL 1819 4666 \r\nL 2450 4666 \r\nL 2450 531 \r\nL 3481 531 \r\nL 3481 0 \r\nL 794 0 \r\nL 794 531 \r\nz\r\n\" id=\"DejaVuSans-31\" transform=\"scale(0.015625)\"/>\r\n       </defs>\r\n       <use xlink:href=\"#DejaVuSans-31\"/>\r\n       <use x=\"63.623047\" xlink:href=\"#DejaVuSans-30\"/>\r\n      </g>\r\n     </g>\r\n    </g>\r\n   </g>\r\n   <g id=\"matplotlib.axis_2\">\r\n    <g id=\"ytick_1\">\r\n     <g id=\"line2d_7\">\r\n      <defs>\r\n       <path d=\"M 0 0 \r\nL -3.5 0 \r\n\" id=\"m6711774968\" style=\"stroke:#000000;stroke-width:0.8;\"/>\r\n      </defs>\r\n      <g>\r\n       <use style=\"stroke:#000000;stroke-width:0.8;\" x=\"26.925\" xlink:href=\"#m6711774968\" y=\"224.64\"/>\r\n      </g>\r\n     </g>\r\n     <g id=\"text_7\">\r\n      <!-- 0 -->\r\n      <g transform=\"translate(13.5625 228.439219)scale(0.1 -0.1)\">\r\n       <use xlink:href=\"#DejaVuSans-30\"/>\r\n      </g>\r\n     </g>\r\n    </g>\r\n    <g id=\"ytick_2\">\r\n     <g id=\"line2d_8\">\r\n      <g>\r\n       <use style=\"stroke:#000000;stroke-width:0.8;\" x=\"26.925\" xlink:href=\"#m6711774968\" y=\"188.309173\"/>\r\n      </g>\r\n     </g>\r\n     <g id=\"text_8\">\r\n      <!-- 10 -->\r\n      <g transform=\"translate(7.2 192.108392)scale(0.1 -0.1)\">\r\n       <use xlink:href=\"#DejaVuSans-31\"/>\r\n       <use x=\"63.623047\" xlink:href=\"#DejaVuSans-30\"/>\r\n      </g>\r\n     </g>\r\n    </g>\r\n    <g id=\"ytick_3\">\r\n     <g id=\"line2d_9\">\r\n      <g>\r\n       <use style=\"stroke:#000000;stroke-width:0.8;\" x=\"26.925\" xlink:href=\"#m6711774968\" y=\"151.978346\"/>\r\n      </g>\r\n     </g>\r\n     <g id=\"text_9\">\r\n      <!-- 20 -->\r\n      <g transform=\"translate(7.2 155.777565)scale(0.1 -0.1)\">\r\n       <use xlink:href=\"#DejaVuSans-32\"/>\r\n       <use x=\"63.623047\" xlink:href=\"#DejaVuSans-30\"/>\r\n      </g>\r\n     </g>\r\n    </g>\r\n    <g id=\"ytick_4\">\r\n     <g id=\"line2d_10\">\r\n      <g>\r\n       <use style=\"stroke:#000000;stroke-width:0.8;\" x=\"26.925\" xlink:href=\"#m6711774968\" y=\"115.647519\"/>\r\n      </g>\r\n     </g>\r\n     <g id=\"text_10\">\r\n      <!-- 30 -->\r\n      <g transform=\"translate(7.2 119.446738)scale(0.1 -0.1)\">\r\n       <defs>\r\n        <path d=\"M 2597 2516 \r\nQ 3050 2419 3304 2112 \r\nQ 3559 1806 3559 1356 \r\nQ 3559 666 3084 287 \r\nQ 2609 -91 1734 -91 \r\nQ 1441 -91 1130 -33 \r\nQ 819 25 488 141 \r\nL 488 750 \r\nQ 750 597 1062 519 \r\nQ 1375 441 1716 441 \r\nQ 2309 441 2620 675 \r\nQ 2931 909 2931 1356 \r\nQ 2931 1769 2642 2001 \r\nQ 2353 2234 1838 2234 \r\nL 1294 2234 \r\nL 1294 2753 \r\nL 1863 2753 \r\nQ 2328 2753 2575 2939 \r\nQ 2822 3125 2822 3475 \r\nQ 2822 3834 2567 4026 \r\nQ 2313 4219 1838 4219 \r\nQ 1578 4219 1281 4162 \r\nQ 984 4106 628 3988 \r\nL 628 4550 \r\nQ 988 4650 1302 4700 \r\nQ 1616 4750 1894 4750 \r\nQ 2613 4750 3031 4423 \r\nQ 3450 4097 3450 3541 \r\nQ 3450 3153 3228 2886 \r\nQ 3006 2619 2597 2516 \r\nz\r\n\" id=\"DejaVuSans-33\" transform=\"scale(0.015625)\"/>\r\n       </defs>\r\n       <use xlink:href=\"#DejaVuSans-33\"/>\r\n       <use x=\"63.623047\" xlink:href=\"#DejaVuSans-30\"/>\r\n      </g>\r\n     </g>\r\n    </g>\r\n    <g id=\"ytick_5\">\r\n     <g id=\"line2d_11\">\r\n      <g>\r\n       <use style=\"stroke:#000000;stroke-width:0.8;\" x=\"26.925\" xlink:href=\"#m6711774968\" y=\"79.316692\"/>\r\n      </g>\r\n     </g>\r\n     <g id=\"text_11\">\r\n      <!-- 40 -->\r\n      <g transform=\"translate(7.2 83.11591)scale(0.1 -0.1)\">\r\n       <use xlink:href=\"#DejaVuSans-34\"/>\r\n       <use x=\"63.623047\" xlink:href=\"#DejaVuSans-30\"/>\r\n      </g>\r\n     </g>\r\n    </g>\r\n    <g id=\"ytick_6\">\r\n     <g id=\"line2d_12\">\r\n      <g>\r\n       <use style=\"stroke:#000000;stroke-width:0.8;\" x=\"26.925\" xlink:href=\"#m6711774968\" y=\"42.985865\"/>\r\n      </g>\r\n     </g>\r\n     <g id=\"text_12\">\r\n      <!-- 50 -->\r\n      <g transform=\"translate(7.2 46.785083)scale(0.1 -0.1)\">\r\n       <defs>\r\n        <path d=\"M 691 4666 \r\nL 3169 4666 \r\nL 3169 4134 \r\nL 1269 4134 \r\nL 1269 2991 \r\nQ 1406 3038 1543 3061 \r\nQ 1681 3084 1819 3084 \r\nQ 2600 3084 3056 2656 \r\nQ 3513 2228 3513 1497 \r\nQ 3513 744 3044 326 \r\nQ 2575 -91 1722 -91 \r\nQ 1428 -91 1123 -41 \r\nQ 819 9 494 109 \r\nL 494 744 \r\nQ 775 591 1075 516 \r\nQ 1375 441 1709 441 \r\nQ 2250 441 2565 725 \r\nQ 2881 1009 2881 1497 \r\nQ 2881 1984 2565 2268 \r\nQ 2250 2553 1709 2553 \r\nQ 1456 2553 1204 2497 \r\nQ 953 2441 691 2322 \r\nL 691 4666 \r\nz\r\n\" id=\"DejaVuSans-35\" transform=\"scale(0.015625)\"/>\r\n       </defs>\r\n       <use xlink:href=\"#DejaVuSans-35\"/>\r\n       <use x=\"63.623047\" xlink:href=\"#DejaVuSans-30\"/>\r\n      </g>\r\n     </g>\r\n    </g>\r\n   </g>\r\n   <g id=\"patch_13\">\r\n    <path d=\"M 26.925 224.64 \r\nL 26.925 7.2 \r\n\" style=\"fill:none;stroke:#000000;stroke-linecap:square;stroke-linejoin:miter;stroke-width:0.8;\"/>\r\n   </g>\r\n   <g id=\"patch_14\">\r\n    <path d=\"M 361.725 224.64 \r\nL 361.725 7.2 \r\n\" style=\"fill:none;stroke:#000000;stroke-linecap:square;stroke-linejoin:miter;stroke-width:0.8;\"/>\r\n   </g>\r\n   <g id=\"patch_15\">\r\n    <path d=\"M 26.925 224.64 \r\nL 361.725 224.64 \r\n\" style=\"fill:none;stroke:#000000;stroke-linecap:square;stroke-linejoin:miter;stroke-width:0.8;\"/>\r\n   </g>\r\n   <g id=\"patch_16\">\r\n    <path d=\"M 26.925 7.2 \r\nL 361.725 7.2 \r\n\" style=\"fill:none;stroke:#000000;stroke-linecap:square;stroke-linejoin:miter;stroke-width:0.8;\"/>\r\n   </g>\r\n  </g>\r\n </g>\r\n <defs>\r\n  <clipPath id=\"p976a6a1fa5\">\r\n   <rect height=\"217.44\" width=\"334.8\" x=\"26.925\" y=\"7.2\"/>\r\n  </clipPath>\r\n </defs>\r\n</svg>\r\n",
            "image/png": "[encoded data removed]"
          },
          "metadata": {
            "needs_background": "light"
          }
        }
      ]
    },
    {
      "cell_type": "markdown",
      "metadata": {
        "id": "WIP9GHL-u0dp"
      },
      "source": [
        "EXERCISE 3 - WL-KERNEL"
      ]
    },
    {
      "cell_type": "code",
      "metadata": {
        "id": "GvwfOQc4u0dq"
      },
      "source": [
        "\n",
        "def create_list(n):\n",
        "       q = [*range(1,n,1)]\n",
        "       return q\n",
        "\n",
        "\n",
        "\"\"\" Function to aggregate neighboring color labels  \"\"\"\n",
        "def aggregate_colors(G,node_labels):\n",
        "    \"\"\"\n",
        "    :param G: A networkx graph.\n",
        "    :param node_labels: The node labels assigned to the graphs as colors. \n",
        "    :return agg: A dictionary with keys as the nodes and values as concatenated strings of the node labels of        neighborhood nodes.\n",
        "    \"\"\"\n",
        "     \n",
        "    agg = dict()\n",
        "    for k in range(len(node_labels)):\n",
        "        agg[k+1] = [str(node_labels[k+1])]\n",
        "        a = sorted([dict(G.nodes())[n]['node_label'] for n in G.neighbors(list(dict(G.nodes()).keys())[k])])\n",
        "        agg[k+1] = ''.join(agg[k+1] + [str(i) for i in a])\n",
        "\n",
        "    return agg\n",
        "\n",
        "def wl_graph_features(r, feature_len):\n",
        "    \"\"\"\n",
        "    :param r: A dictionary with keys as the colors and values as their corresponding frequency in the graphs          after refinement.\n",
        "    :feature_len: The length of the feature vector of the graph obatined after color refinement. (No. of colors)\n",
        "    :return wl_features: The feature vectors obtained after color refinement on a graph.\n",
        "    \"\"\"\n",
        "    z = np.zeros(feature_len+1)\n",
        "    e = dict(enumerate(z,start=1))\n",
        "    for k in e:\n",
        "        for key in r:\n",
        "            if k == key:\n",
        "                e[k] = r[key]\n",
        "    wl_features = np.array(list(e.values()))\n",
        "    return wl_features\n"
      ],
      "execution_count": 23,
      "outputs": []
    },
    {
      "cell_type": "code",
      "metadata": {
        "id": "Dk8oSZzqu0dq"
      },
      "source": [
        "def wlkernel(G, G1, feature_len):\n",
        "    \"\"\"\n",
        "    :param G,G1: Two networkx graphs.\n",
        "    :param feature_len: Length of the feature vectors (no. of colors).\n",
        "    :return wl1,wl2: Weisfeiler-Lehman graph feature vectors of G1,G2.\n",
        "    \"\"\"\n",
        "\n",
        "    \"\"\"Get the node labels of input graphs\"\"\"\n",
        "    try:\n",
        "        data_utils.get_node_labels(G)\n",
        "        data_utils.get_node_labels(G1) \n",
        "\n",
        "    except:\n",
        "        labels_G = create_list(len(G)+1)\n",
        "        labels_G1 =create_list(len(G1)+1)\n",
        "\n",
        "        nx.set_node_attributes(G, dict.fromkeys(labels_G, 1), name='label')\n",
        "        node_labels_G = nx.get_node_attributes(G,'label')\n",
        "        \n",
        "\n",
        "        nx.set_node_attributes(G1, dict.fromkeys(labels_G1, 1), name='label')\n",
        "        node_labels_G1 = nx.get_node_attributes(G1,'label')\n",
        "\n",
        "    else :\n",
        "        node_labels_G = dict(enumerate(data_utils.get_node_labels(G), 1))\n",
        "        node_labels_G1 = dict(enumerate(data_utils.get_node_labels(G1), 1))\n",
        "\n",
        "    \"\"\" Initialize colors as the node labels of the input graphs \"\"\"\n",
        "    colors_G = []\n",
        "    colors_G.extend(list(node_labels_G.values()))\n",
        "\n",
        "    colors_G1 = []\n",
        "    colors_G1.extend(list(node_labels_G1.values()))\n",
        "\n",
        "    \"\"\" Aggregate the node labels(colors) of neighboring nodes for every node in the graph \"\"\"\n",
        "    agg_colors_G = aggregate_colors(G,node_labels_G)\n",
        "\n",
        "    agg_colors_G1 = aggregate_colors(G1,node_labels_G1)\n",
        "\n",
        "    \"\"\" Create a hashtable of all unique aggregated node labels\"\"\"\n",
        "    t = list(dict(collections.Counter(sorted(list(map(int, list(agg_colors_G.values()) + list(agg_colors_G1.values())))))).keys())\n",
        "    \n",
        "    \"\"\" Removing duplicate values\"\"\"\n",
        "\n",
        "    for i in range(len(t)):\n",
        "        for j in range(i + 1, len(t)-1):\n",
        "            if sorted(list((map(str,t)))[i]) == sorted(list((map(str,t)))[j]):\n",
        "                t.pop(j)   \n",
        "    \n",
        "    l_start = len(list(collections.Counter(colors_G+colors_G1).keys()))+1\n",
        "\n",
        "    \"\"\" Hash table tt for mapping aggregate labels to new node labels\"\"\"\n",
        "    tt = dict(enumerate(t,l_start))\n",
        "\n",
        "    \"\"\" Assigns new node label value from tt \"\"\"\n",
        "    for k in tt:\n",
        "        for key in agg_colors_G:\n",
        "            if agg_colors_G[key] == str(tt[k]):\n",
        "                node_labels_G[key] = k\n",
        "\n",
        "\n",
        "    for k in tt:\n",
        "        for key in agg_colors_G1:\n",
        "            if agg_colors_G1[key] == str(tt[k]):\n",
        "                node_labels_G1[key] = k\n",
        "\n",
        "    \"\"\" Add the newly obtained node labels to colors \"\"\"\n",
        "    colors_G.extend(list(node_labels_G.values()))\n",
        "    colors_G1.extend(list(node_labels_G1.values()))\n",
        "\n",
        "    \"\"\"One iteration complete\"\"\"\n",
        "\n",
        "    \"\"\" Again aggregate the node labels of neighboring nodes in second iteration \"\"\"\n",
        "    agg_colors_G = aggregate_colors(G,node_labels_G)\n",
        "    agg_colors_G1 = aggregate_colors(G1,node_labels_G1)\n",
        "\n",
        "    \"\"\" Adding unique aggregated node labels to p \"\"\"\n",
        "    p = list(dict(collections.Counter(sorted(list(map(int, list(agg_colors_G.values()) + list(agg_colors_G1.values())))))).keys())\n",
        "\n",
        "    \"\"\" Checking for duplicate values within p and comparing with previously obtained list t \"\"\"\n",
        "    for i in range(len(p)):\n",
        "        for j in range(i + 1, len(p)-1):\n",
        "            if sorted(list((map(str,p)))[i]) == sorted(list((map(str,p)))[j]):\n",
        "                p.pop(j) \n",
        "\n",
        "    try:\n",
        "        for i in range(len(p)):\n",
        "            for j in range(len(t)-1):\n",
        "                if sorted(list((map(str,p)))[i]) == sorted(list((map(str,t)))[j]):\n",
        "                    p.pop(i)      \n",
        "\n",
        "    except:\n",
        "        pass\n",
        "\n",
        "    else:\n",
        "        for i in range(len(p)):\n",
        "            for j in range(len(t)-1):\n",
        "                if sorted(list((map(str,p)))[i]) == sorted(list((map(str,t)))[j]):\n",
        "                    p.pop(i)      \n",
        "\n",
        "    \"\"\" Creating new hash table of all obtained aggregated node labels\"\"\"\n",
        "    pp = dict(enumerate(p,list(tt.keys())[-1]+1))\n",
        "    new_dict = {**tt, **pp}\n",
        "\n",
        "    new_dict = dict(enumerate(sorted(list(new_dict.values())),l_start))\n",
        "\n",
        "    \"\"\" Assigning new node label values from hash table new_dict  \"\"\"\n",
        "    for k in new_dict:\n",
        "        for key in agg_colors_G:\n",
        "            if agg_colors_G[key] == str(new_dict[k]):\n",
        "                node_labels_G[key] = k\n",
        "\n",
        "    for k in new_dict:\n",
        "        for key in agg_colors_G1:\n",
        "            if agg_colors_G1[key] == str(new_dict[k]):\n",
        "                node_labels_G1[key] = k\n",
        "    \n",
        "    \"\"\" Again adding the new nodel labels to the existing colors \"\"\"\n",
        "    colors_G.extend(list(node_labels_G.values()))\n",
        "    colors_G1.extend(list(node_labels_G1.values()))\n",
        "\n",
        "    \"\"\" Computing the frequency of all colors in the graphs  \"\"\" \n",
        "    color_freq1 = collections.Counter(sorted(colors_G))\n",
        "    color_freq2 = collections.Counter(sorted(colors_G1))\n",
        "\n",
        "    r1 = dict(color_freq1)\n",
        "    r2 = dict(color_freq2)\n",
        "\n",
        "    \"\"\" Finally obtaining the feature vectors of the graphs \"\"\"\n",
        "    wl1 = wl_graph_features(r1, feature_len)\n",
        "    wl2 = wl_graph_features(r2, feature_len)\n",
        "    \n",
        "    return wl1,wl2"
      ],
      "execution_count": 24,
      "outputs": [
        {
          "output_type": "error",
          "ename": "IndentationError",
          "evalue": "unexpected indent (<ipython-input-24-011a61cc5d88>, line 36)",
          "traceback": [
            "\u001b[1;36m  File \u001b[1;32m\"<ipython-input-24-011a61cc5d88>\"\u001b[1;36m, line \u001b[1;32m36\u001b[0m\n\u001b[1;33m    agg_colors_G = aggregate_colors(G,node_labels_G)\u001b[0m\n\u001b[1;37m    ^\u001b[0m\n\u001b[1;31mIndentationError\u001b[0m\u001b[1;31m:\u001b[0m unexpected indent\n"
          ]
        }
      ]
    },
    {
      "cell_type": "code",
      "metadata": {
        "id": "e2fJQmpqu0ds",
        "outputId": "82c43145-161e-4dcc-b419-dc9be49adf42"
      },
      "source": [
        "#Test Code\n",
        "with open('datasets/NCI1/data.pkl', 'rb') as f:\n",
        "    graphs = pickle.load(f)\n",
        "G = graphs[4]\n",
        "G1 = graphs[7]\n",
        "wl1, wl2 = wlkernel(G,G1, len(G)+len(G1))\n",
        "print(wl1, wl2)"
      ],
      "execution_count": null,
      "outputs": [
        {
          "output_type": "stream",
          "text": [
            "[ 7.  2. 19.  1.  5.  0.  2.  1.  7.  1.  4.  2.  2.  2.  1.  3.  2.  0.\n",
            "  0.  0.  0.  0.  0.  0.  0.  1.  2.  2.  1.  1.  1.  0.  0.  0.  0.  0.\n",
            "  0.  0.  0.  0.] [ 0.  2. 16.  1.  0.  1.  0.  1.  0.  2. 14.  1.  0.  0.  0.  0.  3.  1.\n",
            "  0.  0.  0.  0.  3.  0.  0.  0.  0.  0.  0.  0.  2.  1.  0.  0.  0.  0.\n",
            "  0.  0.  0.  0.]\n"
          ],
          "name": "stdout"
        }
      ]
    },
    {
      "cell_type": "markdown",
      "metadata": {
        "id": "R4SH0l2GjAne"
      },
      "source": [
        "EXERCISE 4 - SVM"
      ]
    },
    {
      "cell_type": "code",
      "metadata": {
        "id": "-vX7xjPvjAne"
      },
      "source": [
        "with open('datasets/NCI1/data.pkl', 'rb') as f:\n",
        "    nci1 = pickle.load(f)\n",
        "with open('datasets/ENZYMES/data.pkl', 'rb') as f:\n",
        "    dd = pickle.load(f)\n",
        "with open('datasets/NCI1/data.pkl', 'rb') as f:\n",
        "    enzymes = pickle.load(f)"
      ],
      "execution_count": 19,
      "outputs": []
    },
    {
      "cell_type": "code",
      "metadata": {
        "id": "ekpUuIrNjAne"
      },
      "source": [
        "#Computing Gram Matrix\n",
        "def GramMatrix(X1, X2):\n",
        "    \"\"\"(Pre)calculates Gram Matrix K\"\"\"\n",
        "\n",
        "    gram_matrix = np.zeros((X1.shape[0], X2.shape[0]))\n",
        "    for i, x1 in enumerate(X1):\n",
        "        for j, x2 in enumerate(X2):\n",
        "            #dot product of feature vectors\n",
        "            gram_matrix[i, j] = np.dot(x1,x2)\n",
        "    return gram_matrix"
      ],
      "execution_count": 6,
      "outputs": []
    },
    {
      "cell_type": "markdown",
      "metadata": {
        "id": "bxHTc7-_jAnf"
      },
      "source": [
        "Graphlet Kernel"
      ]
    },
    {
      "cell_type": "code",
      "metadata": {
        "id": "_532yEhsjAnf",
        "colab": {
          "base_uri": "https://localhost:8080/"
        },
        "outputId": "dec352f0-fd4a-4cb0-e6a4-136154bb8c31"
      },
      "source": [
        "#NCI1 Dataset\n",
        "target_nci1 = list()\n",
        "for G in nci1:\n",
        "    #as we randomly sample a subgraph of length 5, so graph should have atleast 5 or more nodes\n",
        "    if(G.number_of_nodes()>=5):\n",
        "        target_nci1.append(data_utils.get_graph_label(G))\n",
        "graphlets = graphlet_list(5)\n",
        "descriptive_nci1 = list()\n",
        "for G in nci1:\n",
        "    if(G.number_of_nodes()>=5):\n",
        "        descriptive_nci1.append(graphlet_features(G,graphlets))\n",
        "\n",
        "clf = svm.SVC(kernel=\"precomputed\")\n",
        "scores = cross_val_score(clf, GramMatrix(np.array(descriptive_nci1), np.array(descriptive_nci1)), target_nci1, cv=10)\n",
        "scores"
      ],
      "execution_count": null,
      "outputs": [
        {
          "output_type": "execute_result",
          "data": {
            "text/plain": [
              "array([0.57420925, 0.65450122, 0.66666667, 0.61313869, 0.55717762,\n",
              "       0.59854015, 0.66423358, 0.67396594, 0.58394161, 0.63902439])"
            ]
          },
          "metadata": {
            "tags": []
          },
          "execution_count": 14
        }
      ]
    },
    {
      "cell_type": "code",
      "metadata": {
        "id": "25t1HANJjAnf",
        "colab": {
          "base_uri": "https://localhost:8080/"
        },
        "outputId": "e849d579-7f79-4bbd-eed2-eecbd29a8f27"
      },
      "source": [
        "#DD Dataset\n",
        "target_dd = list()\n",
        "for G in dd:\n",
        "    if(G.number_of_nodes()>=5):\n",
        "        target_dd.append(data_utils.get_graph_label(G))\n",
        "graphlets = graphlet_list(5)\n",
        "descriptive_dd = list()\n",
        "for G in dd:\n",
        "    if(G.number_of_nodes()>=5):\n",
        "        descriptive_dd.append(graphlet_features(G,graphlets))\n",
        "\n",
        "clf = svm.SVC(kernel=\"precomputed\")\n",
        "scores = cross_val_score(clf, GramMatrix(np.array(descriptive_dd), np.array(descriptive_dd)), target_dd, cv=10)\n",
        "scores"
      ],
      "execution_count": null,
      "outputs": [
        {
          "output_type": "execute_result",
          "data": {
            "text/plain": [
              "array([0.28333333, 0.11666667, 0.31666667, 0.23333333, 0.18333333,\n",
              "       0.25      , 0.3       , 0.27118644, 0.22033898, 0.15254237])"
            ]
          },
          "metadata": {
            "tags": []
          },
          "execution_count": 20
        }
      ]
    },
    {
      "cell_type": "code",
      "metadata": {
        "id": "7uzdXCthjAng"
      },
      "source": [
        "#ENZYMES Dataset\n",
        "target_enzymes = list()\n",
        "for G in enzymes:\n",
        "    if(G.number_of_nodes()>=5):\n",
        "        target_enzymes.append(data_utils.get_graph_label(G))\n",
        "graphlets = graphlet_list(5)\n",
        "descriptive_enzymes = list()\n",
        "for G in enzymes:\n",
        "    if(G.number_of_nodes()>=5):\n",
        "        descriptive_enzymes.append(graphlet_features(G,graphlets))\n",
        "\n",
        "clf = svm.SVC(kernel=\"precomputed\")\n",
        "scores = cross_val_score(clf, GramMatrix(np.array(descriptive_enzymes), np.array(descriptive_enzymes)), target_enzymes, cv=10)\n",
        "scores"
      ],
      "execution_count": null,
      "outputs": []
    },
    {
      "cell_type": "markdown",
      "metadata": {
        "id": "t-qZC6nzjAnh"
      },
      "source": [
        "Closed Walk"
      ]
    },
    {
      "cell_type": "code",
      "metadata": {
        "id": "471O8iuLjAnh",
        "colab": {
          "base_uri": "https://localhost:8080/"
        },
        "outputId": "2c75f357-4edc-4447-a64d-df5b6976eeb9"
      },
      "source": [
        "#NCI1 Dataset\n",
        "walklength = 15\n",
        "target_nci1 = list()\n",
        "for G in nci1:\n",
        "    target_nci1.append(data_utils.get_graph_label(G))\n",
        "descriptive_nci1 = list()\n",
        "for G in nci1:\n",
        "    descriptive_nci1.append(closedwalk(G,walklength))\n",
        "\n",
        "clf = svm.SVC(kernel=\"precomputed\")\n",
        "scores = cross_val_score(clf, GramMatrix(np.array(descriptive_nci1), np.array(descriptive_nci1)), target_nci1, cv=10)\n",
        "scores"
      ],
      "execution_count": null,
      "outputs": [
        {
          "output_type": "execute_result",
          "data": {
            "text/plain": [
              "array([0.60827251, 0.68613139, 0.61800487, 0.62773723, 0.60583942,\n",
              "       0.63990268, 0.69099757, 0.67153285, 0.63260341, 0.67639903])"
            ]
          },
          "metadata": {
            "tags": []
          },
          "execution_count": 21
        }
      ]
    },
    {
      "cell_type": "code",
      "metadata": {
        "id": "sNOC0GUZjAni",
        "colab": {
          "base_uri": "https://localhost:8080/"
        },
        "outputId": "de0c38a0-8eee-4d88-f457-3533202151c6"
      },
      "source": [
        "#DD Dataset\n",
        "walklength = 10\n",
        "target_dd = list()\n",
        "for G in dd:\n",
        "    target_dd.append(data_utils.get_graph_label(G))\n",
        "descriptive_dd = list()\n",
        "for G in dd:\n",
        "    descriptive_dd.append(closedwalk(G,walklength))\n",
        "\n",
        "clf = svm.SVC(kernel=\"precomputed\")\n",
        "scores = cross_val_score(clf, GramMatrix(np.array(descriptive_dd), np.array(descriptive_dd)), target_dd, cv=10)\n",
        "scores"
      ],
      "execution_count": null,
      "outputs": [
        {
          "output_type": "execute_result",
          "data": {
            "text/plain": [
              "array([0.23333333, 0.21666667, 0.31666667, 0.26666667, 0.16666667,\n",
              "       0.23333333, 0.21666667, 0.25      , 0.18333333, 0.16666667])"
            ]
          },
          "metadata": {
            "tags": []
          },
          "execution_count": 11
        }
      ]
    },
    {
      "cell_type": "code",
      "metadata": {
        "id": "M_6CghV-jAnk",
        "colab": {
          "base_uri": "https://localhost:8080/"
        },
        "outputId": "f0b862ef-f7ee-4e57-f76c-dbe3dca850a1"
      },
      "source": [
        "#ENZYMES Dataset\n",
        "walklength = 10\n",
        "target_enzymes = list()\n",
        "for G in enzymes:\n",
        "    target_enzymes.append(data_utils.get_graph_label(G))\n",
        "descriptive_enzymes = list()\n",
        "for G in enzymes:\n",
        "    descriptive_enzymes.append(closedwalk(G,walklength))\n",
        "\n",
        "clf = svm.SVC(kernel=\"precomputed\")\n",
        "scores = cross_val_score(clf, GramMatrix(np.array(descriptive_enzymes), np.array(descriptive_enzymes)), target_enzymes, cv=10)\n",
        "scores"
      ],
      "execution_count": null,
      "outputs": [
        {
          "output_type": "execute_result",
          "data": {
            "text/plain": [
              "array([0.60583942, 0.66423358, 0.62043796, 0.62530414, 0.59124088,\n",
              "       0.63260341, 0.66666667, 0.64963504, 0.65450122, 0.66666667])"
            ]
          },
          "metadata": {
            "tags": []
          },
          "execution_count": 13
        }
      ]
    },
    {
      "cell_type": "markdown",
      "metadata": {
        "id": "1dpZuAr9u0dx"
      },
      "source": [
        "WL-Kernel"
      ]
    },
    {
      "cell_type": "code",
      "metadata": {
        "colab": {
          "base_uri": "https://localhost:8080/"
        },
        "id": "WjF_FCZ8u0dy",
        "outputId": "fe854b53-8ad2-41c9-d74f-71b381740e0f"
      },
      "source": [
        "#NCI1 Dataset\n",
        "target_nci1 = list()\n",
        "def compare(x, y):\n",
        "    return len(x) - len(y)\n",
        "sorted_graphs = sorted(nci1, key=cmp_to_key(compare), reverse=True)\n",
        "#fixing the feature length of all graphs in dataset by taking the length of 2 largest graphs and adding their number of nodes\n",
        "feature_len = sum(map(len, sorted_graphs[0:2]))\n",
        "\n",
        "largest_graph = sorted_graphs[0]\n",
        "for G in nci1:\n",
        "    target_nci1.append(data_utils.get_graph_label(G))\n",
        "descriptive_nci1 = list()\n",
        "for G in nci1:\n",
        "    descriptive_nci1.append(wlkernel(G,largest_graph, feature_len)[0])\n",
        "clf = svm.SVC(kernel=\"precomputed\")\n",
        "scores = cross_val_score(clf, GramMatrix(np.array(descriptive_nci1), np.array(descriptive_nci1)), target_nci1, cv=10)\n",
        "scores"
      ],
      "execution_count": 7,
      "outputs": [
        {
          "output_type": "execute_result",
          "data": {
            "text/plain": [
              "array([0.62043796, 0.65693431, 0.69829684, 0.63990268, 0.62530414,\n",
              "       0.6350365 , 0.70316302, 0.68613139, 0.66423358, 0.66909976])"
            ]
          },
          "metadata": {
            "tags": []
          },
          "execution_count": 7
        }
      ]
    },
    {
      "cell_type": "code",
      "metadata": {
        "colab": {
          "base_uri": "https://localhost:8080/",
          "height": 374
        },
        "id": "ajrIQOkmu0dy",
        "outputId": "14042c4d-fcfe-4e03-d046-83e412be3dbe"
      },
      "source": [
        "#DD Dataset\n",
        "target_dd = list()\n",
        "def compare(x, y):\n",
        "    return len(x) - len(y)\n",
        "sorted_graphs = sorted(dd, key=cmp_to_key(compare), reverse=True)\n",
        "feature_len = sum(map(len, sorted_graphs[0:2]))\n",
        "\n",
        "largest_graph = sorted_graphs[0]\n",
        "target_dd = list()\n",
        "for G in dd:\n",
        "    target_dd.append(data_utils.get_graph_label(G))\n",
        "descriptive_dd = list()\n",
        "for G in dd:\n",
        "    descriptive_dd.append(wlkernel(G,largest_graph, feature_len)[0])\n",
        "\n",
        "clf = svm.SVC(kernel=\"precomputed\")\n",
        "scores = cross_val_score(clf, GramMatrix(np.array(descriptive_dd), np.array(descriptive_dd)), target_dd, cv=10)\n",
        "scores"
      ],
      "execution_count": 17,
      "outputs": [
        {
          "output_type": "error",
          "ename": "IndexError",
          "evalue": "ignored",
          "traceback": [
            "\u001b[0;31m---------------------------------------------------------------------------\u001b[0m",
            "\u001b[0;31mIndexError\u001b[0m                                Traceback (most recent call last)",
            "\u001b[0;32m<ipython-input-17-59818579ea46>\u001b[0m in \u001b[0;36m<module>\u001b[0;34m()\u001b[0m\n\u001b[1;32m     12\u001b[0m \u001b[0mdescriptive_dd\u001b[0m \u001b[0;34m=\u001b[0m \u001b[0mlist\u001b[0m\u001b[0;34m(\u001b[0m\u001b[0;34m)\u001b[0m\u001b[0;34m\u001b[0m\u001b[0;34m\u001b[0m\u001b[0m\n\u001b[1;32m     13\u001b[0m \u001b[0;32mfor\u001b[0m \u001b[0mG\u001b[0m \u001b[0;32min\u001b[0m \u001b[0mdd\u001b[0m\u001b[0;34m:\u001b[0m\u001b[0;34m\u001b[0m\u001b[0;34m\u001b[0m\u001b[0m\n\u001b[0;32m---> 14\u001b[0;31m     \u001b[0mdescriptive_dd\u001b[0m\u001b[0;34m.\u001b[0m\u001b[0mappend\u001b[0m\u001b[0;34m(\u001b[0m\u001b[0mwlkernel\u001b[0m\u001b[0;34m(\u001b[0m\u001b[0mG\u001b[0m\u001b[0;34m,\u001b[0m\u001b[0mlargest_graph\u001b[0m\u001b[0;34m,\u001b[0m \u001b[0mfeature_len\u001b[0m\u001b[0;34m)\u001b[0m\u001b[0;34m[\u001b[0m\u001b[0;36m0\u001b[0m\u001b[0;34m]\u001b[0m\u001b[0;34m)\u001b[0m\u001b[0;34m\u001b[0m\u001b[0;34m\u001b[0m\u001b[0m\n\u001b[0m\u001b[1;32m     15\u001b[0m \u001b[0;34m\u001b[0m\u001b[0m\n\u001b[1;32m     16\u001b[0m \u001b[0mclf\u001b[0m \u001b[0;34m=\u001b[0m \u001b[0msvm\u001b[0m\u001b[0;34m.\u001b[0m\u001b[0mSVC\u001b[0m\u001b[0;34m(\u001b[0m\u001b[0mkernel\u001b[0m\u001b[0;34m=\u001b[0m\u001b[0;34m\"precomputed\"\u001b[0m\u001b[0;34m)\u001b[0m\u001b[0;34m\u001b[0m\u001b[0;34m\u001b[0m\u001b[0m\n",
            "\u001b[0;32m<ipython-input-3-ab742a289939>\u001b[0m in \u001b[0;36mwlkernel\u001b[0;34m(G, G1, feature_len)\u001b[0m\n\u001b[1;32m     35\u001b[0m     \u001b[0;32mfor\u001b[0m \u001b[0mi\u001b[0m \u001b[0;32min\u001b[0m \u001b[0mrange\u001b[0m\u001b[0;34m(\u001b[0m\u001b[0mlen\u001b[0m\u001b[0;34m(\u001b[0m\u001b[0mt\u001b[0m\u001b[0;34m)\u001b[0m\u001b[0;34m)\u001b[0m\u001b[0;34m:\u001b[0m\u001b[0;34m\u001b[0m\u001b[0;34m\u001b[0m\u001b[0m\n\u001b[1;32m     36\u001b[0m         \u001b[0;32mfor\u001b[0m \u001b[0mj\u001b[0m \u001b[0;32min\u001b[0m \u001b[0mrange\u001b[0m\u001b[0;34m(\u001b[0m\u001b[0mi\u001b[0m \u001b[0;34m+\u001b[0m \u001b[0;36m1\u001b[0m\u001b[0;34m,\u001b[0m \u001b[0mlen\u001b[0m\u001b[0;34m(\u001b[0m\u001b[0mt\u001b[0m\u001b[0;34m)\u001b[0m\u001b[0;34m-\u001b[0m\u001b[0;36m1\u001b[0m\u001b[0;34m)\u001b[0m\u001b[0;34m:\u001b[0m\u001b[0;34m\u001b[0m\u001b[0;34m\u001b[0m\u001b[0m\n\u001b[0;32m---> 37\u001b[0;31m             \u001b[0;32mif\u001b[0m \u001b[0msorted\u001b[0m\u001b[0;34m(\u001b[0m\u001b[0mlist\u001b[0m\u001b[0;34m(\u001b[0m\u001b[0;34m(\u001b[0m\u001b[0mmap\u001b[0m\u001b[0;34m(\u001b[0m\u001b[0mstr\u001b[0m\u001b[0;34m,\u001b[0m\u001b[0mt\u001b[0m\u001b[0;34m)\u001b[0m\u001b[0;34m)\u001b[0m\u001b[0;34m)\u001b[0m\u001b[0;34m[\u001b[0m\u001b[0mi\u001b[0m\u001b[0;34m]\u001b[0m\u001b[0;34m)\u001b[0m \u001b[0;34m==\u001b[0m \u001b[0msorted\u001b[0m\u001b[0;34m(\u001b[0m\u001b[0mlist\u001b[0m\u001b[0;34m(\u001b[0m\u001b[0;34m(\u001b[0m\u001b[0mmap\u001b[0m\u001b[0;34m(\u001b[0m\u001b[0mstr\u001b[0m\u001b[0;34m,\u001b[0m\u001b[0mt\u001b[0m\u001b[0;34m)\u001b[0m\u001b[0;34m)\u001b[0m\u001b[0;34m)\u001b[0m\u001b[0;34m[\u001b[0m\u001b[0mj\u001b[0m\u001b[0;34m]\u001b[0m\u001b[0;34m)\u001b[0m\u001b[0;34m:\u001b[0m\u001b[0;34m\u001b[0m\u001b[0;34m\u001b[0m\u001b[0m\n\u001b[0m\u001b[1;32m     38\u001b[0m                 \u001b[0mt\u001b[0m\u001b[0;34m.\u001b[0m\u001b[0mpop\u001b[0m\u001b[0;34m(\u001b[0m\u001b[0mj\u001b[0m\u001b[0;34m)\u001b[0m\u001b[0;34m\u001b[0m\u001b[0;34m\u001b[0m\u001b[0m\n\u001b[1;32m     39\u001b[0m \u001b[0;34m\u001b[0m\u001b[0m\n",
            "\u001b[0;31mIndexError\u001b[0m: list index out of range"
          ]
        }
      ]
    },
    {
      "cell_type": "code",
      "metadata": {
        "colab": {
          "base_uri": "https://localhost:8080/"
        },
        "id": "XEEuRH3Lu0dz",
        "outputId": "e0ecebb1-f3ab-4ab6-ba8d-64ad63b3014f"
      },
      "source": [
        "#ENZYMES Dataset\n",
        "target_dd = list()\n",
        "def compare(x, y):\n",
        "    return len(x) - len(y)\n",
        "sorted_graphs = sorted(enzymes, key=cmp_to_key(compare), reverse=True)\n",
        "feature_len = sum(map(len, sorted_graphs[0:2]))\n",
        "\n",
        "largest_graph = sorted_graphs[0]\n",
        "target_enzymes= list()\n",
        "for G in enzymes:\n",
        "    target_enzymes.append(data_utils.get_graph_label(G))\n",
        "descriptive_enzymes = list()\n",
        "for G in enzymes:\n",
        "    descriptive_enzymes.append(wlkernel(G,largest_graph, feature_len)[0])\n",
        "clf = svm.SVC(kernel=\"precomputed\")\n",
        "scores = cross_val_score(clf, GramMatrix(np.array(descriptive_enzymes), np.array(descriptive_enzymes)), target_enzymes, cv=10)\n",
        "scores"
      ],
      "execution_count": 19,
      "outputs": [
        {
          "output_type": "execute_result",
          "data": {
            "text/plain": [
              "array([0.62043796, 0.65693431, 0.69829684, 0.63990268, 0.62530414,\n",
              "       0.6350365 , 0.70316302, 0.68613139, 0.66423358, 0.66909976])"
            ]
          },
          "metadata": {
            "tags": []
          },
          "execution_count": 19
        }
      ]
    }
  ]
}